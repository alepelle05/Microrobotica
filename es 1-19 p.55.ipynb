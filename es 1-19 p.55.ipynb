{
 "cells": [
  {
   "cell_type": "code",
   "execution_count": 19,
   "id": "c3463b4c",
   "metadata": {},
   "outputs": [],
   "source": [
    "import math"
   ]
  },
  {
   "cell_type": "markdown",
   "id": "66f822d8",
   "metadata": {},
   "source": [
    "## es1"
   ]
  },
  {
   "cell_type": "code",
   "execution_count": 3,
   "id": "b8973af9",
   "metadata": {},
   "outputs": [
    {
     "name": "stdout",
     "output_type": "stream",
     "text": [
      "10, tipo: <class 'int'>\n",
      "ciao, tipo: <class 'str'>\n",
      "True, tipo: <class 'bool'>\n",
      "4.3, tipo: <class 'float'>\n"
     ]
    }
   ],
   "source": [
    "a=10\n",
    "b=\"ciao\"\n",
    "d=4.3\n",
    "c=True\n",
    "print(f\"{a}, tipo: {type(a)}\")\n",
    "print(f\"{b}, tipo: {type(b)}\")\n",
    "print(f\"{c}, tipo: {type(c)}\")\n",
    "print(f\"{d}, tipo: {type(d)}\")"
   ]
  },
  {
   "cell_type": "markdown",
   "id": "f55543a4",
   "metadata": {},
   "source": [
    "## es2"
   ]
  },
  {
   "cell_type": "code",
   "execution_count": 4,
   "id": "644432a6",
   "metadata": {},
   "outputs": [
    {
     "name": "stdout",
     "output_type": "stream",
     "text": [
      "12, tipo: <class 'int'>\n",
      "cane, tipo: <class 'str'>\n",
      "45.3, tipo: <class 'float'>\n",
      "False, tipo: <class 'bool'>\n"
     ]
    }
   ],
   "source": [
    "a,b,c,d=12,\"cane\",45.3,False\n",
    "print(f\"{a}, tipo: {type(a)}\")\n",
    "print(f\"{b}, tipo: {type(b)}\")\n",
    "print(f\"{c}, tipo: {type(c)}\")\n",
    "print(f\"{d}, tipo: {type(d)}\")"
   ]
  },
  {
   "cell_type": "markdown",
   "id": "5a0fcc50",
   "metadata": {},
   "source": [
    "## es3"
   ]
  },
  {
   "cell_type": "code",
   "execution_count": 7,
   "id": "66155d5f",
   "metadata": {},
   "outputs": [
    {
     "name": "stdout",
     "output_type": "stream",
     "text": [
      "valori: 23, 45\n",
      "valori: 45, 23\n"
     ]
    }
   ],
   "source": [
    "prima,seconda=23,45\n",
    "print(f\"valori: {prima}, {seconda}\")\n",
    "prima,seconda=seconda,prima\n",
    "print(f\"valori: {prima}, {seconda}\")"
   ]
  },
  {
   "cell_type": "markdown",
   "id": "054d8f7d",
   "metadata": {},
   "source": [
    "## es4"
   ]
  },
  {
   "cell_type": "code",
   "execution_count": 9,
   "id": "08de9a7d",
   "metadata": {},
   "outputs": [
    {
     "name": "stdout",
     "output_type": "stream",
     "text": [
      "lettere iniziali: pa, finale: la\n"
     ]
    }
   ],
   "source": [
    "stringa=\"parola\"\n",
    "print(f\"lettere iniziali: {stringa[:1]}, finale: {stringa[-1:]}\")"
   ]
  },
  {
   "cell_type": "markdown",
   "id": "7b179848",
   "metadata": {},
   "source": [
    "## es5"
   ]
  },
  {
   "cell_type": "code",
   "execution_count": 10,
   "id": "1a63bf7c",
   "metadata": {},
   "outputs": [
    {
     "name": "stdout",
     "output_type": "stream",
     "text": [
      "parola senza iniziale e finale: arol\n"
     ]
    }
   ],
   "source": [
    "print(f\"parola senza iniziale e finale: {stringa[1:-1]}\")"
   ]
  },
  {
   "cell_type": "markdown",
   "id": "db95582c",
   "metadata": {},
   "source": [
    "## es6"
   ]
  },
  {
   "cell_type": "code",
   "execution_count": 14,
   "id": "59baefc3",
   "metadata": {},
   "outputs": [
    {
     "name": "stdout",
     "output_type": "stream",
     "text": [
      "i\n",
      "o\n"
     ]
    }
   ],
   "source": [
    "stringa=\"ciao\"\n",
    "for i in range (len(stringa)):\n",
    "    if i%2==1:\n",
    "        print(stringa[i])"
   ]
  },
  {
   "cell_type": "markdown",
   "id": "f46d693c",
   "metadata": {},
   "source": [
    "## es7"
   ]
  },
  {
   "cell_type": "code",
   "execution_count": 18,
   "id": "5a0d85bd",
   "metadata": {},
   "outputs": [
    {
     "data": {
      "text/plain": [
       "'oaic'"
      ]
     },
     "execution_count": 18,
     "metadata": {},
     "output_type": "execute_result"
    }
   ],
   "source": [
    "stir=\"\"\n",
    "for i in range (len(stringa)):\n",
    "    stir=stir+stringa[-i-1]\n",
    "stir"
   ]
  },
  {
   "cell_type": "markdown",
   "id": "f1949c32",
   "metadata": {},
   "source": [
    "## es8"
   ]
  },
  {
   "cell_type": "code",
   "execution_count": 21,
   "id": "48e037f2",
   "metadata": {},
   "outputs": [
    {
     "name": "stdout",
     "output_type": "stream",
     "text": [
      "pe?legrino\n"
     ]
    }
   ],
   "source": [
    "parola=\"pellegrino\"\n",
    "print(parola[:2]+\"?\"+parola[3:])"
   ]
  },
  {
   "cell_type": "markdown",
   "id": "daea721d",
   "metadata": {},
   "source": [
    "## es9"
   ]
  },
  {
   "cell_type": "code",
   "execution_count": 24,
   "id": "4d1dfd21",
   "metadata": {},
   "outputs": [
    {
     "data": {
      "text/plain": [
       "53.25410782277739"
      ]
     },
     "execution_count": 24,
     "metadata": {},
     "output_type": "execute_result"
    }
   ],
   "source": [
    "punto1=(23,45)\n",
    "punto2=(53,1)\n",
    "#Distanza = √((x2 - x1)² + (y2 - y1)²)\n",
    "distanza=math.sqrt((punto1[0]-punto2[0])**2+(punto1[1]-punto2[1])**2)\n",
    "distanza"
   ]
  },
  {
   "cell_type": "markdown",
   "id": "9040b553",
   "metadata": {},
   "source": [
    "## es10"
   ]
  },
  {
   "cell_type": "code",
   "execution_count": 26,
   "id": "0c604bb4",
   "metadata": {},
   "outputs": [
    {
     "name": "stdout",
     "output_type": "stream",
     "text": [
      "[6, 8, 4, 9, 6, 7]\n",
      "[6, 8, 4, 10, 6, 7]\n",
      "[5, 6, 8]\n"
     ]
    }
   ],
   "source": [
    "lista_voti=[5,6,8,4,9,6,7,8]\n",
    "print(lista_voti[1:-1])\n",
    "lista_voti[4]=10\n",
    "print(lista_voti[1:-1])\n",
    "print(lista_voti[:3])"
   ]
  },
  {
   "cell_type": "markdown",
   "id": "c38cf270",
   "metadata": {},
   "source": [
    "## es11\n",
    "//-> permette di fare una divisione intera\n",
    "/-> restituisce un float\n",
    "il range è in iteratore"
   ]
  },
  {
   "cell_type": "code",
   "execution_count": 1,
   "id": "d1bf2e22",
   "metadata": {},
   "outputs": [
    {
     "name": "stdout",
     "output_type": "stream",
     "text": [
      "[0, 1, 2, 3, 4]     [5, 6, 7, 8, 9]\n",
      "[0, 1, 2, 3, 4, 5]\n"
     ]
    }
   ],
   "source": [
    "x=list(range(0,10))\n",
    "y,z=x[:(len(x)//2)],x[(len(x)//2):]\n",
    "print(f\"{y}     {z}\")\n",
    "y.append(5)\n",
    "print(y)"
   ]
  },
  {
   "cell_type": "markdown",
   "id": "055bcb45",
   "metadata": {},
   "source": [
    "## es12"
   ]
  },
  {
   "cell_type": "code",
   "execution_count": 3,
   "id": "572d6611",
   "metadata": {},
   "outputs": [
    {
     "name": "stdout",
     "output_type": "stream",
     "text": [
      "[0, 1, 2, 3, 4, 5, 6, 7]\n"
     ]
    }
   ],
   "source": [
    "A=[0,1,2,3]\n",
    "B=[4,5,6,7]\n",
    "print(A+B)"
   ]
  },
  {
   "cell_type": "code",
   "execution_count": 4,
   "id": "13a78532",
   "metadata": {},
   "outputs": [
    {
     "data": {
      "text/plain": [
       "[0, 1, 2, 3, 0, 1, 2, 3, 0, 1, 2, 3]"
      ]
     },
     "execution_count": 4,
     "metadata": {},
     "output_type": "execute_result"
    }
   ],
   "source": [
    "A*3"
   ]
  },
  {
   "cell_type": "markdown",
   "id": "259771f3",
   "metadata": {},
   "source": [
    "## es 13"
   ]
  },
  {
   "cell_type": "code",
   "execution_count": 10,
   "id": "ddb59488",
   "metadata": {},
   "outputs": [
    {
     "name": "stdout",
     "output_type": "stream",
     "text": [
      "in numero di alessandro è: 5421236545\n"
     ]
    },
    {
     "data": {
      "text/plain": [
       "{'matteo': 333548921,\n",
       " 'alessandro': 5421236545,\n",
       " 'mattia': 6352136325,\n",
       " 'gino': 5365214214}"
      ]
     },
     "execution_count": 10,
     "metadata": {},
     "output_type": "execute_result"
    }
   ],
   "source": [
    "rubrica={\"matteo\":333548921,\"alessandro\":5421236545,\"mattia\":6352136325}\n",
    "rubrica\n",
    "print(f\"in numero di alessandro è: {rubrica['alessandro']}\")\n",
    "rubrica['gino']=5365214214\n",
    "rubrica"
   ]
  },
  {
   "cell_type": "markdown",
   "id": "b3fa8e6d",
   "metadata": {},
   "source": [
    "## es14"
   ]
  },
  {
   "cell_type": "code",
   "execution_count": 1,
   "id": "36132987",
   "metadata": {},
   "outputs": [
    {
     "name": "stdout",
     "output_type": "stream",
     "text": [
      "inserisci il nome: alessio\n",
      "il tuo nome invertiro è: oissela\n"
     ]
    }
   ],
   "source": [
    "nome=str(input(\"inserisci il nome: \"))\n",
    "nomeInvert=\"\"\n",
    "for i in range(len(nome)):\n",
    "    nomeInvert=nomeInvert+nome[-i-1]\n",
    "nomeInvert\n",
    "print(f\"il tuo nome invertiro è: {nome[::-1]}\")"
   ]
  },
  {
   "cell_type": "markdown",
   "id": "4ec8130c",
   "metadata": {},
   "source": [
    "## es15"
   ]
  },
  {
   "cell_type": "code",
   "execution_count": 3,
   "id": "58dfd27c",
   "metadata": {},
   "outputs": [
    {
     "name": "stdout",
     "output_type": "stream",
     "text": [
      "inserisci il nome: alessio\n"
     ]
    },
    {
     "data": {
      "text/plain": [
       "'a******'"
      ]
     },
     "execution_count": 3,
     "metadata": {},
     "output_type": "execute_result"
    }
   ],
   "source": [
    "nome=str(input(\"inserisci il nome: \"))\n",
    "'''\n",
    "nomeInvert=nome[0]\n",
    "for i in range(len(nome)-1):\n",
    "    nomeInvert=nomeInvert+\"*\"\n",
    "nomeInvert\n",
    "'''\n",
    "nome=nome[0]+(len(nome)-1)*\"*\"\n",
    "nome"
   ]
  },
  {
   "cell_type": "markdown",
   "id": "3e6c3ec4",
   "metadata": {},
   "source": [
    "## es16"
   ]
  },
  {
   "cell_type": "code",
   "execution_count": 16,
   "id": "5a5e4564",
   "metadata": {},
   "outputs": [
    {
     "name": "stdout",
     "output_type": "stream",
     "text": [
      "inserisci il nome: alessio\n"
     ]
    },
    {
     "data": {
      "text/plain": [
       "['a', 'l', 'e', 's', 's', 'i', 'o']"
      ]
     },
     "execution_count": 16,
     "metadata": {},
     "output_type": "execute_result"
    }
   ],
   "source": [
    "nome=str(input(\"inserisci il nome: \"))\n",
    "nomeLista=list(nome)\n",
    "nomeLista"
   ]
  },
  {
   "cell_type": "markdown",
   "id": "aa35c535",
   "metadata": {},
   "source": [
    "## es17"
   ]
  },
  {
   "cell_type": "code",
   "execution_count": 20,
   "id": "f1ff4ed7",
   "metadata": {},
   "outputs": [
    {
     "name": "stdout",
     "output_type": "stream",
     "text": [
      "inserisci la x del punto 1: 6\n",
      "inserisci la y del punto 1: 9\n",
      "inserisci la x del punto 2: 5\n",
      "inserisci la y del punto 2: 1\n"
     ]
    },
    {
     "data": {
      "text/plain": [
       "8.06225774829855"
      ]
     },
     "execution_count": 20,
     "metadata": {},
     "output_type": "execute_result"
    }
   ],
   "source": [
    "pX1=int(input(\"inserisci la x del punto 1: \"))\n",
    "pY1=int(input(\"inserisci la y del punto 1: \"))\n",
    "pX2=int(input(\"inserisci la x del punto 2: \"))\n",
    "pY2=int(input(\"inserisci la y del punto 2: \"))\n",
    "punt1=(pX1,pY1)\n",
    "punt2=(pX2,pY2)\n",
    "distanza=math.sqrt((punt1[0]-punt2[0])**2+(punt1[1]-punt2[1])**2)\n",
    "distanza"
   ]
  },
  {
   "cell_type": "markdown",
   "id": "94477e19",
   "metadata": {},
   "source": [
    "## es18"
   ]
  },
  {
   "cell_type": "code",
   "execution_count": 23,
   "id": "51bd8169",
   "metadata": {},
   "outputs": [
    {
     "name": "stdout",
     "output_type": "stream",
     "text": [
      "inserisci il primo numero: 6\n",
      "inserisci il secondo numero: 4\n"
     ]
    },
    {
     "data": {
      "text/plain": [
       "[52, 100, 20, 4]"
      ]
     },
     "execution_count": 23,
     "metadata": {},
     "output_type": "execute_result"
    }
   ],
   "source": [
    "num1=int(input(\"inserisci il primo numero: \"))\n",
    "num2=int(input(\"inserisci il secondo numero: \"))\n",
    "lista=[]\n",
    "lista.append(num1**2+num2**2)\n",
    "lista.append((num1+num2)**2)\n",
    "lista.append(num1**2-num2**2)\n",
    "lista.append((num1-num2)**2)\n",
    "lista"
   ]
  },
  {
   "cell_type": "markdown",
   "id": "7211ed59",
   "metadata": {},
   "source": [
    "## es19"
   ]
  },
  {
   "cell_type": "code",
   "execution_count": 24,
   "id": "addbe1b4",
   "metadata": {},
   "outputs": [
    {
     "name": "stdout",
     "output_type": "stream",
     "text": [
      "inserisci il primo numero: 5\n",
      "inserisci il secondo numero: 9\n"
     ]
    },
    {
     "data": {
      "text/plain": [
       "{'media artmetica': 7.0, 'media geometrica': 6.708203932499369}"
      ]
     },
     "execution_count": 24,
     "metadata": {},
     "output_type": "execute_result"
    }
   ],
   "source": [
    "n1=int(input(\"inserisci il primo numero: \"))\n",
    "n2=int(input(\"inserisci il secondo numero: \"))\n",
    "medie={}\n",
    "medie[\"media artmetica\"]=(n1+n2)/2\n",
    "medie[\"media geometrica\"]=math.sqrt(n1*n2)\n",
    "medie"
   ]
  },
  {
   "cell_type": "code",
   "execution_count": null,
   "id": "c9c0f2e6",
   "metadata": {},
   "outputs": [],
   "source": []
  }
 ],
 "metadata": {
  "kernelspec": {
   "display_name": "Python 3 (ipykernel)",
   "language": "python",
   "name": "python3"
  },
  "language_info": {
   "codemirror_mode": {
    "name": "ipython",
    "version": 3
   },
   "file_extension": ".py",
   "mimetype": "text/x-python",
   "name": "python",
   "nbconvert_exporter": "python",
   "pygments_lexer": "ipython3",
   "version": "3.11.4"
  }
 },
 "nbformat": 4,
 "nbformat_minor": 5
}
