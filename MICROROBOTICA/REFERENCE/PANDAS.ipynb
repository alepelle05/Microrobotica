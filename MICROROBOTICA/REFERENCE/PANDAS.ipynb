{
 "cells": [
  {
   "cell_type": "code",
   "execution_count": null,
   "id": "6476a6ee",
   "metadata": {},
   "outputs": [],
   "source": [
    "data=pd.read_csv(\"./data.csv\",na_values=-99999.00)\n",
    "data.dropna(inplace=True)\n",
    "data"
   ]
  },
  {
   "cell_type": "code",
   "execution_count": null,
   "id": "a70056fe",
   "metadata": {},
   "outputs": [],
   "source": [
    "data.tail()"
   ]
  },
  {
   "cell_type": "code",
   "execution_count": null,
   "id": "6b3a4735",
   "metadata": {},
   "outputs": [],
   "source": [
    "data.columns"
   ]
  },
  {
   "cell_type": "code",
   "execution_count": null,
   "id": "bba650f1",
   "metadata": {},
   "outputs": [],
   "source": [
    "data.info()"
   ]
  },
  {
   "cell_type": "code",
   "execution_count": null,
   "id": "069d1db3",
   "metadata": {},
   "outputs": [],
   "source": [
    "data.describe()"
   ]
  },
  {
   "cell_type": "code",
   "execution_count": null,
   "id": "fce7c75b",
   "metadata": {},
   "outputs": [],
   "source": [
    "dati_np=dati[dati[\"FUEL\"]==\"X\"][[\"FUEL CONSUMPTION\",\"EMISSIONS\"]].values\n",
    "dati_np"
   ]
  },
  {
   "cell_type": "code",
   "execution_count": null,
   "id": "252be7df",
   "metadata": {},
   "outputs": [],
   "source": [
    "X=dati_np[:,0]\n",
    "Y=dati_np[:,1]"
   ]
  },
  {
   "cell_type": "code",
   "execution_count": null,
   "id": "1bd96d80",
   "metadata": {},
   "outputs": [],
   "source": [
    "##mi rileva quali colonne hanno valori nulli, se è 0 no nulli\n",
    "cols_with_missinf=[col for col in marziani.columns if marziani[col].isnull().sum()]\n",
    "print(cols_with_missinf)\n",
    "select_cols=[\"peso\",\"altezza\",\"larghezza\"]"
   ]
  },
  {
   "cell_type": "code",
   "execution_count": null,
   "id": "009f9924",
   "metadata": {},
   "outputs": [],
   "source": [
    "d=marziani.dropna(axis=\"index\",subset=select_cols)\n",
    "d.shape"
   ]
  },
  {
   "cell_type": "code",
   "execution_count": null,
   "id": "16464b98",
   "metadata": {},
   "outputs": [],
   "source": [
    "data=pd.read_csv(\"./sp500.csv\", usecols=[\"Date\",\"SP500\"],\n",
    "                parse_dates=[\"Date\"], index_col=\"Date\")\n",
    "#definiamo le colonne fin da subito, diciamo di interpretare la data come data\n",
    "data"
   ]
  },
  {
   "cell_type": "code",
   "execution_count": null,
   "id": "9583548d",
   "metadata": {},
   "outputs": [],
   "source": [
    "data[\"DF1900\"]=(data.index-pd.to_datetime(\"1900-01-01\")).days##continamo il numero di gironi dalla prima data\n",
    "data.set_index(\"DF1900\", inplace=True)#impostiamo la dolonna come indice, solo valori numerici\n",
    "\n",
    "data[\"DF1900\"]=data.index\n",
    "data"
   ]
  },
  {
   "cell_type": "code",
   "execution_count": null,
   "id": "331a8ebd",
   "metadata": {},
   "outputs": [],
   "source": [
    "dati=pd.read_csv(\"./MonthElb_012010_004028900.csv\",header=None,names=[\"DATA\",\"ORA\",\n",
    "                                                                      \"ID_RETE_MONIT\",\"CODICE_ISTAT_COMUNE\",\n",
    "                                                                      \"PROGR_PUNTO_COM\",\"VELV\",\n",
    "                                                                     \"DIRV\",\"DEVST\",\"BARO\",\n",
    "                                                                     \"TERMA\",\"IGRO\",\n",
    "                                                                     \"RADD\",\"RADR\",\n",
    "                                                                      \"PLUV\"], na_values=\"9999.9\")\n",
    "dati.head()#mi mostra la testa dei dati"
   ]
  }
 ],
 "metadata": {
  "kernelspec": {
   "display_name": "Python 3 (ipykernel)",
   "language": "python",
   "name": "python3"
  },
  "language_info": {
   "codemirror_mode": {
    "name": "ipython",
    "version": 3
   },
   "file_extension": ".py",
   "mimetype": "text/x-python",
   "name": "python",
   "nbconvert_exporter": "python",
   "pygments_lexer": "ipython3",
   "version": "3.11.4"
  }
 },
 "nbformat": 4,
 "nbformat_minor": 5
}
