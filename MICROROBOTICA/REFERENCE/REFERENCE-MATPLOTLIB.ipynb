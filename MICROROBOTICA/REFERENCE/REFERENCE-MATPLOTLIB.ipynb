{
 "cells": [
  {
   "cell_type": "code",
   "execution_count": null,
   "id": "db18ac4f",
   "metadata": {},
   "outputs": [],
   "source": [
    "##PLOTTO TRE FUNZIONI, GRAFICO A LINEA\n",
    "\n",
    "fig,ax=plt.subplots(figsize=(8,5))\n",
    "plt.plot(year,10*sales, label=\"vendite di sigarette al giorno per persona per 10\")\n",
    "plt.plot(year,rate_male, label=\"tasso di mortalità per i maschi\")\n",
    "plt.plot(year,rate_female, label=\"tasso di mortalità per le donne\")\n",
    "ax.set_xlabel(\"anno\")\n",
    "ax.set_ylabel(\"num_sigarette\")\n",
    "ax.legend(loc=\"upper right\")\n",
    "ax.grid()\n",
    "plt.show()"
   ]
  },
  {
   "cell_type": "code",
   "execution_count": null,
   "id": "7060e7ec",
   "metadata": {},
   "outputs": [],
   "source": [
    "##GRAFICO A DISPERSIONE\n",
    "\n",
    "fig, ax=plt.subplots(figsize=(6,6))\n",
    "ax.scatter(sales[:-lag], rate_male_lag)\n",
    "ax.set_xlabel(\"vendite di sigarette al giorno per persona per 10\")\n",
    "ax.set_ylabel(\"tasso di mortalità per i maschi\")\n",
    "ax.grid()\n",
    "plt.plot()"
   ]
  },
  {
   "cell_type": "code",
   "execution_count": null,
   "id": "b969e06e",
   "metadata": {},
   "outputs": [],
   "source": [
    "#ISTOGRAMMI\n",
    "\n",
    "fig, ax=plt.subplots(figsize=(6,2))\n",
    "ax.hist(consumi,bins=50)#aumento il numero di barre, posso mettere la lista degli intervalli\n",
    "ax.set_xlabel(\"consumi l/100km\")\n",
    "ax.set_ylabel(\"numero di auto\")\n",
    "ax.grid()\n",
    "plt.show()"
   ]
  }
 ],
 "metadata": {
  "kernelspec": {
   "display_name": "Python 3 (ipykernel)",
   "language": "python",
   "name": "python3"
  },
  "language_info": {
   "codemirror_mode": {
    "name": "ipython",
    "version": 3
   },
   "file_extension": ".py",
   "mimetype": "text/x-python",
   "name": "python",
   "nbconvert_exporter": "python",
   "pygments_lexer": "ipython3",
   "version": "3.11.4"
  }
 },
 "nbformat": 4,
 "nbformat_minor": 5
}
