{
 "cells": [
  {
   "cell_type": "code",
   "execution_count": null,
   "id": "3c52bdf0",
   "metadata": {},
   "outputs": [],
   "source": [
    "import numpy as np\n",
    "import pandas as pd\n",
    "import matplotlib.pyplot as plt\n",
    "from sklearn.linear_model import LinearRegression\n",
    "from sklearn.preprocessing import StandardScaler\n",
    "from sklearn.neural_network import MLPClassifier\n",
    "from sklearn.preprocessing import LabelEncoder"
   ]
  },
  {
   "cell_type": "code",
   "execution_count": null,
   "id": "44bd775b",
   "metadata": {},
   "outputs": [],
   "source": [
    "##PLOTTO LE EPOCHE IN BASE ALLO SCORE\n",
    "\n",
    "import numpy as np\n",
    "from sklearn.neural_network import MLPClassifier\n",
    "start=100\n",
    "stop=300\n",
    "passo=10\n",
    "\n",
    "vEpochs=np.arange(start,stop,passo)\n",
    "vAccTrain=[]\n",
    "vAccTest=[]\n",
    "for e in vEpochs:\n",
    "    mlp=MLPClassifier(hidden_layer_sizes=(5,5), random_state=1, max_iter=e)\n",
    "    mlp.fit(x_train_std,y_train)\n",
    "    vAccTrain.append(mlp.score(x_train_std,y_train))\n",
    "    vAccTest.append(mlp.score(x_test_std,y_test))\n",
    "    \n",
    "import matplotlib.pyplot as plt\n",
    "plt.plot(vEpochs, vAccTrain, c=\"b\",label=\"Train\")\n",
    "plt.plot(vEpochs, vAccTest, c=\"g\",label=\"Test\")\n",
    "plt.legend()"
   ]
  },
  {
   "cell_type": "code",
   "execution_count": null,
   "id": "1a73d927",
   "metadata": {},
   "outputs": [],
   "source": [
    "##NORMALIZZAZIONE\n",
    "\n",
    "x_train_std=((x_train-x_train.mean())/x_train.std())"
   ]
  },
  {
   "cell_type": "code",
   "execution_count": null,
   "id": "6adfb4bc",
   "metadata": {},
   "outputs": [],
   "source": [
    "x=dati[dati.columns[1:]]\n",
    "y=dati[\"class\"]\n",
    "\n",
    "print(f\"\"\"\n",
    "\n",
    "{x.head()}\n",
    "\n",
    "{y.head()}\n",
    "\n",
    "\"\"\")"
   ]
  },
  {
   "cell_type": "code",
   "execution_count": null,
   "id": "1b6db25f",
   "metadata": {},
   "outputs": [],
   "source": [
    "##DIVISIONE IN TEST E TRAIN\n",
    "\n",
    "from sklearn.model_selection import train_test_split\n",
    "#gli passo i 2 set di prima, quelli ripuliti dai null e la grandezza, va da 0 a 1, rapprensenta la percentuale di dati da inserire\n",
    "x_train, x_test, y_train, y_test=train_test_split(x,y,train_size=0.7,random_state=0)\n",
    "#random_state, questo imposta un seed, questo ci rende il random pseudo casuale, imposta il seme\n",
    "\n",
    "print(x_train.head())"
   ]
  },
  {
   "cell_type": "code",
   "execution_count": null,
   "id": "4f797f45",
   "metadata": {},
   "outputs": [],
   "source": [
    "##FIT DI UN CLASSIFICATORE\n",
    "\n",
    "from sklearn.neural_network import MLPClassifier\n",
    "\n",
    "model=MLPClassifier(hidden_layer_sizes=(100,100), random_state=1, max_iter=300)\n",
    "model.fit(x_train_std, y_train)\n",
    "print(f\"\"\"\n",
    "Tain\n",
    "{y_train.values[:5]}\n",
    "{model.predict(x_train_std[:5])}\n",
    "\"\"\")\n",
    "print(f\"accuratezza set train: {model.score(x_train_std,y_train)}\")\n",
    "print(f\"accuratezza set test: {model.score(x_test_std,y_test)}\")"
   ]
  },
  {
   "cell_type": "code",
   "execution_count": null,
   "id": "9f602308",
   "metadata": {},
   "outputs": [],
   "source": [
    "colonne_scelte=data_numerico[['cap-shape','habitat','cap-color','bruises','odor']]\n",
    "x=colonne_scelte\n",
    "y=data_numerico['class']\n",
    "\n",
    "x_train, x_test, y_train, y_test=train_test_split(x,y,train_size=0.70,random_state=0)\n",
    "\n",
    "model=MLPClassifier(hidden_layer_sizes=(30,30), random_state=1, max_iter=200)\n",
    "model.fit(x_train, y_train)\n",
    "print(f\"accuratezza set train: {model.score(x_train_std,y_train)}\")\n",
    "print(f\"accuratezza set test: {model.score(x_test_std,y_test)}\")"
   ]
  },
  {
   "cell_type": "code",
   "execution_count": null,
   "id": "97f1ec6d",
   "metadata": {},
   "outputs": [],
   "source": [
    "##LABEL ENCODER\n",
    "#la uso per trasformare le colonne numeriche in numeri\n",
    "\n",
    "from sklearn.preprocessing import LabelEncoder\n",
    "import numpy as np\n",
    "\n",
    "dati=data.copy()\n",
    "dizionario_le={}\n",
    "for col in data.columns:\n",
    "    label_encoder = LabelEncoder()\n",
    "    # Codifica solo le colonne di tipo 'object' (stringhe)\n",
    "    dati[col] = label_encoder.fit_transform(data[col])\n",
    "    dizionario_le[col]=label_encoder"
   ]
  },
  {
   "cell_type": "code",
   "execution_count": null,
   "id": "8693b804",
   "metadata": {},
   "outputs": [],
   "source": [
    "sessi=np.array(data[\"sex\"])\n",
    "for i,sesso in enumerate(np.unique(data[\"sex\"])):\n",
    "    sessi[sessi==sesso]=int(i)\n",
    "    \n",
    "isole=np.array(data[\"island\"])\n",
    "for i,isola in enumerate(np.unique(data[\"island\"])):\n",
    "    isole[isole==isola]=int(i)"
   ]
  },
  {
   "cell_type": "code",
   "execution_count": null,
   "id": "4cf38bd0",
   "metadata": {},
   "outputs": [],
   "source": [
    "dizionario_le['habitat'].classes_"
   ]
  },
  {
   "cell_type": "code",
   "execution_count": null,
   "id": "f715f8cb",
   "metadata": {},
   "outputs": [],
   "source": [
    "dizionario_le['habitat'].transform(['m'])"
   ]
  },
  {
   "cell_type": "code",
   "execution_count": null,
   "id": "027f1a90",
   "metadata": {},
   "outputs": [],
   "source": [
    "dizionario_le['habitat'].inverse_transform([3])"
   ]
  },
  {
   "cell_type": "code",
   "execution_count": null,
   "id": "55f0f9ae",
   "metadata": {},
   "outputs": [],
   "source": [
    "label_encoder_island=LabelEncoder()\n",
    "label_encoder_island.fit_transform(data[\"island\"])\n",
    "data[\"island_numerica\"]=label_encoder_island.fit_transform(data[\"island\"])"
   ]
  },
  {
   "cell_type": "markdown",
   "id": "72cabda8",
   "metadata": {},
   "source": [
    "la normalizzazione serve per i regressori qualora non funzionano, si prova e poi si decide\n",
    "obbligatoria per le reti neurali tranne quando abbiamo features dello stesso tipo es le cifre no i pinguini si\n",
    "\n",
    "la rete neurale da più peso alle reti più grandi"
   ]
  },
  {
   "cell_type": "code",
   "execution_count": null,
   "id": "328e5a25",
   "metadata": {},
   "outputs": [],
   "source": [
    "##mio codice per iterare sui fit\n",
    "#addestrop la rete su tutte le combinazioni di features e poi stampo le più alte\n",
    "\n",
    "max=[]\n",
    "for i in range (100):\n",
    "    col = np.random.choice(dati.columns[1:],size=5, replace=False)\n",
    "    colonne_scelte=dati[col]\n",
    "    x=colonne_scelte\n",
    "    y=dati['class']\n",
    "\n",
    "    x_train, x_test, y_train, y_test=train_test_split(x,y,train_size=0.70,random_state=0)\n",
    "\n",
    "    model=MLPClassifier(hidden_layer_sizes=(30,30), random_state=1, max_iter=200)\n",
    "    model.fit(x_train, y_train)\n",
    "    if (model.score(x_train,y_train)==1.0) and (model.score(x_test,y_test)==1.0):\n",
    "        print(f\"\\n\\n features: {col}\")\n",
    "        print(f\"accuratezza set train: {model.score(x_train,y_train)}\")\n",
    "        print(f\"accuratezza set test: {model.score(x_test,y_test)}\")\n",
    "        break"
   ]
  },
  {
   "cell_type": "code",
   "execution_count": null,
   "id": "d1b9abe0",
   "metadata": {},
   "outputs": [],
   "source": [
    "facce=[]\n",
    "for faccia in data[\"pixels\"]:\n",
    "    facce.append(faccia.split(\" \"))\n",
    "facce=np.array(facce, dtype=int)\n",
    "facce\n",
    "df = pd.DataFrame(facce)\n",
    "df"
   ]
  },
  {
   "cell_type": "code",
   "execution_count": null,
   "id": "27aaa138",
   "metadata": {},
   "outputs": [],
   "source": [
    "## REGRESSIONI LINEARI\n",
    "\n",
    "regressione=LinearRegression()\n",
    "regressione.fit(x_norm,y_norm)\n",
    "\n",
    "\n",
    "regressione=LinearRegression()\n",
    "regressione.fit(x_norm[:,np.newaxis],y_norm)\n",
    "\n",
    "print(f\"\"\"\n",
    "\n",
    "R^2 vale {regressione.score(x_norm[:,np.newaxis],y_norm):.2f}\n",
    "\n",
    "il coefficiente angolare vale {regressione.coef_:.2f}\n",
    "\n",
    "il termine noto vale {regressione.intercept_:.2f}\n",
    "\n",
    "\"\"\")\n",
    "\n",
    "coef_angolare=regressione.coef_\n",
    "coef_angolare\n",
    "\n",
    "term_noto=regressione.intercept_\n",
    "term_noto"
   ]
  },
  {
   "cell_type": "code",
   "execution_count": null,
   "id": "bc029aa3",
   "metadata": {},
   "outputs": [],
   "source": [
    "X=auto[[\"engine_power\",\"km\",\"modello_num\",\"trasm_num\"]].values\n",
    "y=auto[\"price\"].values\n",
    "regressione1=LinearRegression()\n",
    "regressione1.fit(X,y)\n",
    "print(f\"R^2 vale {regressione1.score(X,y):.2f}\")"
   ]
  },
  {
   "cell_type": "code",
   "execution_count": null,
   "id": "7dbeb200",
   "metadata": {},
   "outputs": [],
   "source": [
    "regressione1.predict([[69,4474,800000,2,45.071079,7.46403,1,1]])"
   ]
  },
  {
   "cell_type": "code",
   "execution_count": null,
   "id": "1ad7dcd5",
   "metadata": {},
   "outputs": [],
   "source": [
    "x=data[[\"DF1900\"]].values\n",
    "y=data[[\"SP500\"]].values\n",
    "\n",
    "sc_x=StandardScaler()\n",
    "sc_y=StandardScaler()\n",
    "\n",
    "x_sc=sc_x.fit_transform(x)\n",
    "y_sc=sc_y.fit_transform(y)\n",
    "\n",
    "x=data[[\"DF1900\"]].values\n",
    "y=data[[\"SP500\"]].values\n",
    "\n",
    "sc_x=StandardScaler()\n",
    "sc_y=StandardScaler()\n",
    "\n",
    "x_sc=sc_x.fit_transform(x)\n",
    "y_sc=sc_y.fit_transform(y)"
   ]
  },
  {
   "cell_type": "code",
   "execution_count": null,
   "id": "4f019724",
   "metadata": {},
   "outputs": [],
   "source": [
    "data[\"Linear Regression\"]=sc_y.inverse_transform(reg.predict(x_sc))"
   ]
  },
  {
   "cell_type": "code",
   "execution_count": null,
   "id": "8040e3a6",
   "metadata": {},
   "outputs": [],
   "source": [
    "##codcie per plottare la sispersione dei dati con la retta che melgio li approssima\n",
    "\n",
    "array_x=np.linspace(30,60,100)\n",
    "array_y=coef_angolare*array_x+term_noto\n",
    "\n",
    "fig,ax=plt.subplots(figsize=(6,6))\n",
    "ax.scatter(x,y,c=\"k\",s=1.,alpha=0.5)\n",
    "ax.plot(array_x,array_y,color=\"r\",linewidth=2.)\n",
    "ax.set_xlabel(\"larghezza becco\")\n",
    "ax.set_ylabel(\"massa\")\n",
    "ax.grid()\n",
    "plt.show()"
   ]
  }
 ],
 "metadata": {
  "kernelspec": {
   "display_name": "Python 3 (ipykernel)",
   "language": "python",
   "name": "python3"
  },
  "language_info": {
   "codemirror_mode": {
    "name": "ipython",
    "version": 3
   },
   "file_extension": ".py",
   "mimetype": "text/x-python",
   "name": "python",
   "nbconvert_exporter": "python",
   "pygments_lexer": "ipython3",
   "version": "3.11.4"
  }
 },
 "nbformat": 4,
 "nbformat_minor": 5
}
