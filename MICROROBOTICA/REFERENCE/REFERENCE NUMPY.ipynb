{
 "cells": [
  {
   "cell_type": "code",
   "execution_count": null,
   "id": "301c61b4",
   "metadata": {},
   "outputs": [],
   "source": [
    "type(a)#mi da il tipo della variabile inserita"
   ]
  },
  {
   "cell_type": "code",
   "execution_count": 1,
   "id": "0e508146",
   "metadata": {},
   "outputs": [],
   "source": [
    "import numpy as np"
   ]
  },
  {
   "cell_type": "code",
   "execution_count": 2,
   "id": "d8c03b0a",
   "metadata": {},
   "outputs": [
    {
     "name": "stdout",
     "output_type": "stream",
     "text": [
      "[[ 1  2  3  4]\n",
      " [ 2  3  4  5]\n",
      " [ 3  4  5  6]\n",
      " [ 4  5  6  7]\n",
      " [ 5  6  7  8]\n",
      " [ 6  7  8  9]\n",
      " [ 7  8  9 10]\n",
      " [ 8  9 10 11]\n",
      " [ 9 10 11 12]\n",
      " [10 11 12 13]\n",
      " [11 12 13 14]]\n"
     ]
    },
    {
     "data": {
      "text/plain": [
       "array([[ 1,  2,  3,  4],\n",
       "       [ 2,  3,  4,  5],\n",
       "       [ 3,  4,  5,  6],\n",
       "       [ 4,  5,  6,  7],\n",
       "       [ 5,  6,  7,  8],\n",
       "       [ 6,  7,  8,  9],\n",
       "       [ 7,  8,  9, 10],\n",
       "       [ 8,  9, 10, 11],\n",
       "       [ 9, 10, 11, 12],\n",
       "       [10, 11, 12, 13],\n",
       "       [11, 12, 13, 14]])"
      ]
     },
     "execution_count": 2,
     "metadata": {},
     "output_type": "execute_result"
    }
   ],
   "source": [
    "Z=np.arange(1,15)\n",
    "r=[]\n",
    "\n",
    "for i in range(len(Z)):\n",
    "    if i<(Z[-1]-3):\n",
    "        r.append(Z[i:(i+4)])   \n",
    "R=np.array(r)\n",
    "R = R.reshape(-1,4)\n",
    "print(R)  \n",
    "\n",
    "\n",
    "\n",
    "\n",
    "R0=np.array([Z[i:(i+4)] for i in range(len(Z)-3)])\n",
    "R0"
   ]
  },
  {
   "cell_type": "code",
   "execution_count": null,
   "id": "3324d691",
   "metadata": {},
   "outputs": [],
   "source": []
  },
  {
   "cell_type": "markdown",
   "id": "f6186358",
   "metadata": {},
   "source": [
    "## LETTURA FILE"
   ]
  },
  {
   "cell_type": "code",
   "execution_count": null,
   "id": "3fcfc4e8",
   "metadata": {},
   "outputs": [],
   "source": [
    "file=open(filePath,\"r\",encoding=\"utf-8\")\n",
    "#righe=file.readlines()\n",
    "caratteri=file.read()\n",
    "file.close()"
   ]
  },
  {
   "cell_type": "code",
   "execution_count": null,
   "id": "04367909",
   "metadata": {},
   "outputs": [],
   "source": [
    "\" \".join(righe_senza_return)#mette la l'insieme di liste da unire"
   ]
  },
  {
   "cell_type": "markdown",
   "id": "cca29d11",
   "metadata": {},
   "source": [
    "## LIST COMPRENSION"
   ]
  },
  {
   "cell_type": "code",
   "execution_count": null,
   "id": "3a62837a",
   "metadata": {},
   "outputs": [],
   "source": [
    "quadrati_perfetti=[i**2 for i in range(1,10)]"
   ]
  },
  {
   "cell_type": "code",
   "execution_count": null,
   "id": "282acb51",
   "metadata": {},
   "outputs": [],
   "source": [
    "parole_c= [parola for parola in parole if parola[0]==\"c\"]"
   ]
  },
  {
   "cell_type": "code",
   "execution_count": null,
   "id": "5dfb89de",
   "metadata": {},
   "outputs": [],
   "source": [
    "#python-style ciclo for su entrambe le liste\n",
    "#zip prende le tue liste e le fa scorrere in parallelo, si ferma alla lung più breve se di lung diverse\n",
    "for elemento, elemento2 in zip(lista,lista2):\n",
    "    print(f\"{elemento}   -  {elemento2}\")"
   ]
  },
  {
   "cell_type": "code",
   "execution_count": null,
   "id": "392d72b4",
   "metadata": {},
   "outputs": [],
   "source": [
    "#python-style con enumerate, come se scorressi gli indici\n",
    "for indice, elemento in enumerate(lista):\n",
    "    print(f\"in posizione {indice} troviamo l'elemento {elemento}\")"
   ]
  },
  {
   "cell_type": "markdown",
   "id": "8f8925f4",
   "metadata": {},
   "source": [
    "## DIZIONARIO"
   ]
  },
  {
   "cell_type": "code",
   "execution_count": null,
   "id": "e06c9ffa",
   "metadata": {},
   "outputs": [],
   "source": [
    "for chiave, valore in d.items():\n",
    "    print(f\"la chiave è {chiave} e il valore è {valore}\")"
   ]
  },
  {
   "cell_type": "code",
   "execution_count": null,
   "id": "f8ab11f5",
   "metadata": {},
   "outputs": [],
   "source": [
    "d = {\"a\":[\"albero\",\"albergo\"],\"b\":[\"bello\"],\"c\":[\"ciao\",\"cellulare\"]}\n",
    "d[f]=\"napoli\""
   ]
  },
  {
   "cell_type": "markdown",
   "id": "be008907",
   "metadata": {},
   "source": [
    "## FUNZIONI NUMPY"
   ]
  },
  {
   "cell_type": "code",
   "execution_count": 2,
   "id": "291b37b7",
   "metadata": {},
   "outputs": [],
   "source": [
    "import numpy as np"
   ]
  },
  {
   "cell_type": "code",
   "execution_count": null,
   "id": "3c8c8487",
   "metadata": {},
   "outputs": [],
   "source": [
    "np.where(condizione)#mi ritorna la tupla degli indici di dove viene soddi"
   ]
  },
  {
   "cell_type": "code",
   "execution_count": null,
   "id": "466db1ed",
   "metadata": {},
   "outputs": [],
   "source": [
    "array_di_zeri= np.zeros(10)#crea un array con solo 0,(10,dtype=np.int8) setto il tipo"
   ]
  },
  {
   "cell_type": "code",
   "execution_count": null,
   "id": "2fcae161",
   "metadata": {},
   "outputs": [],
   "source": [
    "array_di_uni=np.ones(5)#crea un array di soli 1"
   ]
  },
  {
   "cell_type": "code",
   "execution_count": null,
   "id": "3a2e2655",
   "metadata": {},
   "outputs": [],
   "source": [
    "#esiste solo zero e one, si utilizza numpy-> moltiplico per 3\n",
    "array_di_tre=np.ones(5)*3#-> broadcast\n",
    "#se moltiplico un array numpy per un numero, la moltiplicazine viene fatta elemento per elemento, come fosse un ciclo for"
   ]
  },
  {
   "cell_type": "code",
   "execution_count": null,
   "id": "442ef5a6",
   "metadata": {},
   "outputs": [],
   "source": [
    "array_num_crescenti=np.arange(1,10)#-> posso creare un array di interi crescenti"
   ]
  },
  {
   "cell_type": "code",
   "execution_count": null,
   "id": "e143ff57",
   "metadata": {},
   "outputs": [],
   "source": [
    "#array pseudo-casuali di numeri interi\n",
    "np.random.randint(1,101,10)"
   ]
  },
  {
   "cell_type": "code",
   "execution_count": null,
   "id": "c67c6705",
   "metadata": {},
   "outputs": [],
   "source": [
    "#array pseudo-casuali di numeri float\n",
    "np.random.uniform(0,5,10)#-> ogni numero ha la stessa probabilità di uscire"
   ]
  },
  {
   "cell_type": "code",
   "execution_count": null,
   "id": "41d0b629",
   "metadata": {},
   "outputs": [],
   "source": [
    "#array pseudo-casuali di numeri float gaussiani\n",
    "np.random.normal(180,5,20)"
   ]
  },
  {
   "cell_type": "code",
   "execution_count": null,
   "id": "a28468b3",
   "metadata": {},
   "outputs": [],
   "source": [
    "np.random.seed(123)#seme del generatore di numeri casuali, se abbiamo tutti lo stesso seme abbiamo gli stessi numeri"
   ]
  },
  {
   "cell_type": "code",
   "execution_count": null,
   "id": "e7bdd5ec",
   "metadata": {},
   "outputs": [],
   "source": [
    "np.random.choice([\"testa\",\"croce\"],15)\n",
    "\n",
    "\n",
    "\n",
    "gio_1=np.random.choice([1,2,3,4,5,6],(num_partite,num_lanci),p=[1/8,1/8,1/8,1/8,1/4,1/4])\n",
    "#creo una matrice dove setto le probailità di uscita delle varie componenti della lista\n",
    "\n",
    "\n",
    "errore_t1=np.random.choice([True, False], (num_minuti,3),p=[0.001,0.999])"
   ]
  },
  {
   "cell_type": "code",
   "execution_count": null,
   "id": "ecda6314",
   "metadata": {},
   "outputs": [],
   "source": [
    "p.count_nonzero(voti[voti>=6])#conta quante volte non è 0, False..."
   ]
  },
  {
   "cell_type": "code",
   "execution_count": null,
   "id": "d06f45de",
   "metadata": {},
   "outputs": [],
   "source": [
    "matrice.flatten()"
   ]
  },
  {
   "cell_type": "code",
   "execution_count": null,
   "id": "cf432b40",
   "metadata": {},
   "outputs": [],
   "source": [
    "array2d.shape#attributo degli array\n",
    "#mi ristiruisce una tupla con nuemero di righe, numero di colonne"
   ]
  },
  {
   "cell_type": "code",
   "execution_count": null,
   "id": "95faf0ca",
   "metadata": {},
   "outputs": [],
   "source": [
    "#gli passo le dimensioni della matrice, DEVONO ESSERE GIUSTE, se gli do -1: (5,-1), si calcola lui le colonne\n",
    "vettore.reshape((5,-1))#numero righe, num colonne"
   ]
  },
  {
   "cell_type": "code",
   "execution_count": null,
   "id": "94ea91b9",
   "metadata": {},
   "outputs": [],
   "source": [
    "np.roll(vettore5,-1)"
   ]
  },
  {
   "cell_type": "code",
   "execution_count": null,
   "id": "84f63f50",
   "metadata": {},
   "outputs": [],
   "source": [
    "prezzo=100+np.cumsum(np.random.normal(0,10,10))#valor medio, deviazione standard e numero di dati\n",
    "\n",
    "deviazione_standard=np.std(prezzo)"
   ]
  },
  {
   "cell_type": "code",
   "execution_count": null,
   "id": "c8e2fc7a",
   "metadata": {},
   "outputs": [],
   "source": [
    "np.cumsum([1,1,1,1,1,1])#somma i numeri, ogni numero è uguale alla somma di tutti i precendenti"
   ]
  },
  {
   "cell_type": "code",
   "execution_count": null,
   "id": "1e659f09",
   "metadata": {},
   "outputs": [],
   "source": [
    "array1d=np.linspace(-5,5,11)#usa numeri float equispaziati, così ne prendo 11 nell'intervallo -5,5"
   ]
  },
  {
   "cell_type": "code",
   "execution_count": null,
   "id": "b7a4bf68",
   "metadata": {},
   "outputs": [],
   "source": [
    "sin_1=np.sin(2*np.pi*frequenza_1*arrayFloat)\n",
    "#la uso per calcolare la sinusoinde, np.pi è il pgreco"
   ]
  },
  {
   "cell_type": "code",
   "execution_count": null,
   "id": "c1bcc7d4",
   "metadata": {},
   "outputs": [],
   "source": [
    "np.tile( np.array([[0,1],[1,0]]), (4,4))\n",
    "#La funzione np.tile() in NumPy viene utilizzata per creare una nuova matrice o array ripetendo \n",
    "#una matrice o un array esistente in modo specifico. Nel tuo caso, np.tile(np.array([[0,1],[1,0]]), (4,4)) \n",
    "#crea una nuova matrice 2D ottenuta ripetendo la matrice [[0, 1], [1, 0]] in un modello 4x4."
   ]
  },
  {
   "cell_type": "code",
   "execution_count": null,
   "id": "316a72c9",
   "metadata": {},
   "outputs": [],
   "source": [
    "np.abs(Z)# Calcola il valore assoluto di ciascun elemento nell'array Z, rendendo tutti i valori positivi.\n",
    "\n",
    "np.ceil(np.abs(Z))# Applica la funzione ceil() (soffitto) per arrotondare ciascun valore assoluto all'intero \n",
    "#successivo o uguale.\n",
    "np.copysign(np.ceil(np.abs(Z)), Z)# Applica copysign() per assegnare il segno originale di ciascun elemento \n",
    "#arrotondato all'array risultante. In altre parole, conserva il segno originale dei valori casuali."
   ]
  },
  {
   "cell_type": "code",
   "execution_count": null,
   "id": "f7137c54",
   "metadata": {},
   "outputs": [],
   "source": [
    "'''\n",
    "np.intersect1d(Z1, Z2): Utilizza la funzione intersect1d() di NumPy per trovare l'intersezione (elementi comuni) \n",
    "tra i due array Z1 e Z2.\n",
    "\n",
    "Il risultato stampato con print() sarà un array NumPy che contiene tutti gli elementi che sono comuni sia a Z1 che a Z2. \n",
    "Gli elementi comuni saranno elencati una sola volta nell'array risultante, anche se compaiono più volte in uno o \n",
    "entrambi gli array originali.\n",
    "'''\n",
    "\n",
    "print(np.intersect1d(Z1,Z2))"
   ]
  },
  {
   "cell_type": "code",
   "execution_count": null,
   "id": "fc5147a9",
   "metadata": {},
   "outputs": [],
   "source": [
    "#per ignorare i warning di numpy\n",
    "# Suicide mode on\n",
    "defaults = np.seterr(all=\"ignore\")\n",
    "Z = np.ones(1) / 0\n",
    "\n",
    "# Back to sanity\n",
    "_ = np.seterr(**defaults)"
   ]
  },
  {
   "cell_type": "code",
   "execution_count": null,
   "id": "84b6935e",
   "metadata": {},
   "outputs": [],
   "source": [
    "'''\n",
    "np.sqrt(-1) utilizza la funzione di radice quadrata standard di NumPy e restituirà un valore nan \n",
    "(Not-a-Number) perché NumPy non gestisce automaticamente i numeri complessi in questo caso.\n",
    "\n",
    "np.emath.sqrt(-1) utilizza la gestione dei numeri complessi fornita da NumPy e restituirà un valore complesso 1j, \n",
    "che rappresenta l'unità immaginaria.\n",
    "'''\n",
    "np.sqrt(-1) == np.emath.sqrt(-1)"
   ]
  },
  {
   "cell_type": "code",
   "execution_count": null,
   "id": "85b5946b",
   "metadata": {},
   "outputs": [],
   "source": [
    "# metodi per estrarre la parte intera di un numero\n",
    "print(Z - Z%1)\n",
    "print(Z // 1)\n",
    "print(np.floor(Z))\n",
    "print(Z.astype(int))\n",
    "print(np.trunc(Z))"
   ]
  },
  {
   "cell_type": "code",
   "execution_count": 3,
   "id": "b13a93db",
   "metadata": {},
   "outputs": [
    {
     "name": "stdout",
     "output_type": "stream",
     "text": [
      "[[0. 1. 2. 3. 4.]\n",
      " [0. 1. 2. 3. 4.]\n",
      " [0. 1. 2. 3. 4.]\n",
      " [0. 1. 2. 3. 4.]\n",
      " [0. 1. 2. 3. 4.]]\n"
     ]
    }
   ],
   "source": [
    "#sommo ogni elemento con il suoa rispettivo nell'altro array\n",
    "Z = np.zeros((5,5))\n",
    "Z += np.arange(5)\n",
    "print(Z)"
   ]
  },
  {
   "cell_type": "code",
   "execution_count": null,
   "id": "9765b3d9",
   "metadata": {},
   "outputs": [],
   "source": [
    "np.array_equal(A,B)"
   ]
  },
  {
   "cell_type": "markdown",
   "id": "4ff9e6e5",
   "metadata": {},
   "source": [
    "## FUNZIONI PLT"
   ]
  },
  {
   "cell_type": "code",
   "execution_count": null,
   "id": "7cd70fba",
   "metadata": {},
   "outputs": [],
   "source": [
    "import matplotlib.pyplot as plt"
   ]
  },
  {
   "cell_type": "code",
   "execution_count": null,
   "id": "e600aeb0",
   "metadata": {},
   "outputs": [],
   "source": [
    "plt.plot(prezzo)"
   ]
  },
  {
   "cell_type": "code",
   "execution_count": null,
   "id": "d8dd68b2",
   "metadata": {},
   "outputs": [],
   "source": [
    "np.max(prezzo):.2f"
   ]
  },
  {
   "cell_type": "code",
   "execution_count": null,
   "id": "ee06b4be",
   "metadata": {},
   "outputs": [],
   "source": [
    "np.min(prezzo):.2f"
   ]
  },
  {
   "cell_type": "code",
   "execution_count": null,
   "id": "1242243e",
   "metadata": {},
   "outputs": [],
   "source": [
    "np.mean(valori)"
   ]
  },
  {
   "cell_type": "code",
   "execution_count": null,
   "id": "c96db163",
   "metadata": {},
   "outputs": [],
   "source": [
    "plt.imshow(immagine)"
   ]
  },
  {
   "cell_type": "code",
   "execution_count": null,
   "id": "38c24f48",
   "metadata": {},
   "outputs": [],
   "source": [
    "np.max(misure_pulite,axis=0)\n",
    "\n",
    "#axis 0 colonne, axis uno righe-> da verificare"
   ]
  }
 ],
 "metadata": {
  "kernelspec": {
   "display_name": "Python 3 (ipykernel)",
   "language": "python",
   "name": "python3"
  },
  "language_info": {
   "codemirror_mode": {
    "name": "ipython",
    "version": 3
   },
   "file_extension": ".py",
   "mimetype": "text/x-python",
   "name": "python",
   "nbconvert_exporter": "python",
   "pygments_lexer": "ipython3",
   "version": "3.11.4"
  }
 },
 "nbformat": 4,
 "nbformat_minor": 5
}
