{
 "cells": [
  {
   "cell_type": "code",
   "execution_count": 22,
   "id": "c3463b4c",
   "metadata": {},
   "outputs": [],
   "source": [
    "import math\n"
   ]
  },
  {
   "cell_type": "code",
   "execution_count": 3,
   "id": "b8973af9",
   "metadata": {},
   "outputs": [
    {
     "name": "stdout",
     "output_type": "stream",
     "text": [
      "10, tipo: <class 'int'>\n",
      "ciao, tipo: <class 'str'>\n",
      "True, tipo: <class 'bool'>\n",
      "4.3, tipo: <class 'float'>\n"
     ]
    }
   ],
   "source": [
    "a=10\n",
    "b=\"ciao\"\n",
    "d=4.3\n",
    "c=True\n",
    "print(f\"{a}, tipo: {type(a)}\")\n",
    "print(f\"{b}, tipo: {type(b)}\")\n",
    "print(f\"{c}, tipo: {type(c)}\")\n",
    "print(f\"{d}, tipo: {type(d)}\")"
   ]
  },
  {
   "cell_type": "code",
   "execution_count": 4,
   "id": "644432a6",
   "metadata": {},
   "outputs": [
    {
     "name": "stdout",
     "output_type": "stream",
     "text": [
      "12, tipo: <class 'int'>\n",
      "cane, tipo: <class 'str'>\n",
      "45.3, tipo: <class 'float'>\n",
      "False, tipo: <class 'bool'>\n"
     ]
    }
   ],
   "source": [
    "a,b,c,d=12,\"cane\",45.3,False\n",
    "print(f\"{a}, tipo: {type(a)}\")\n",
    "print(f\"{b}, tipo: {type(b)}\")\n",
    "print(f\"{c}, tipo: {type(c)}\")\n",
    "print(f\"{d}, tipo: {type(d)}\")"
   ]
  },
  {
   "cell_type": "code",
   "execution_count": 7,
   "id": "66155d5f",
   "metadata": {},
   "outputs": [
    {
     "name": "stdout",
     "output_type": "stream",
     "text": [
      "valori: 23, 45\n",
      "valori: 45, 23\n"
     ]
    }
   ],
   "source": [
    "prima,seconda=23,45\n",
    "print(f\"valori: {prima}, {seconda}\")\n",
    "prima,seconda=seconda,prima\n",
    "print(f\"valori: {prima}, {seconda}\")"
   ]
  },
  {
   "cell_type": "code",
   "execution_count": 9,
   "id": "08de9a7d",
   "metadata": {},
   "outputs": [
    {
     "name": "stdout",
     "output_type": "stream",
     "text": [
      "lettere iniziali: pa, finale: la\n"
     ]
    }
   ],
   "source": [
    "stringa=\"parola\"\n",
    "print(f\"lettere iniziali: {stringa[:1]}, finale: {stringa[-1:]}\")"
   ]
  },
  {
   "cell_type": "code",
   "execution_count": 10,
   "id": "1a63bf7c",
   "metadata": {},
   "outputs": [
    {
     "name": "stdout",
     "output_type": "stream",
     "text": [
      "parola senza iniziale e finale: arol\n"
     ]
    }
   ],
   "source": [
    "print(f\"parola senza iniziale e finale: {stringa[1:-1]}\")"
   ]
  },
  {
   "cell_type": "code",
   "execution_count": 14,
   "id": "59baefc3",
   "metadata": {},
   "outputs": [
    {
     "name": "stdout",
     "output_type": "stream",
     "text": [
      "i\n",
      "o\n"
     ]
    }
   ],
   "source": [
    "stringa=\"ciao\"\n",
    "for i in range (len(stringa)):\n",
    "    if i%2==1:\n",
    "        print(stringa[i])"
   ]
  },
  {
   "cell_type": "code",
   "execution_count": 18,
   "id": "5a0d85bd",
   "metadata": {},
   "outputs": [
    {
     "data": {
      "text/plain": [
       "'oaic'"
      ]
     },
     "execution_count": 18,
     "metadata": {},
     "output_type": "execute_result"
    }
   ],
   "source": [
    "stir=\"\"\n",
    "for i in range (len(stringa)):\n",
    "    stir=stir+stringa[-i-1]\n",
    "stir"
   ]
  },
  {
   "cell_type": "code",
   "execution_count": 21,
   "id": "48e037f2",
   "metadata": {},
   "outputs": [
    {
     "name": "stdout",
     "output_type": "stream",
     "text": [
      "pe?legrino\n"
     ]
    }
   ],
   "source": [
    "parola=\"pellegrino\"\n",
    "print(parola[:2]+\"?\"+parola[3:])"
   ]
  },
  {
   "cell_type": "code",
   "execution_count": 24,
   "id": "4d1dfd21",
   "metadata": {},
   "outputs": [
    {
     "data": {
      "text/plain": [
       "53.25410782277739"
      ]
     },
     "execution_count": 24,
     "metadata": {},
     "output_type": "execute_result"
    }
   ],
   "source": [
    "punto1=(23,45)\n",
    "punto2=(53,1)\n",
    "#Distanza = √((x2 - x1)² + (y2 - y1)²)\n",
    "distanza=math.sqrt((punto1[0]-punto2[0])**2+(punto1[1]-punto2[1])**2)\n",
    "distanza"
   ]
  },
  {
   "cell_type": "code",
   "execution_count": 26,
   "id": "0c604bb4",
   "metadata": {},
   "outputs": [
    {
     "name": "stdout",
     "output_type": "stream",
     "text": [
      "[6, 8, 4, 9, 6, 7]\n",
      "[6, 8, 4, 10, 6, 7]\n",
      "[5, 6, 8]\n"
     ]
    }
   ],
   "source": [
    "lista_voti=[5,6,8,4,9,6,7,8]\n",
    "print(lista_voti[1:-1])\n",
    "lista_voti[4]=10\n",
    "print(lista_voti[1:-1])\n",
    "print(lista_voti[:3])"
   ]
  },
  {
   "cell_type": "code",
   "execution_count": 33,
   "id": "d1bf2e22",
   "metadata": {},
   "outputs": [
    {
     "name": "stdout",
     "output_type": "stream",
     "text": [
      "[0, 1, 2, 3]     [5, 6, 7, 8]\n",
      "[0, 1, 2, 3, 5]\n"
     ]
    }
   ],
   "source": [
    "x=[0,1,2,3,5,6,7,8]\n",
    "y,z=x[:(len(x)//2)],x[(len(x)//2):]\n",
    "print(f\"{y}     {z}\")\n",
    "y.append(5)\n",
    "print(y)"
   ]
  },
  {
   "cell_type": "code",
   "execution_count": 34,
   "id": "572d6611",
   "metadata": {},
   "outputs": [
    {
     "name": "stdout",
     "output_type": "stream",
     "text": [
      "[0, 1, 2, 3, 4, 5, 6, 7]\n"
     ]
    }
   ],
   "source": [
    "A=[0,1,2,3]\n",
    "B=[4,5,6,7]\n",
    "print(A+B)"
   ]
  },
  {
   "cell_type": "code",
   "execution_count": null,
   "id": "13a78532",
   "metadata": {},
   "outputs": [],
   "source": []
  }
 ],
 "metadata": {
  "kernelspec": {
   "display_name": "Python 3 (ipykernel)",
   "language": "python",
   "name": "python3"
  },
  "language_info": {
   "codemirror_mode": {
    "name": "ipython",
    "version": 3
   },
   "file_extension": ".py",
   "mimetype": "text/x-python",
   "name": "python",
   "nbconvert_exporter": "python",
   "pygments_lexer": "ipython3",
   "version": "3.11.4"
  }
 },
 "nbformat": 4,
 "nbformat_minor": 5
}
