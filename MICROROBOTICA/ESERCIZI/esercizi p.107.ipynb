{
 "cells": [
  {
   "cell_type": "markdown",
   "id": "091083d5",
   "metadata": {},
   "source": [
    "### ES1\n",
    "Trova il valore più frequente in un array di numpy.\n"
   ]
  },
  {
   "cell_type": "code",
   "execution_count": 1,
   "id": "365771d5",
   "metadata": {},
   "outputs": [],
   "source": [
    "import numpy as np\n",
    "import matplotlib.pyplot as plt"
   ]
  },
  {
   "cell_type": "code",
   "execution_count": 8,
   "id": "afa0a505",
   "metadata": {},
   "outputs": [],
   "source": [
    "def calcola_frequenza(array):\n",
    "    lista_presenze=[]\n",
    "    maxx=0\n",
    "    for num in array:\n",
    "        lista_presenze.append(np.count_nonzero(np.array((array==num))))\n",
    "        if np.count_nonzero(np.array((array1==num))) > maxx:\n",
    "            maxx=num\n",
    "    lista_presenze.append(maxx)\n",
    "    return lista_presenze"
   ]
  },
  {
   "cell_type": "code",
   "execution_count": 9,
   "id": "ed75c99c",
   "metadata": {},
   "outputs": [
    {
     "name": "stdout",
     "output_type": "stream",
     "text": [
      "numero: 2, frequenza: 18\n"
     ]
    }
   ],
   "source": [
    "array1=np.random.randint(1,10,100)\n",
    "#print(array1)\n",
    "risultato=calcola_frequenza(array1)\n",
    "#print(risultato[:-1])\n",
    "print(f\"numero: {risultato[-1]}, frequenza: {np.max(np.array(risultato[:-1]))}\")"
   ]
  },
  {
   "cell_type": "markdown",
   "id": "5e69698f",
   "metadata": {},
   "source": [
    "### ES3\n",
    "Simula diecimila partite ciascuna da 1000 lanci di una moneta. In quante partite si riscontra almeno il 55% di croci sui 1000 lanci?"
   ]
  },
  {
   "cell_type": "code",
   "execution_count": 20,
   "id": "3692999e",
   "metadata": {},
   "outputs": [
    {
     "data": {
      "text/plain": [
       "array(['testa', 'croce'], dtype='<U5')"
      ]
     },
     "execution_count": 20,
     "metadata": {},
     "output_type": "execute_result"
    }
   ],
   "source": [
    "moneta=np.array((\"testa\",\"croce\"))\n",
    "moneta"
   ]
  },
  {
   "cell_type": "code",
   "execution_count": 40,
   "id": "90201101",
   "metadata": {},
   "outputs": [
    {
     "data": {
      "text/plain": [
       "5"
      ]
     },
     "execution_count": 40,
     "metadata": {},
     "output_type": "execute_result"
    }
   ],
   "source": [
    "numero_lanci=1000\n",
    "numero_partite=10000\n",
    "risultati=np.random.choice(moneta,(numero_lanci,numero_partite))\n",
    "risultati=risultati==\"croce\"\n",
    "lista_ris=[]\n",
    "for i in range(numero_partite):\n",
    "    lista_ris.append(np.count_nonzero(risultati[::,i]))\n",
    "num_probabilità=(55*numero_lanci)/100\n",
    "partite_ok=np.count_nonzero(np.array(lista_ris)>num_probabilità)\n",
    "partite_ok"
   ]
  },
  {
   "cell_type": "code",
   "execution_count": 29,
   "id": "8c825809",
   "metadata": {},
   "outputs": [
    {
     "data": {
      "text/plain": [
       "1000"
      ]
     },
     "execution_count": 29,
     "metadata": {},
     "output_type": "execute_result"
    }
   ],
   "source": [
    "numero_lanci=1000\n",
    "numero_partite=10000\n",
    "risultati=np.random.choice(moneta,(numero_lanci,numero_partite))\n",
    "np.count_nonzero(np.sum(risultati==\"croce\", axis=1)/numero_lanci*1000>55)"
   ]
  },
  {
   "cell_type": "markdown",
   "id": "7b0c541a",
   "metadata": {},
   "source": [
    "### ES4\n",
    "Considera 1000 classi da 25 alunni ciascuna. Per ognuna di esse simula il giorno di nascita di ciascun alunno estraendo un numero a caso tra 1 e 365 inclusi (i giorni dell'anno non bisestile sono 365). Calcola in quante delle mille classi ci sono almeno due alunni nati lo stesso giorno."
   ]
  },
  {
   "cell_type": "code",
   "execution_count": 35,
   "id": "2a6c168d",
   "metadata": {},
   "outputs": [],
   "source": [
    "def calcola_frequenza_classe(array1):\n",
    "    lista_presenze=[]\n",
    "    for i in range(np.size(array1)):\n",
    "        array_ris=np.array(array1==array1[i])\n",
    "        array_ris[i]=False\n",
    "        lista_presenze.append(np.count_nonzero(array_ris))\n",
    "    return np.array(lista_presenze)"
   ]
  },
  {
   "cell_type": "code",
   "execution_count": 52,
   "id": "02dcaefa",
   "metadata": {},
   "outputs": [
    {
     "data": {
      "text/plain": [
       "array([[283,  80,  13, ..., 218, 283, 108],\n",
       "       [264,   7, 298, ..., 227,  29, 154],\n",
       "       [206, 203, 227, ..., 207, 143,  24],\n",
       "       ...,\n",
       "       [134, 364, 339, ..., 199, 357, 294],\n",
       "       [104, 361, 140, ..., 317,  50, 206],\n",
       "       [292, 151,  89, ..., 223, 299, 289]])"
      ]
     },
     "execution_count": 52,
     "metadata": {},
     "output_type": "execute_result"
    }
   ],
   "source": [
    "num_alunni_classe=25\n",
    "num_giorni=366\n",
    "num_classi=1000\n",
    "giorni_nascita=np.random.randint(1,num_giorni,(num_classi,num_alunni_classe))\n",
    "#giorni_nascita=np.array([45, 45, 156, 167, 37, 230, 103, 58, 261, 212, 25, 330, 180, 313, 299, 182, 73, 293, 120, 194, 138, 76, 169, 280, 107])\n",
    "giorni_nascita"
   ]
  },
  {
   "cell_type": "code",
   "execution_count": 54,
   "id": "69c20ad7",
   "metadata": {},
   "outputs": [
    {
     "data": {
      "text/plain": [
       "25"
      ]
     },
     "execution_count": 54,
     "metadata": {},
     "output_type": "execute_result"
    }
   ],
   "source": [
    "risultati_classi=[]\n",
    "for i in range(num_alunni_classe):\n",
    "    #print(calcola_frequenza_classe(giorni_nascita[::,i]))\n",
    "    risultati_classi.append(np.count_nonzero(calcola_frequenza_classe(giorni_nascita[::,i])))\n",
    "\n",
    "statistica=np.count_nonzero(np.array(risultati_classi)>0)\n",
    "statistica"
   ]
  },
  {
   "cell_type": "markdown",
   "id": "757ed188",
   "metadata": {},
   "source": [
    "### funzione di numpy-> unic dato 1 array ci da gli elementi unici"
   ]
  },
  {
   "cell_type": "code",
   "execution_count": 51,
   "id": "00ff3c4f",
   "metadata": {},
   "outputs": [
    {
     "name": "stdout",
     "output_type": "stream",
     "text": [
      "592\n"
     ]
    }
   ],
   "source": [
    "giorni_nascita=np.random.randint(1,num_giorni,(num_classi,num_alunni_classe))\n",
    "cont=0\n",
    "for classe in giorni_nascita:\n",
    "    unici=len(np.unique(classe))\n",
    "    if unici<25:\n",
    "        cont+=1\n",
    "print(cont)"
   ]
  },
  {
   "cell_type": "code",
   "execution_count": 50,
   "id": "a4f10c92",
   "metadata": {},
   "outputs": [
    {
     "name": "stdout",
     "output_type": "stream",
     "text": [
      "586\n"
     ]
    }
   ],
   "source": [
    "giorni_nascita=np.random.randint(1,num_giorni,(num_classi,num_alunni_classe))\n",
    "unici=[len(np.unique(classe)) for classe in giorni_nascita if len(np.unique(classe))<25]\n",
    "print(len(unici))"
   ]
  },
  {
   "cell_type": "markdown",
   "id": "05ed658d",
   "metadata": {},
   "source": [
    "### ES5\n",
    "Considera un array monodimensionale di numeri e trova la posizione di tutti i massimi locali. Per esem-\n",
    "pio, dato l'array a = [0, 2, 1, 1, 3, 2], 2 e 3 sono massimi\n",
    "locali rispettivamente nelle posizioni 1 e 4."
   ]
  },
  {
   "cell_type": "code",
   "execution_count": 64,
   "id": "53b0dd36",
   "metadata": {},
   "outputs": [
    {
     "data": {
      "text/plain": [
       "array([14,  6])"
      ]
     },
     "execution_count": 64,
     "metadata": {},
     "output_type": "execute_result"
    }
   ],
   "source": [
    "array1d=np.array([2,5,14,7,2,3,6,4])\n",
    "array_rollato1=np.roll(array1d,1)#ieri\n",
    "array_rollato2=np.roll(array1d,-1)#oggi\n",
    "massimi_locali=(array_rollato1<array1d)&(array_rollato2<array1d)\n",
    "array1d[massimi_locali]"
   ]
  },
  {
   "cell_type": "markdown",
   "id": "2445a660",
   "metadata": {},
   "source": [
    "### ES6\n",
    "\n",
    "Considera un array monodimensionale di numeri interi compresi tra 0 e 9, generato casualmente, e trova le posizioni dell'array in cui compare la sequenza di numeri [1, 2, 3]."
   ]
  },
  {
   "cell_type": "code",
   "execution_count": 6,
   "id": "9449848d",
   "metadata": {},
   "outputs": [
    {
     "name": "stdout",
     "output_type": "stream",
     "text": [
      "l'array presenta la sequenza nelle posizioni: [[5]\n",
      " [6]\n",
      " [7]]\n"
     ]
    }
   ],
   "source": [
    "#a=np.random.randint(0,10,10)\n",
    "#a=np.array([5,1,2,3,6,2])\n",
    "a=np.random.randint(1,50,59)\n",
    "a[5:8]=np.array([1,2,3])\n",
    "a1=np.roll(a,-1)\n",
    "#print(a1)\n",
    "a2=np.roll(a1,-1)\n",
    "p=((a==1)&(a1==2)&(a2==3))\n",
    "indici=np.array([np.where(p)[0],np.where(p)[0]+1,np.where(p)[0]+2])#metto[0] in quanyo mi restituisce una tupla\n",
    "#indici=np.array(np.where(p))\n",
    "print(f\"l'array presenta la sequenza nelle posizioni: {indici}\")"
   ]
  },
  {
   "cell_type": "markdown",
   "id": "74686410",
   "metadata": {},
   "source": [
    "### ES7\n",
    "Due numeri primi sono detti gemelli se la loro differenza equivale a 2: per esempio 17 e 19 sono numeri primi gemelli. Utilizza le funzioni di numpy per:\n",
    "› creare un array contenente i primi 100 000 numeri primi;\n",
    "› individuare in esso tutti i primi gemelli.\n",
    "Implementa lo stesso esercizio in Python e verifica la differenza di tempo in esecuzione mediante\n",
    "%%timeit.\n"
   ]
  },
  {
   "cell_type": "code",
   "execution_count": null,
   "id": "2f4de805",
   "metadata": {},
   "outputs": [],
   "source": [
    "#per scorrere i dati senza ciclare sugli indici\n",
    "#for i,numeri in enumerate(array)"
   ]
  },
  {
   "cell_type": "code",
   "execution_count": 3,
   "id": "2aeff980",
   "metadata": {},
   "outputs": [
    {
     "data": {
      "text/plain": [
       "array([     3,      5,     11, ..., 999431, 999611, 999959])"
      ]
     },
     "execution_count": 3,
     "metadata": {},
     "output_type": "execute_result"
    }
   ],
   "source": [
    "def primo(x):\n",
    "    if x<2:\n",
    "        return false;\n",
    "    for i in range(2,int(x**0.5)+1):\n",
    "        if x%i==0:\n",
    "            return False\n",
    "    return True\n",
    "num=[x for x in range(2,1000000) if primo(x)][:100000]\n",
    "np.size(num)\n",
    "numeri=np.array(num)\n",
    "n1=np.roll(numeri,-1)\n",
    "numeri=numeri[(n1-numeri)==2]\n",
    "numeri"
   ]
  },
  {
   "cell_type": "code",
   "execution_count": 6,
   "id": "e6b835f5",
   "metadata": {},
   "outputs": [
    {
     "data": {
      "text/plain": [
       "array([ 10007,  10037,  10067, ..., 999431, 999611, 999959])"
      ]
     },
     "execution_count": 6,
     "metadata": {},
     "output_type": "execute_result"
    }
   ],
   "source": [
    "##non va\n",
    "numeri= np.arange(3,1000000)\n",
    "for divisore in range(2,10000):\n",
    "    numeri=numeri[numeri%(divisore)!=0]\n",
    "    \n",
    "\n",
    "np.size(numeri)\n",
    "numeri1=np.roll(numeri,-1)\n",
    "numeri=numeri[(numeri1-numeri)==2]\n",
    "#np.size(numeri)\n",
    "numeri"
   ]
  },
  {
   "cell_type": "code",
   "execution_count": null,
   "id": "4673519e",
   "metadata": {},
   "outputs": [],
   "source": [
    "##metodo tradizionale\n",
    "lista_numP=[]\n",
    "i=1\n",
    "numD=0\n",
    "while len(lista_numP) <100001:\n",
    "    for y in range(1,i+1):\n",
    "        if i%y==0:\n",
    "            numD=numD+1\n",
    "    if numD==2:\n",
    "        lista_numP.append(i)\n",
    "    numD=0\n",
    "    i=i+1\n",
    "    \n",
    "    \n",
    "numPrimi=np.array([lista_numP[i] for i in range(len(lista_numP)) if lista_numP[i+1]-lista_numP[i]==2])\n",
    "print(numPrimi)"
   ]
  },
  {
   "cell_type": "markdown",
   "id": "92db8b5b",
   "metadata": {},
   "source": [
    "tempo"
   ]
  },
  {
   "cell_type": "code",
   "execution_count": 3,
   "id": "f3e2fd60",
   "metadata": {},
   "outputs": [
    {
     "name": "stdout",
     "output_type": "stream",
     "text": [
      "5.57 s ± 204 ms per loop (mean ± std. dev. of 7 runs, 1 loop each)\n"
     ]
    }
   ],
   "source": [
    "%%timeit\n",
    "def primo(x):\n",
    "    if x<2:\n",
    "        return false;\n",
    "    for i in range(2,int(x**0.5)+1):\n",
    "        if x%i==0:\n",
    "            return False\n",
    "    return True\n",
    "num=[x for x in range(2,1000000) if primo(x)][:100000]\n",
    "np.size(num)\n",
    "numeri=np.array(num)\n",
    "n1=np.roll(numeri,-1)\n",
    "numeri=numeri[(n1-numeri)==2]\n",
    "numeri"
   ]
  },
  {
   "cell_type": "code",
   "execution_count": null,
   "id": "0dd6f342",
   "metadata": {},
   "outputs": [],
   "source": [
    "%%timeit\n",
    "##metodo tradizionalelista_numP=[]\n",
    "lista_numP=[]\n",
    "i=1\n",
    "num0=0\n",
    "while len(lista_numP) <100001:\n",
    "    for y in range(1,i+1):\n",
    "        if i%y==0:\n",
    "            num0=num0+1\n",
    "    if num0==2:\n",
    "        lista_numP.append(i)\n",
    "    num0=0\n",
    "    i=i+1\n",
    "    \n",
    "    \n",
    "numPrimi=np.array([lista_numP[i] for i in range(len(lista_numP)) if lista_numP[i+1]-lista_numP[i]==2])\n",
    "print(numPrimi)"
   ]
  },
  {
   "cell_type": "markdown",
   "id": "f85ce69c",
   "metadata": {},
   "source": [
    "### ES8\n",
    "Crea un array di numpy di 10000 elementi contenente tutti numeri decimali da 0,0 a 1,0 campionati con un intervallo di 0,0001. Questo array rappresenta il tempo da 0 s a 1 s, campionato a intervalli regolari di 0,0001 s. All'istante 0 s è generata un'onda che è somma di due sinusoidi aventi ampiezze unitarie e frequenze rispettivamente di 90 Hz e 100 Hz.\n",
    "Facendo uso dell'array precedente, crea un secondo array di numpy che contenga l'intensità dell'onda nell'intervallo da 0 s a 1 s campionata ogni 0,0001 s.\n",
    "- A quali istanti l'intensità dell'onda è maggiore della metà della sua ampiezza?\n",
    "- A quali istanti l'onda ha massimi locali?\n",
    "- A quali istanti l'onda ha massimi assoluti?\n",
    "- A quali instanti l'onda ha intensità pari a zero?\n"
   ]
  },
  {
   "cell_type": "code",
   "execution_count": 6,
   "id": "bb67400d",
   "metadata": {},
   "outputs": [
    {
     "data": {
      "text/plain": [
       "array([0.000e+00, 1.000e-04, 2.000e-04, ..., 9.998e-01, 9.999e-01,\n",
       "       1.000e+00])"
      ]
     },
     "execution_count": 6,
     "metadata": {},
     "output_type": "execute_result"
    }
   ],
   "source": [
    "#arrayFloat=np.arange(0.0,1.0001,0.0001)\n",
    "arrayFloat=np.linspace(0,1.0,10001)\n",
    "arrayFloat"
   ]
  },
  {
   "cell_type": "code",
   "execution_count": 8,
   "id": "b7d5ddfe",
   "metadata": {},
   "outputs": [],
   "source": [
    "frequenza_1=90 \n",
    "frequenza_2=100 \n",
    "sin_1=np.sin(2*np.pi*frequenza_1*arrayFloat)\n",
    "sin_2=np.sin(2*np.pi*frequenza_2*arrayFloat)\n",
    "onda_somma=sin_1+sin_2\n",
    "#intensita_onda=onda_somma**2\n",
    "#intensita_onda"
   ]
  },
  {
   "cell_type": "code",
   "execution_count": 9,
   "id": "4e67e61c",
   "metadata": {},
   "outputs": [
    {
     "data": {
      "text/plain": [
       "[<matplotlib.lines.Line2D at 0x2b3bad0ae50>]"
      ]
     },
     "execution_count": 9,
     "metadata": {},
     "output_type": "execute_result"
    },
    {
     "data": {
      "image/png": "[encoded data removed]",
      "text/plain": [
       "<Figure size 640x480 with 1 Axes>"
      ]
     },
     "metadata": {},
     "output_type": "display_data"
    }
   ],
   "source": [
    "plt.plot(arrayFloat,onda_somma)"
   ]
  },
  {
   "cell_type": "code",
   "execution_count": 11,
   "id": "922aff28",
   "metadata": {},
   "outputs": [
    {
     "data": {
      "text/plain": [
       "1.9929777454095727"
      ]
     },
     "execution_count": 11,
     "metadata": {},
     "output_type": "execute_result"
    }
   ],
   "source": [
    "ampiezza=np.max(onda_somma)\n",
    "ampiezza"
   ]
  },
  {
   "cell_type": "code",
   "execution_count": 13,
   "id": "418d1b6f",
   "metadata": {},
   "outputs": [
    {
     "data": {
      "text/plain": [
       "array([9.000e-04, 1.000e-03, 1.100e-03, ..., 9.936e-01, 9.937e-01,\n",
       "       9.938e-01])"
      ]
     },
     "execution_count": 13,
     "metadata": {},
     "output_type": "execute_result"
    }
   ],
   "source": [
    "arrayFloat[onda_somma>(ampiezza/2)]"
   ]
  },
  {
   "cell_type": "code",
   "execution_count": 23,
   "id": "d35caa70",
   "metadata": {},
   "outputs": [
    {
     "data": {
      "text/plain": [
       "array([0.0019, 0.002 , 0.0021, 0.0022, 0.0023, 0.0024, 0.0025, 0.0026,\n",
       "       0.0027, 0.0028, 0.0029, 0.003 , 0.0031, 0.0032, 0.0033, 0.0034,\n",
       "       0.0072, 0.0073, 0.0074, 0.0075, 0.0076, 0.0077, 0.0078, 0.0079,\n",
       "       0.008 , 0.0081, 0.0082, 0.0083, 0.0084, 0.0085, 0.0127, 0.0128,\n",
       "       0.0129, 0.013 , 0.0131, 0.0132, 0.0133, 0.0134, 0.0135, 0.0865,\n",
       "       0.0866, 0.0867, 0.0868, 0.0869, 0.087 , 0.0871, 0.0872, 0.0873,\n",
       "       0.0915, 0.0916, 0.0917, 0.0918, 0.0919, 0.092 , 0.0921, 0.0922,\n",
       "       0.0923, 0.0924, 0.0925, 0.0926, 0.0927, 0.0928, 0.0966, 0.0967,\n",
       "       0.0968, 0.0969, 0.097 , 0.0971, 0.0972, 0.0973, 0.0974, 0.0975,\n",
       "       0.0976, 0.0977, 0.0978, 0.0979, 0.098 , 0.0981, 0.1019, 0.102 ,\n",
       "       0.1021, 0.1022, 0.1023, 0.1024, 0.1025, 0.1026, 0.1027, 0.1028,\n",
       "       0.1029, 0.103 , 0.1031, 0.1032, 0.1033, 0.1034, 0.1072, 0.1073,\n",
       "       0.1074, 0.1075, 0.1076, 0.1077, 0.1078, 0.1079, 0.108 , 0.1081,\n",
       "       0.1082, 0.1083, 0.1084, 0.1085, 0.1127, 0.1128, 0.1129, 0.113 ,\n",
       "       0.1131, 0.1132, 0.1133, 0.1134, 0.1135, 0.1865, 0.1866, 0.1867,\n",
       "       0.1868, 0.1869, 0.187 , 0.1871, 0.1872, 0.1873, 0.1915, 0.1916,\n",
       "       0.1917, 0.1918, 0.1919, 0.192 , 0.1921, 0.1922, 0.1923, 0.1924,\n",
       "       0.1925, 0.1926, 0.1927, 0.1928, 0.1966, 0.1967, 0.1968, 0.1969,\n",
       "       0.197 , 0.1971, 0.1972, 0.1973, 0.1974, 0.1975, 0.1976, 0.1977,\n",
       "       0.1978, 0.1979, 0.198 , 0.1981, 0.2019, 0.202 , 0.2021, 0.2022,\n",
       "       0.2023, 0.2024, 0.2025, 0.2026, 0.2027, 0.2028, 0.2029, 0.203 ,\n",
       "       0.2031, 0.2032, 0.2033, 0.2034, 0.2072, 0.2073, 0.2074, 0.2075,\n",
       "       0.2076, 0.2077, 0.2078, 0.2079, 0.208 , 0.2081, 0.2082, 0.2083,\n",
       "       0.2084, 0.2085, 0.2127, 0.2128, 0.2129, 0.213 , 0.2131, 0.2132,\n",
       "       0.2133, 0.2134, 0.2135, 0.2865, 0.2866, 0.2867, 0.2868, 0.2869,\n",
       "       0.287 , 0.2871, 0.2872, 0.2873, 0.2915, 0.2916, 0.2917, 0.2918,\n",
       "       0.2919, 0.292 , 0.2921, 0.2922, 0.2923, 0.2924, 0.2925, 0.2926,\n",
       "       0.2927, 0.2928, 0.2966, 0.2967, 0.2968, 0.2969, 0.297 , 0.2971,\n",
       "       0.2972, 0.2973, 0.2974, 0.2975, 0.2976, 0.2977, 0.2978, 0.2979,\n",
       "       0.298 , 0.2981, 0.3019, 0.302 , 0.3021, 0.3022, 0.3023, 0.3024,\n",
       "       0.3025, 0.3026, 0.3027, 0.3028, 0.3029, 0.303 , 0.3031, 0.3032,\n",
       "       0.3033, 0.3034, 0.3072, 0.3073, 0.3074, 0.3075, 0.3076, 0.3077,\n",
       "       0.3078, 0.3079, 0.308 , 0.3081, 0.3082, 0.3083, 0.3084, 0.3085,\n",
       "       0.3127, 0.3128, 0.3129, 0.313 , 0.3131, 0.3132, 0.3133, 0.3134,\n",
       "       0.3135, 0.3865, 0.3866, 0.3867, 0.3868, 0.3869, 0.387 , 0.3871,\n",
       "       0.3872, 0.3873, 0.3915, 0.3916, 0.3917, 0.3918, 0.3919, 0.392 ,\n",
       "       0.3921, 0.3922, 0.3923, 0.3924, 0.3925, 0.3926, 0.3927, 0.3928,\n",
       "       0.3966, 0.3967, 0.3968, 0.3969, 0.397 , 0.3971, 0.3972, 0.3973,\n",
       "       0.3974, 0.3975, 0.3976, 0.3977, 0.3978, 0.3979, 0.398 , 0.3981,\n",
       "       0.4019, 0.402 , 0.4021, 0.4022, 0.4023, 0.4024, 0.4025, 0.4026,\n",
       "       0.4027, 0.4028, 0.4029, 0.403 , 0.4031, 0.4032, 0.4033, 0.4034,\n",
       "       0.4072, 0.4073, 0.4074, 0.4075, 0.4076, 0.4077, 0.4078, 0.4079,\n",
       "       0.408 , 0.4081, 0.4082, 0.4083, 0.4084, 0.4085, 0.4127, 0.4128,\n",
       "       0.4129, 0.413 , 0.4131, 0.4132, 0.4133, 0.4134, 0.4135, 0.4865,\n",
       "       0.4866, 0.4867, 0.4868, 0.4869, 0.487 , 0.4871, 0.4872, 0.4873,\n",
       "       0.4915, 0.4916, 0.4917, 0.4918, 0.4919, 0.492 , 0.4921, 0.4922,\n",
       "       0.4923, 0.4924, 0.4925, 0.4926, 0.4927, 0.4928, 0.4966, 0.4967,\n",
       "       0.4968, 0.4969, 0.497 , 0.4971, 0.4972, 0.4973, 0.4974, 0.4975,\n",
       "       0.4976, 0.4977, 0.4978, 0.4979, 0.498 , 0.4981, 0.5019, 0.502 ,\n",
       "       0.5021, 0.5022, 0.5023, 0.5024, 0.5025, 0.5026, 0.5027, 0.5028,\n",
       "       0.5029, 0.503 , 0.5031, 0.5032, 0.5033, 0.5034, 0.5072, 0.5073,\n",
       "       0.5074, 0.5075, 0.5076, 0.5077, 0.5078, 0.5079, 0.508 , 0.5081,\n",
       "       0.5082, 0.5083, 0.5084, 0.5085, 0.5127, 0.5128, 0.5129, 0.513 ,\n",
       "       0.5131, 0.5132, 0.5133, 0.5134, 0.5135, 0.5865, 0.5866, 0.5867,\n",
       "       0.5868, 0.5869, 0.587 , 0.5871, 0.5872, 0.5873, 0.5915, 0.5916,\n",
       "       0.5917, 0.5918, 0.5919, 0.592 , 0.5921, 0.5922, 0.5923, 0.5924,\n",
       "       0.5925, 0.5926, 0.5927, 0.5928, 0.5966, 0.5967, 0.5968, 0.5969,\n",
       "       0.597 , 0.5971, 0.5972, 0.5973, 0.5974, 0.5975, 0.5976, 0.5977,\n",
       "       0.5978, 0.5979, 0.598 , 0.5981, 0.6019, 0.602 , 0.6021, 0.6022,\n",
       "       0.6023, 0.6024, 0.6025, 0.6026, 0.6027, 0.6028, 0.6029, 0.603 ,\n",
       "       0.6031, 0.6032, 0.6033, 0.6034, 0.6072, 0.6073, 0.6074, 0.6075,\n",
       "       0.6076, 0.6077, 0.6078, 0.6079, 0.608 , 0.6081, 0.6082, 0.6083,\n",
       "       0.6084, 0.6085, 0.6127, 0.6128, 0.6129, 0.613 , 0.6131, 0.6132,\n",
       "       0.6133, 0.6134, 0.6135, 0.6865, 0.6866, 0.6867, 0.6868, 0.6869,\n",
       "       0.687 , 0.6871, 0.6872, 0.6873, 0.6915, 0.6916, 0.6917, 0.6918,\n",
       "       0.6919, 0.692 , 0.6921, 0.6922, 0.6923, 0.6924, 0.6925, 0.6926,\n",
       "       0.6927, 0.6928, 0.6966, 0.6967, 0.6968, 0.6969, 0.697 , 0.6971,\n",
       "       0.6972, 0.6973, 0.6974, 0.6975, 0.6976, 0.6977, 0.6978, 0.6979,\n",
       "       0.698 , 0.6981, 0.7019, 0.702 , 0.7021, 0.7022, 0.7023, 0.7024,\n",
       "       0.7025, 0.7026, 0.7027, 0.7028, 0.7029, 0.703 , 0.7031, 0.7032,\n",
       "       0.7033, 0.7034, 0.7072, 0.7073, 0.7074, 0.7075, 0.7076, 0.7077,\n",
       "       0.7078, 0.7079, 0.708 , 0.7081, 0.7082, 0.7083, 0.7084, 0.7085,\n",
       "       0.7127, 0.7128, 0.7129, 0.713 , 0.7131, 0.7132, 0.7133, 0.7134,\n",
       "       0.7135, 0.7865, 0.7866, 0.7867, 0.7868, 0.7869, 0.787 , 0.7871,\n",
       "       0.7872, 0.7873, 0.7915, 0.7916, 0.7917, 0.7918, 0.7919, 0.792 ,\n",
       "       0.7921, 0.7922, 0.7923, 0.7924, 0.7925, 0.7926, 0.7927, 0.7928,\n",
       "       0.7966, 0.7967, 0.7968, 0.7969, 0.797 , 0.7971, 0.7972, 0.7973,\n",
       "       0.7974, 0.7975, 0.7976, 0.7977, 0.7978, 0.7979, 0.798 , 0.7981,\n",
       "       0.8019, 0.802 , 0.8021, 0.8022, 0.8023, 0.8024, 0.8025, 0.8026,\n",
       "       0.8027, 0.8028, 0.8029, 0.803 , 0.8031, 0.8032, 0.8033, 0.8034,\n",
       "       0.8072, 0.8073, 0.8074, 0.8075, 0.8076, 0.8077, 0.8078, 0.8079,\n",
       "       0.808 , 0.8081, 0.8082, 0.8083, 0.8084, 0.8085, 0.8127, 0.8128,\n",
       "       0.8129, 0.813 , 0.8131, 0.8132, 0.8133, 0.8134, 0.8135, 0.8865,\n",
       "       0.8866, 0.8867, 0.8868, 0.8869, 0.887 , 0.8871, 0.8872, 0.8873,\n",
       "       0.8915, 0.8916, 0.8917, 0.8918, 0.8919, 0.892 , 0.8921, 0.8922,\n",
       "       0.8923, 0.8924, 0.8925, 0.8926, 0.8927, 0.8928, 0.8966, 0.8967,\n",
       "       0.8968, 0.8969, 0.897 , 0.8971, 0.8972, 0.8973, 0.8974, 0.8975,\n",
       "       0.8976, 0.8977, 0.8978, 0.8979, 0.898 , 0.8981, 0.9019, 0.902 ,\n",
       "       0.9021, 0.9022, 0.9023, 0.9024, 0.9025, 0.9026, 0.9027, 0.9028,\n",
       "       0.9029, 0.903 , 0.9031, 0.9032, 0.9033, 0.9034, 0.9072, 0.9073,\n",
       "       0.9074, 0.9075, 0.9076, 0.9077, 0.9078, 0.9079, 0.908 , 0.9081,\n",
       "       0.9082, 0.9083, 0.9084, 0.9085, 0.9127, 0.9128, 0.9129, 0.913 ,\n",
       "       0.9131, 0.9132, 0.9133, 0.9134, 0.9135, 0.9865, 0.9866, 0.9867,\n",
       "       0.9868, 0.9869, 0.987 , 0.9871, 0.9872, 0.9873, 0.9915, 0.9916,\n",
       "       0.9917, 0.9918, 0.9919, 0.992 , 0.9921, 0.9922, 0.9923, 0.9924,\n",
       "       0.9925, 0.9926, 0.9927, 0.9928, 0.9966, 0.9967, 0.9968, 0.9969,\n",
       "       0.997 , 0.9971, 0.9972, 0.9973, 0.9974, 0.9975, 0.9976, 0.9977,\n",
       "       0.9978, 0.9979, 0.998 , 0.9981])"
      ]
     },
     "execution_count": 23,
     "metadata": {},
     "output_type": "execute_result"
    }
   ],
   "source": [
    "#ω = 2·π/T\n",
    "a=(2*np.pi/1)/2\n",
    "arrayFloat[intensita_onda>a]"
   ]
  },
  {
   "cell_type": "code",
   "execution_count": 16,
   "id": "023d38c1",
   "metadata": {},
   "outputs": [
    {
     "data": {
      "text/plain": [
       "array([0.0026, 0.0131, 0.0236, 0.0341, 0.0443, 0.0514, 0.0608, 0.0712,\n",
       "       0.0816, 0.0921, 0.1026, 0.1131, 0.1236, 0.1341, 0.1443, 0.1514,\n",
       "       0.1608, 0.1712, 0.1816, 0.1921, 0.2026, 0.2131, 0.2236, 0.2341,\n",
       "       0.2443, 0.2514, 0.2608, 0.2712, 0.2816, 0.2921, 0.3026, 0.3131,\n",
       "       0.3236, 0.3341, 0.3443, 0.3514, 0.3608, 0.3712, 0.3816, 0.3921,\n",
       "       0.4026, 0.4131, 0.4236, 0.4341, 0.4443, 0.4514, 0.4608, 0.4712,\n",
       "       0.4816, 0.4921, 0.5026, 0.5131, 0.5236, 0.5341, 0.5443, 0.5514,\n",
       "       0.5608, 0.5712, 0.5816, 0.5921, 0.6026, 0.6131, 0.6236, 0.6341,\n",
       "       0.6443, 0.6514, 0.6608, 0.6712, 0.6816, 0.6921, 0.7026, 0.7131,\n",
       "       0.7236, 0.7341, 0.7443, 0.7514, 0.7608, 0.7712, 0.7816, 0.7921,\n",
       "       0.8026, 0.8131, 0.8236, 0.8341, 0.8443, 0.8514, 0.8608, 0.8712,\n",
       "       0.8816, 0.8921, 0.9026, 0.9131, 0.9236, 0.9341, 0.9443, 0.9514,\n",
       "       0.9608, 0.9712, 0.9816, 0.9921])"
      ]
     },
     "execution_count": 16,
     "metadata": {},
     "output_type": "execute_result"
    }
   ],
   "source": [
    "int1=np.roll(onda_somma,-1)#successivo\n",
    "int2=np.roll(onda_somma,1)#precedente\n",
    "massimi_onda_locali=arrayFloat[(onda_somma>int1)&(onda_somma>int2)]\n",
    "massimi_onda_locali"
   ]
  },
  {
   "cell_type": "code",
   "execution_count": 18,
   "id": "8e679cc6",
   "metadata": {},
   "outputs": [
    {
     "data": {
      "text/plain": [
       "array([0.7026])"
      ]
     },
     "execution_count": 18,
     "metadata": {},
     "output_type": "execute_result"
    }
   ],
   "source": [
    "massimo_assoluto=np.max(onda_somma)\n",
    "arrayFloat[onda_somma==massimo_assoluto]"
   ]
  },
  {
   "cell_type": "code",
   "execution_count": 19,
   "id": "e07e218c",
   "metadata": {},
   "outputs": [
    {
     "data": {
      "text/plain": [
       "0.0"
      ]
     },
     "execution_count": 19,
     "metadata": {},
     "output_type": "execute_result"
    }
   ],
   "source": [
    "minimo_assoluto=np.min(onda_somma)\n",
    "arrayFloat[onda_somma==minimo_assoluto]"
   ]
  },
  {
   "cell_type": "code",
   "execution_count": 20,
   "id": "faf05b11",
   "metadata": {},
   "outputs": [
    {
     "data": {
      "text/plain": [
       "array([0.])"
      ]
     },
     "execution_count": 20,
     "metadata": {},
     "output_type": "execute_result"
    }
   ],
   "source": [
    "#posizioni=(onda_somma==0)\n",
    "#arrayFloat[]\n",
    "arrayFloat[onda_somma==0]"
   ]
  },
  {
   "cell_type": "markdown",
   "id": "14859986",
   "metadata": {},
   "source": [
    "### ES9\n",
    "Due giocatori si affrontano in una partita a dadi: ogni volta che un giocatore ottiene un numero maggiore del suo rivale guadagna un punto, mentre se entrambi i giocatori ottengono lo stesso numero guadagnano\n",
    "mezzo punto ciascuno.\n",
    "- Simula una partita di 1000 lanci e registra i risultati di 10 partite.\n",
    "- Se un giocatore utilizzasse un dado truccato in cui il 5 e il 6 avessero una probabilità doppia di uscire rispetto agli altri numeri, potremmo riuscire a ca-pirlo?\n"
   ]
  },
  {
   "cell_type": "code",
   "execution_count": 3,
   "id": "de64a4e5",
   "metadata": {},
   "outputs": [
    {
     "name": "stdout",
     "output_type": "stream",
     "text": [
      "punti primo giocatore: 5.0, punti secondo giocatore: 5.0\n",
      "probabilità di uscita di 5,6 in una partita normale: 33.1%, 5: 17.1%, 6: 16.0%\n"
     ]
    }
   ],
   "source": [
    "num_lanci=1000\n",
    "num_partite=10\n",
    "num_giocatori=2\n",
    "\n",
    "partita=np.random.randint(1,7,(num_lanci,num_giocatori))\n",
    "indici_righe=np.random.choice(partita.shape[0],num_partite,replace=False)\n",
    "#scelgo le 10 partite\n",
    "part_significative=partita[indici_righe]\n",
    "#part_significative\n",
    "\n",
    "#calcolo i punti\n",
    "giocatore1=0\n",
    "giocatore2=0\n",
    "giocatore1=giocatore1+np.count_nonzero(part_significative[:,0]>part_significative[:,1])\n",
    "giocatore2=giocatore2+np.count_nonzero(part_significative[:,0]<part_significative[:,1])\n",
    "giocatore1=giocatore1+np.count_nonzero(part_significative[:,0]==part_significative[:,1])/2\n",
    "giocatore2=giocatore2+np.count_nonzero(part_significative[:,0]==part_significative[:,1])/2\n",
    "print(f\"punti primo giocatore: {giocatore1}, punti secondo giocatore: {giocatore2}\")\n",
    "\n",
    "#calcolo la frequenza del 5 e 6\n",
    "perc_n=np.count_nonzero(np.logical_or(partita[:,0]==5,partita[:,0]==6))/10\n",
    "perc_5=np.count_nonzero(partita[:,0]==5)/10\n",
    "perc_6=np.count_nonzero(partita[:,0]==6)/10\n",
    "print(f\"probabilità di uscita di 5,6 in una partita normale: {perc_n}%, 5: {perc_5}%, 6: {perc_6}%\")"
   ]
  },
  {
   "cell_type": "code",
   "execution_count": 5,
   "id": "09d1ea4c",
   "metadata": {},
   "outputs": [
    {
     "name": "stdout",
     "output_type": "stream",
     "text": [
      "probabilità di uscita di 5,6 in una partita truccata: 48.5%, 5: 36.4%, 6: 12.1%\n"
     ]
    }
   ],
   "source": [
    "probailita_uscita_numero=100/8\n",
    "probailita_uscita_5_6=probailita_uscita_numero*2\n",
    "partita[np.random.choice(partita.shape[0],int(probailita_uscita_5_6*10),replace=False),0]=np.random.choice(np.array([5,6]))\n",
    "\n",
    "perc_n=np.count_nonzero(np.logical_or(partita[:,0]==5,partita[:,0]==6))/10\n",
    "perc_5=np.count_nonzero(partita[:,0]==5)/10\n",
    "perc_6=np.count_nonzero(partita[:,0]==6)/10\n",
    "print(f\"probabilità di uscita di 5,6 in una partita truccata: {perc_n}%, 5: {perc_5}%, 6: {perc_6}%\")"
   ]
  },
  {
   "cell_type": "code",
   "execution_count": 4,
   "id": "2c2c9f65",
   "metadata": {},
   "outputs": [
    {
     "name": "stdout",
     "output_type": "stream",
     "text": [
      "probabilità di uscita di 5,6 in una partita truccata: 503.1%, 5: 250.1%, 6: 253.0%\n"
     ]
    }
   ],
   "source": [
    "gio_1=np.random.choice([1,2,3,4,5,6],(num_partite,num_lanci),p=[1/8,1/8,1/8,1/8,1/4,1/4])\n",
    "perc_n=np.count_nonzero(np.logical_or(gio_1==5,gio_1==6))/10\n",
    "perc_5=np.count_nonzero(gio_1==5)/10\n",
    "perc_6=np.count_nonzero(gio_1==6)/10\n",
    "print(f\"probabilità di uscita di 5,6 in una partita truccata: {perc_n}%, 5: {perc_5}%, 6: {perc_6}%\")"
   ]
  },
  {
   "cell_type": "markdown",
   "id": "50d9440c",
   "metadata": {},
   "source": [
    "### ES10\n",
    "Nel parco vicino alla scuola è installata una centralina per la misurazione del livello di polveri sottili PM10 nell'aria. Talvolta la centralina va in uno stato di errore per cui la misurazione delle PM 10 fallisce e il dato corrispondente riporta il valore 9999,9 all'interno dell'ar-\n",
    "ray delle misurazioni dati.\n",
    "Crea un array di 1000 campioni che generino dei valori secondo una distribuzione normale con valore medio\n",
    "19 e varianza 5 e supponi che la centralina sia andata in errore 20 volte.\n",
    "Con l'array così creato:\n",
    "- individua se ci sono due dati errati in finestre di al massimo 5 misurazioni consecutive e segnala che la centralina deve essere riparata;\n",
    "- ripulisci i dati dai valori errati e calcola media, massimo e minimo."
   ]
  },
  {
   "cell_type": "code",
   "execution_count": 22,
   "id": "f10a702d",
   "metadata": {},
   "outputs": [
    {
     "name": "stdout",
     "output_type": "stream",
     "text": [
      "18.847635155543497\n",
      "20.67359185599538\n",
      "21.35071317063237\n",
      "9999.9\n",
      "17.82656430713523\n",
      "21.437943301231265\n",
      "19.16743519564096\n",
      "21.427407837687092\n",
      "26.784837659432725\n",
      "17.385142968299135\n",
      "24.158597263640917\n",
      "21.182789920673553\n",
      "23.79086543415967\n",
      "24.78910508222277\n",
      "20.163541306019976\n",
      "26.15599094159193\n",
      "22.81808537049877\n",
      "16.69718941850425\n",
      "14.506708506219047\n",
      "14.665715902428303\n",
      "18.480554387464423\n",
      "20.096896069846043\n",
      "19.803104120487898\n",
      "18.529252678881274\n",
      "20.956981664483923\n",
      "13.388861944212648\n",
      "18.45825148781062\n",
      "22.088571258843952\n",
      "23.592491557429593\n",
      "25.56088059151434\n",
      "21.867684197837164\n",
      "22.31185924881813\n",
      "18.941233880419986\n",
      "15.22491131366941\n",
      "21.477768710650544\n",
      "11.96953539991779\n",
      "21.597712435199\n",
      "18.611525494240418\n",
      "13.968266547992382\n",
      "29.070335004402263\n",
      "18.133776842726668\n",
      "21.531129521025203\n",
      "16.804443673392253\n",
      "24.07568598443056\n",
      "16.71362434910862\n",
      "16.517619046629974\n",
      "17.64383489397541\n",
      "15.16560920263607\n",
      "21.057103005740718\n",
      "23.201871416055212\n",
      "21.677242681716947\n",
      "15.743112385982426\n",
      "15.93395666436806\n",
      "11.253001311532255\n",
      "16.071011174727587\n",
      "22.399787879660362\n",
      "21.783628094844232\n",
      "19.251019516103675\n",
      "7.62532206747364\n",
      "16.259879463180436\n",
      "20.323917322142847\n",
      "22.139640592062033\n",
      "19.05952142665321\n",
      "23.696726001536568\n",
      "27.449191296292025\n",
      "21.088090387059815\n",
      "12.71033352041942\n",
      "16.21560128199816\n",
      "21.375923486441557\n",
      "23.76976136185678\n",
      "25.986893244045213\n",
      "23.37624166056498\n",
      "9.956048776030666\n",
      "17.4464861922241\n",
      "30.038943291501386\n",
      "19.781668390975064\n",
      "20.820441720089907\n",
      "27.2292731531902\n",
      "14.179673315497096\n",
      "24.827814192593813\n",
      "19.85584927896221\n",
      "12.890413065791343\n",
      "18.49187759984837\n",
      "26.023065237990885\n",
      "23.622449010564573\n",
      "19.172078000641463\n",
      "25.849406638340103\n",
      "17.008196864723324\n",
      "15.356523955556952\n",
      "18.746738657916943\n",
      "17.24734308706982\n",
      "18.43548764009071\n",
      "18.426599292983628\n",
      "13.496268118354948\n",
      "24.376286826851455\n",
      "20.202497321133418\n",
      "18.712294343268994\n",
      "8.78410938841433\n",
      "17.018945161002186\n",
      "21.820783649615574\n",
      "15.91169780552813\n",
      "15.180176332481906\n",
      "14.436719668330532\n",
      "17.690583319353035\n",
      "24.525733098509075\n",
      "14.320448936884041\n",
      "24.605328773728253\n",
      "22.888101396006856\n",
      "20.339387883874018\n",
      "19.793924373744826\n",
      "18.11520901942318\n",
      "16.68037311090218\n",
      "17.803543246779757\n",
      "15.298917250653236\n",
      "18.632002135795915\n",
      "16.684205315778904\n",
      "21.385790925745525\n",
      "20.752462444630403\n",
      "30.59569702134607\n",
      "19.91686942490535\n",
      "8.8928036099586\n",
      "15.467566519582482\n",
      "6.958319190424968\n",
      "15.979258285590458\n",
      "24.041730948709414\n",
      "17.996488019406232\n",
      "19.001136836965788\n",
      "26.783350659904528\n",
      "26.42308159933392\n",
      "24.744826338295734\n",
      "24.843219448361552\n",
      "17.387710579128523\n",
      "14.829495991597753\n",
      "18.686071577090456\n",
      "13.35374555046431\n",
      "17.38087806267174\n",
      "22.488320037279014\n",
      "20.260269500961456\n",
      "20.208663393677142\n",
      "22.21842651690912\n",
      "16.439178498927344\n",
      "24.530143458936653\n",
      "27.30199096141413\n",
      "18.362453394262246\n",
      "16.721721607550183\n",
      "16.91261461713757\n",
      "13.197140480971202\n",
      "15.971523914491069\n",
      "15.35832493342924\n",
      "18.90572104580096\n",
      "16.471599298842108\n",
      "9999.9\n",
      "13.608512418002073\n",
      "16.747783202818706\n",
      "21.163202079794083\n",
      "17.063811901125337\n",
      "19.00804626287279\n",
      "24.167232311555388\n",
      "17.760769024022192\n",
      "19.920004007805872\n",
      "20.988084698252607\n",
      "21.95060675680858\n",
      "13.573077647398842\n",
      "19.08813786300485\n",
      "23.129233563745437\n",
      "15.751375881148206\n",
      "17.553012766906257\n",
      "16.70236274781662\n",
      "24.970159699371973\n",
      "8.209229204960831\n",
      "24.307371071899595\n",
      "24.82980683398381\n",
      "9.68450803404377\n",
      "20.126537690676855\n",
      "8.79704876510218\n",
      "20.068408828450323\n",
      "9.570682360844707\n",
      "12.527123281150821\n",
      "23.108635762205765\n",
      "17.52108563896703\n",
      "21.106256233418925\n",
      "22.685403258578862\n",
      "22.783397737769896\n",
      "11.962049452518372\n",
      "18.002533264441254\n",
      "11.731774350460476\n",
      "15.087840790239088\n",
      "18.684879314356234\n",
      "18.26345985343671\n",
      "16.59424105472059\n",
      "22.759000336681417\n",
      "19.19648129068356\n",
      "11.214698791459604\n",
      "14.241928433561558\n",
      "14.36008815291839\n",
      "24.25894141288365\n",
      "17.837548285414695\n",
      "17.585416976947503\n",
      "13.718958530172216\n",
      "17.205362599201827\n",
      "18.188557495915035\n",
      "12.194026221895985\n",
      "27.89565428635414\n",
      "13.900256219978242\n",
      "22.50019700590733\n",
      "14.328701567442739\n",
      "22.972896703419487\n",
      "13.121739762737374\n",
      "17.911388561888458\n",
      "21.561309641044367\n",
      "25.619111236654827\n",
      "16.210004865440617\n",
      "17.344386386985228\n",
      "16.16187293541985\n",
      "15.657041137561425\n",
      "12.362760622031079\n",
      "16.819245087449218\n",
      "24.54346893526504\n",
      "15.17221540067388\n",
      "15.416644971424995\n",
      "21.27814573082639\n",
      "13.69839172629311\n",
      "15.661138174139506\n",
      "20.244898073335897\n",
      "13.716458092708365\n",
      "17.26434103421762\n",
      "21.990331361188108\n",
      "17.881825797485412\n",
      "15.738398886597722\n",
      "12.268030608493039\n",
      "12.636071737928464\n",
      "12.708561611953428\n",
      "19.867929534952722\n",
      "21.747240217111663\n",
      "18.847363147005733\n",
      "22.99334127539646\n",
      "23.440824941702857\n",
      "16.243012454561935\n",
      "9999.9\n",
      "12.746186698878683\n",
      "9999.9\n",
      "14.013051424501647\n",
      "13.580418065427605\n",
      "11.85315695554132\n",
      "19.410800313003502\n",
      "16.43256348998393\n",
      "10.099978262139878\n",
      "22.231498666104173\n",
      "10.745044800232005\n",
      "22.00067475390621\n",
      "16.265055470215433\n",
      "18.43957535561689\n",
      "14.353903605106797\n",
      "11.054361429242707\n",
      "9.029670401939605\n",
      "18.6726141483834\n",
      "22.000315467447184\n",
      "22.408838213848192\n",
      "13.450451684663715\n",
      "23.739484127363284\n",
      "17.969640031731128\n",
      "9999.9\n",
      "22.29191177333436\n",
      "11.13254853869477\n",
      "13.161367174326795\n",
      "14.097314935614587\n",
      "16.476186029985463\n",
      "13.239173556605085\n",
      "15.574503340350505\n",
      "19.617649931503784\n",
      "27.316319618117483\n",
      "15.480068771223092\n",
      "17.74382925404462\n",
      "24.205058426999926\n",
      "17.476744687735714\n",
      "18.36731049348814\n",
      "14.394756796353121\n",
      "24.61776244511417\n",
      "10.611244017013803\n",
      "23.952611484909273\n",
      "13.51860449159968\n",
      "22.11620474078802\n",
      "31.53444052139572\n",
      "20.979295955696706\n",
      "20.25602949329093\n",
      "20.093756255752943\n",
      "22.378699630694417\n",
      "13.811670958505161\n",
      "18.13439711451511\n",
      "17.25060163064418\n",
      "17.73090741877795\n",
      "16.195169373153742\n",
      "23.1074258467603\n",
      "16.133304316378577\n",
      "29.21354757838428\n",
      "16.46419662855711\n",
      "15.180724207041628\n",
      "23.087221041402948\n",
      "12.46879880070404\n",
      "12.602336583255527\n",
      "16.567273473665068\n",
      "19.162093050671388\n",
      "15.8415523211391\n",
      "15.859709163496579\n",
      "15.769805742790608\n",
      "27.129525773444634\n",
      "11.377230592233989\n",
      "17.95903969887289\n",
      "13.332044555595882\n",
      "12.33287473622648\n",
      "15.174459271081023\n",
      "13.503348802231635\n",
      "18.94330161239063\n",
      "18.17963839376158\n",
      "19.226308208750666\n",
      "16.64179652973708\n",
      "17.43474562208658\n",
      "21.633814456014708\n",
      "16.699396956002527\n",
      "28.232369031075248\n",
      "21.24384136347247\n",
      "21.754403847338267\n",
      "16.161189128475677\n",
      "18.617754835064495\n",
      "20.99474538635076\n",
      "18.049059302233772\n",
      "9999.9\n",
      "15.711080516323298\n",
      "9999.9\n",
      "20.02010779786422\n",
      "9999.9\n",
      "11.505730685328835\n",
      "18.29738270052072\n",
      "13.488041081835462\n",
      "20.235048548536493\n",
      "18.083695142892118\n",
      "8.828449124720215\n",
      "26.204459423812587\n",
      "23.211430754008642\n",
      "13.888247979756919\n",
      "9999.9\n",
      "20.21793296454345\n",
      "21.094233572756288\n",
      "24.73263342051028\n",
      "19.601380659336943\n",
      "11.126870151715671\n",
      "21.18072487568489\n",
      "28.200854019424888\n",
      "16.293885636963896\n",
      "20.716067774131865\n",
      "16.0026732154843\n",
      "16.1914026447539\n",
      "23.478566497598678\n",
      "12.977615004584992\n",
      "19.242598239705725\n",
      "17.16527537362791\n",
      "13.124352863321441\n",
      "17.664982483829142\n",
      "15.538013277639408\n",
      "10.53138722004461\n",
      "30.356408078550484\n",
      "20.361192054564462\n",
      "14.17381536252147\n",
      "22.382580028072656\n",
      "20.53438479826652\n",
      "26.91402378056207\n",
      "24.790824804169564\n",
      "23.355851874743244\n",
      "9999.9\n",
      "17.082219846632675\n",
      "22.22078302269575\n",
      "21.798642073485794\n",
      "16.852004041034476\n",
      "17.435897072998284\n",
      "17.070554857871024\n",
      "19.797582541748582\n",
      "11.069204820914369\n",
      "23.404239839590282\n",
      "18.244934408086245\n",
      "18.34364591025923\n",
      "16.961230837500224\n",
      "20.30367706365641\n",
      "21.116460678081182\n",
      "17.695431849346473\n",
      "18.95055141295976\n",
      "26.746386082483703\n",
      "21.295487616804664\n",
      "14.632867176876886\n",
      "19.22258511525007\n",
      "17.235626896620534\n",
      "19.767318299567716\n",
      "15.304877865082593\n",
      "24.260592676149376\n",
      "21.463922176155926\n",
      "11.620432112191658\n",
      "26.062231486067617\n",
      "13.051504979043262\n",
      "18.96839934889047\n",
      "20.426290509728915\n",
      "23.191880112577056\n",
      "11.609125299604443\n",
      "24.166166068037214\n",
      "22.84491344144871\n",
      "18.635541671696718\n",
      "9999.9\n",
      "22.916390039322092\n",
      "10.951684316396689\n",
      "18.961220756904268\n",
      "16.063495176940148\n",
      "17.905547586153396\n",
      "20.611781104991\n",
      "30.704980303137365\n",
      "23.252990399039543\n",
      "15.360129838189778\n",
      "19.126743175780767\n",
      "20.082205080160325\n",
      "16.40869239021097\n",
      "12.036234820489401\n",
      "17.03448925173046\n",
      "11.654074098965836\n",
      "22.833062189340318\n",
      "25.51924912717862\n",
      "17.004084393331947\n",
      "17.70950669455054\n",
      "15.797741392428552\n",
      "19.58434305591366\n",
      "14.394309035868462\n",
      "18.16554208419302\n",
      "11.929699819776356\n",
      "19.54536695684998\n",
      "25.522580002327388\n",
      "5.634841511591077\n",
      "19.82520707643491\n",
      "9.831200288330237\n",
      "20.97148084654674\n",
      "9.744962388747606\n",
      "20.917140352473677\n",
      "22.437470902574614\n",
      "17.796991507555514\n",
      "13.918297219729851\n",
      "27.403434870325533\n",
      "12.152427101110558\n",
      "15.026279323687813\n",
      "14.37974097085167\n",
      "20.06654375163133\n",
      "19.584246973919466\n",
      "18.987194338548107\n",
      "5.877950364883954\n",
      "19.82922385699018\n",
      "14.185589279058426\n",
      "13.381356727230024\n",
      "19.756214793638367\n",
      "29.753287893940993\n",
      "7.420833093387907\n",
      "10.298719140988373\n",
      "24.318779392250345\n",
      "30.342872786375906\n",
      "10.801988790741975\n",
      "18.865636289987343\n",
      "16.357037471280286\n",
      "23.14471984352439\n",
      "18.009241294651126\n",
      "19.866501421252842\n",
      "18.176557870360675\n",
      "16.852799475551038\n",
      "27.47211101225293\n",
      "21.10317754140403\n",
      "16.51339572345586\n",
      "23.413362800159593\n",
      "14.078153402279277\n",
      "6.821758197392439\n",
      "14.967190821974704\n",
      "19.420219604646874\n",
      "24.430100558186634\n",
      "18.460710982076595\n",
      "16.221948127197983\n",
      "16.948553936870468\n",
      "19.86206794357837\n",
      "21.346811723620487\n",
      "27.37281996477493\n",
      "23.57697908447844\n",
      "21.337761850084476\n",
      "16.617615500641243\n",
      "22.71758860606725\n",
      "13.067533976587605\n",
      "23.073310372140316\n",
      "13.505490530944492\n",
      "20.586554009787825\n",
      "21.076433465028693\n",
      "21.061589522138156\n",
      "23.052775015267127\n",
      "9999.9\n",
      "21.8614230773559\n",
      "9.66726654024354\n",
      "15.883762035545718\n",
      "22.627018358380035\n",
      "8.880319865268984\n",
      "15.299607635708078\n",
      "27.13232121152034\n",
      "21.155777198614004\n",
      "20.697152998789303\n",
      "27.986209659129212\n",
      "13.677682711429341\n",
      "20.71462894241699\n",
      "14.519948934637021\n",
      "27.564202574343273\n",
      "17.062670917415762\n",
      "17.682090478875406\n",
      "14.9314794210138\n",
      "15.976809647233184\n",
      "12.818917335973488\n",
      "16.915812067891515\n",
      "18.739210626208656\n",
      "8.090095450590168\n",
      "13.376960398023364\n",
      "19.86644721487012\n",
      "21.095335123748963\n",
      "17.378269342593274\n",
      "21.604994974365905\n",
      "22.60424980260459\n",
      "14.754668133108922\n",
      "18.246259564957278\n",
      "28.108213429929783\n",
      "18.809067957214495\n",
      "16.69722711287386\n",
      "12.346878668220725\n",
      "25.718913691444182\n",
      "19.3775037926313\n",
      "20.332176208009084\n",
      "16.454065658327163\n",
      "11.192203722328648\n",
      "19.60502823109612\n",
      "19.43466342206966\n",
      "10.505351574120061\n",
      "14.931313397242405\n",
      "20.492092876242673\n",
      "12.852616230048485\n",
      "21.59157999509593\n",
      "8.73036643776423\n",
      "13.116295719811797\n",
      "17.486696289603252\n",
      "24.396615949844445\n",
      "19.83399454830987\n",
      "18.808119171403398\n",
      "21.73516649181214\n",
      "19.524953474538123\n",
      "28.11968229264371\n",
      "19.573786416822855\n",
      "19.01185927854415\n",
      "28.58903277207753\n",
      "12.318880624622862\n",
      "18.70131375272648\n",
      "20.03436001182424\n",
      "16.325474245340693\n",
      "13.564995629630785\n",
      "15.259308840056665\n",
      "23.531420389512274\n",
      "8.62452781739631\n",
      "18.21657310516543\n",
      "17.525148865531328\n",
      "18.089332701548855\n",
      "7.270486701107192\n",
      "20.69942385309041\n",
      "19.166551496492623\n",
      "18.048917826529443\n",
      "19.983836214263736\n",
      "19.20223431896304\n",
      "16.35280206659482\n",
      "28.366105917566202\n",
      "25.03624550541786\n",
      "23.95720857900212\n",
      "14.464605184027384\n",
      "21.65039605852332\n",
      "10.633447433407705\n",
      "26.116651688805476\n",
      "18.285678602669933\n",
      "17.914371754159642\n",
      "21.936995865474476\n",
      "19.926358638804608\n",
      "15.527496583267983\n",
      "24.922283102077984\n",
      "21.118496555933838\n",
      "17.482959602351322\n",
      "13.070713733515761\n",
      "21.157521872681713\n",
      "20.227278456210396\n",
      "26.66077914474871\n",
      "20.43911904495809\n",
      "17.21083918222402\n",
      "24.28448356839681\n",
      "15.048549122103868\n",
      "17.16122024050461\n",
      "27.38670445648812\n",
      "17.593212806937366\n",
      "22.8479384274223\n",
      "16.77564898781925\n",
      "27.87798621192831\n",
      "8.697236652499669\n",
      "20.51536752126384\n",
      "19.621495621618788\n",
      "17.968646507253005\n",
      "21.835743309263542\n",
      "19.304237141404972\n",
      "14.950129670077558\n",
      "21.66848569364373\n",
      "14.333005318583865\n",
      "27.171969824038868\n",
      "21.01422544303738\n",
      "30.26353451390287\n",
      "21.15670960729336\n",
      "18.052154102042493\n",
      "24.839012351961326\n",
      "18.403030056968838\n",
      "20.77429387927908\n",
      "5.071126382939436\n",
      "26.982444520907823\n",
      "11.238014595962571\n",
      "14.19915945823607\n",
      "19.63984366463859\n",
      "19.190367769156236\n",
      "25.819014591945596\n",
      "15.183847707297979\n",
      "16.05254569673852\n",
      "21.249524661286674\n",
      "19.78419219889329\n",
      "17.187278637024505\n",
      "13.714681217753446\n",
      "22.988492531494906\n",
      "23.137908161282013\n",
      "19.468580853578693\n",
      "21.025352013169236\n",
      "15.97271373029086\n",
      "22.046362045259812\n",
      "30.562389683402426\n",
      "20.417689321951677\n",
      "16.995157625805238\n",
      "12.913981240516653\n",
      "17.65376643564698\n",
      "9999.9\n",
      "20.16327681586022\n",
      "15.505990903383875\n",
      "8.710343881713754\n",
      "14.649479308855408\n",
      "25.769134328668265\n",
      "26.985680220470382\n",
      "18.821866226265175\n",
      "29.65152735216195\n",
      "12.331124381501919\n",
      "17.03986208703748\n",
      "22.23285989555868\n",
      "22.8128710561292\n",
      "12.730384446410767\n",
      "31.75811275769078\n",
      "17.47611683841626\n",
      "18.084271110075893\n",
      "22.41262717650333\n",
      "29.644602467896206\n",
      "15.590571693382028\n",
      "26.0775354550239\n",
      "11.922763160449659\n",
      "19.190381329565618\n",
      "21.993327140122602\n",
      "25.95095437831225\n",
      "13.14589551218894\n",
      "22.955470043026512\n",
      "22.797771406080926\n",
      "17.382050123897965\n",
      "19.31037102817529\n",
      "11.946456852594185\n",
      "20.485247177831504\n",
      "20.096669971034\n",
      "19.101421702922575\n",
      "21.664628099278037\n",
      "20.29066291367591\n",
      "9999.9\n",
      "10.975972988716073\n",
      "10.613291284574958\n",
      "15.37934873892494\n",
      "15.32680198934803\n",
      "14.047376745197237\n",
      "18.28679138464162\n",
      "22.48766314257398\n",
      "12.124531922669089\n",
      "18.943298820393046\n",
      "19.18580104187121\n",
      "18.633455763273776\n",
      "23.627699359510927\n",
      "21.63347108585691\n",
      "22.585122507329885\n",
      "16.161072414771954\n",
      "31.204379048819142\n",
      "23.277953632367783\n",
      "22.42905628544681\n",
      "23.093335715815925\n",
      "15.171664014124033\n",
      "23.0046569560452\n",
      "23.085997926811224\n",
      "16.509460800119214\n",
      "21.3392994227828\n",
      "13.235129453495535\n",
      "15.658438900273163\n",
      "23.49954446534742\n",
      "22.701770468825394\n",
      "16.02518461499336\n",
      "7.050572674788887\n",
      "21.25452547209236\n",
      "20.577739193106964\n",
      "31.723159552273472\n",
      "10.39779530438027\n",
      "20.872011930991448\n",
      "17.08584805806761\n",
      "22.626662547888266\n",
      "19.056799245124292\n",
      "22.598333136633936\n",
      "24.1192182596332\n",
      "20.84366308428573\n",
      "26.892538461765607\n",
      "15.268218438810807\n",
      "16.23607198217202\n",
      "19.71278487905172\n",
      "17.109603323565057\n",
      "21.73442049038818\n",
      "27.30427938301292\n",
      "23.750595991863968\n",
      "16.80218556933882\n",
      "19.468676343635085\n",
      "19.96115203821057\n",
      "25.80463887331641\n",
      "16.328791229020467\n",
      "18.133318300446874\n",
      "8.411080193721592\n",
      "19.62621352007416\n",
      "13.418710618335913\n",
      "21.04987658129971\n",
      "28.028887672666055\n",
      "7.784603200789427\n",
      "15.966029144337767\n",
      "13.185140627200148\n",
      "26.707153006602006\n",
      "23.0277470505075\n",
      "16.177013284397223\n",
      "19.801433027182615\n",
      "22.197503795680117\n",
      "29.04667736137165\n",
      "16.161568905846224\n",
      "24.89673485236711\n",
      "19.64400205870522\n",
      "8.125825653167274\n",
      "23.95589518530877\n",
      "20.30313480488271\n",
      "18.394820318801397\n",
      "18.83122894188571\n",
      "20.46902548936943\n",
      "26.511591961916757\n",
      "17.34966114793711\n",
      "15.859326324263254\n",
      "25.59066674522723\n",
      "15.37331992885477\n",
      "30.89847934514906\n",
      "11.348031623739882\n",
      "8.935214466576225\n",
      "19.618216031851865\n",
      "22.009175434659937\n",
      "19.6450627122997\n",
      "24.236016269791282\n",
      "32.54957159543437\n",
      "22.76399674541214\n",
      "25.590058342104626\n",
      "32.69585402624343\n",
      "19.1498682678931\n",
      "14.539109915225787\n",
      "15.552402563681195\n",
      "19.221161985710307\n",
      "10.52718245958061\n",
      "24.876854387907496\n",
      "22.029641248718647\n",
      "26.081882820607802\n",
      "21.09643637719421\n",
      "25.876169709145223\n",
      "20.96744165717731\n",
      "20.972243126064043\n",
      "23.69344555658481\n",
      "9.303587608967172\n",
      "21.842608368382287\n",
      "22.062713815139467\n",
      "22.425836929631615\n",
      "25.590237141253407\n",
      "9999.9\n",
      "27.40493477630744\n",
      "27.92399373539614\n",
      "24.675208936095302\n",
      "13.505036423247343\n",
      "21.262328074775485\n",
      "21.404358470743418\n",
      "23.795050154771186\n",
      "28.042698822703798\n",
      "20.635491724707027\n",
      "18.119429991683198\n",
      "16.258374853648878\n",
      "18.752878682895236\n",
      "18.05357780560969\n",
      "12.567016243647775\n",
      "14.811943324449668\n",
      "14.552443546410618\n",
      "22.137277086113293\n",
      "10.656230714615608\n",
      "20.367916387049938\n",
      "20.16924448317731\n",
      "20.59347540923536\n",
      "10.99496804787487\n",
      "19.66425463113956\n",
      "9999.9\n",
      "15.207845901198553\n",
      "23.74943742303947\n",
      "14.070634604294073\n",
      "26.78803415595145\n",
      "19.45109217164873\n",
      "22.55439601696642\n",
      "12.618905127385808\n",
      "24.594583378503017\n",
      "20.445585116405525\n",
      "25.645412301496314\n",
      "15.026276582010908\n",
      "21.620890963736453\n",
      "9999.9\n",
      "24.427726848419987\n",
      "13.90621899675578\n",
      "20.231473071920963\n",
      "18.676573088622412\n",
      "16.224037007848892\n",
      "13.576290462467103\n",
      "17.87199341744082\n",
      "22.137985845313757\n",
      "31.8139605363217\n",
      "19.129980608147577\n",
      "19.180860210643313\n",
      "17.779136389366712\n",
      "22.979479728319266\n",
      "13.679852261804406\n",
      "20.04880533209277\n",
      "26.17101719254319\n",
      "19.678808968030758\n",
      "21.52052722836821\n",
      "23.540440336398817\n",
      "17.518606713806633\n",
      "18.594531462632524\n",
      "19.705071187401398\n",
      "20.547918710600012\n",
      "26.400161319995608\n",
      "23.7474796840974\n",
      "24.19869318291324\n",
      "14.501294561406894\n",
      "24.633552069396536\n",
      "17.832479601819095\n",
      "20.933159256179618\n",
      "20.376571670435684\n",
      "9.804321144839475\n",
      "15.354106864915646\n",
      "14.374773974411028\n",
      "16.964797685907246\n",
      "24.690952277150423\n",
      "24.577304536613134\n",
      "20.586269122641703\n",
      "6.302842669578437\n",
      "20.727674976804483\n",
      "21.35658905677224\n",
      "22.00714050135945\n",
      "20.556277363999413\n",
      "15.59679563643315\n",
      "15.637412090675003\n",
      "20.957314376512006\n",
      "8.623234149561755\n",
      "23.964636579810588\n",
      "18.151646952581846\n",
      "17.999338357160678\n",
      "18.558635258460427\n",
      "11.141447561538138\n",
      "23.43049663070248\n",
      "10.113873297876705\n",
      "9999.9\n",
      "21.19116392545498\n",
      "17.963062504669587\n",
      "15.598185479459117\n",
      "20.370962932102913\n",
      "15.48067166571206\n",
      "13.317833036308446\n",
      "8.971662167889361\n",
      "19.8956741342737\n",
      "15.551712124761451\n",
      "16.227926785173203\n",
      "18.401391514560494\n",
      "17.350895852185165\n",
      "25.607552566767225\n",
      "21.23814174591407\n",
      "23.208576839390723\n",
      "16.996284893971875\n",
      "17.505480378811093\n",
      "16.956755909987965\n",
      "13.762767546194677\n",
      "19.87216582529052\n",
      "21.596950986391946\n",
      "15.652692379784217\n",
      "20.1687527055892\n",
      "19.772331405446586\n",
      "16.576038071315338\n",
      "22.17420497429196\n",
      "3.701833842489709\n",
      "20.59946735077939\n",
      "18.982476956020246\n",
      "18.979040144010305\n",
      "18.82644862727243\n",
      "25.828003744368907\n",
      "13.541895983144423\n",
      "19.579624511074098\n",
      "24.84382365518826\n",
      "23.62666387459209\n",
      "14.45977224736188\n",
      "25.535503420166858\n",
      "27.481681399560173\n",
      "21.141190413769536\n",
      "20.106400826710477\n",
      "30.162297750696226\n",
      "23.995677116765115\n",
      "25.252713507859152\n",
      "20.338792581530278\n",
      "22.309155570091143\n",
      "22.751749201079605\n",
      "27.69707640772323\n",
      "19.287541497878173\n",
      "9999.9\n",
      "16.959274778192704\n",
      "22.24215232601835\n",
      "11.410482863094488\n",
      "26.060350769391327\n",
      "33.367540172740604\n",
      "28.825869436380863\n",
      "20.59123605839833\n",
      "16.26708256968129\n",
      "13.866921231070666\n",
      "18.75457263053342\n",
      "15.106238035074503\n",
      "15.66701174001699\n",
      "21.838361141773873\n",
      "26.622110702717215\n",
      "10.112621152452263\n",
      "13.298637722834934\n",
      "20.11065238951133\n",
      "23.599126464812585\n",
      "18.39610816049921\n",
      "20.194000276601876\n",
      "24.639012298024113\n",
      "20.866239861367564\n",
      "23.347432966249897\n",
      "26.524963483570186\n",
      "20.864508756097067\n",
      "9.214204572636463\n",
      "27.977463670644994\n",
      "18.98817190175392\n",
      "25.26948663423876\n",
      "18.589037512426916\n",
      "25.43730373051192\n",
      "27.933524766125082\n",
      "23.95949202158468\n",
      "21.12561195094875\n",
      "15.75977024455295\n",
      "10.761599765073521\n",
      "21.935857499888407\n",
      "17.857830987917506\n",
      "14.74661623786571\n",
      "21.86240982722497\n",
      "18.19623554118188\n",
      "13.285444836481245\n",
      "13.831567368088646\n",
      "10.09216103714437\n",
      "16.540762873317412\n",
      "10.046402149236172\n",
      "20.960919483208507\n",
      "21.664846143991355\n",
      "9999.9\n",
      "20.587152192051118\n",
      "20.43541767405896\n",
      "22.493522668484214\n",
      "13.642498897400419\n",
      "22.631837121927767\n",
      "11.031995921653404\n",
      "10.150560887571\n",
      "18.973237261968936\n",
      "13.223253837871717\n",
      "19.99468254582787\n",
      "21.067182800275138\n",
      "21.032737694234164\n",
      "10.893133650993727\n",
      "10.746990494367694\n",
      "19.993153676070172\n",
      "24.00238007483989\n",
      "12.013151541881115\n",
      "9.903337883585477\n",
      "19.404917364533336\n",
      "14.425332954296758\n",
      "15.977795968099363\n"
     ]
    }
   ],
   "source": [
    "dati=np.random.normal(19,5,1000)\n",
    "valori_da_sostituire= np.random.choice(1000,20,replace=False)\n",
    "dati[valori_da_sostituire]=9999.9   \n",
    "for dato in dati:\n",
    "    print(dato)"
   ]
  },
  {
   "cell_type": "code",
   "execution_count": 23,
   "id": "3059a700",
   "metadata": {},
   "outputs": [
    {
     "data": {
      "text/plain": [
       "20"
      ]
     },
     "execution_count": 23,
     "metadata": {},
     "output_type": "execute_result"
    }
   ],
   "source": [
    "np.count_nonzero(dati==9999.9)"
   ]
  },
  {
   "cell_type": "code",
   "execution_count": 25,
   "id": "0bb94a55",
   "metadata": {},
   "outputs": [
    {
     "data": {
      "text/plain": [
       "array([  3, 151, 238, 240, 261, 326, 328, 330, 340, 368, 404, 491, 638,\n",
       "       674, 787, 811, 824, 879, 929, 978])"
      ]
     },
     "execution_count": 25,
     "metadata": {},
     "output_type": "execute_result"
    }
   ],
   "source": [
    "indici=np.arange(0,1000)\n",
    "indici[dati==9999.9]"
   ]
  },
  {
   "cell_type": "code",
   "execution_count": 28,
   "id": "c8a155f7",
   "metadata": {},
   "outputs": [
    {
     "data": {
      "text/plain": [
       "4"
      ]
     },
     "execution_count": 28,
     "metadata": {},
     "output_type": "execute_result"
    }
   ],
   "source": [
    "np.count_nonzero(np.roll(indici[dati==9999.9],-1)-indici[dati==9999.9]<=5)"
   ]
  },
  {
   "cell_type": "code",
   "execution_count": 29,
   "id": "3668d727",
   "metadata": {},
   "outputs": [
    {
     "data": {
      "text/plain": [
       "4"
      ]
     },
     "execution_count": 29,
     "metadata": {},
     "output_type": "execute_result"
    }
   ],
   "source": [
    "np.count_nonzero((np.roll(np.where(dati==9999.9),-1)-np.where(dati==9999.9))<=5)"
   ]
  },
  {
   "cell_type": "code",
   "execution_count": 31,
   "id": "7dfe0b8a",
   "metadata": {},
   "outputs": [
    {
     "data": {
      "text/plain": [
       "0"
      ]
     },
     "execution_count": 31,
     "metadata": {},
     "output_type": "execute_result"
    }
   ],
   "source": [
    "datiPuliti=dati[dati!=9999.9]\n",
    "np.count_nonzero(datiPuliti==9999.9)"
   ]
  },
  {
   "cell_type": "code",
   "execution_count": 32,
   "id": "e77304f2",
   "metadata": {},
   "outputs": [
    {
     "data": {
      "text/plain": [
       "33.367540172740604"
      ]
     },
     "execution_count": 32,
     "metadata": {},
     "output_type": "execute_result"
    }
   ],
   "source": [
    "massimo=np.max(datiPuliti)\n",
    "massimo"
   ]
  },
  {
   "cell_type": "code",
   "execution_count": 33,
   "id": "2881e208",
   "metadata": {},
   "outputs": [
    {
     "data": {
      "text/plain": [
       "3.701833842489709"
      ]
     },
     "execution_count": 33,
     "metadata": {},
     "output_type": "execute_result"
    }
   ],
   "source": [
    "minimo=np.min(datiPuliti)\n",
    "minimo"
   ]
  },
  {
   "cell_type": "code",
   "execution_count": 34,
   "id": "7e986cdc",
   "metadata": {},
   "outputs": [
    {
     "data": {
      "text/plain": [
       "18.93370056695583"
      ]
     },
     "execution_count": 34,
     "metadata": {},
     "output_type": "execute_result"
    }
   ],
   "source": [
    "media=np.mean(datiPuliti)\n",
    "media"
   ]
  },
  {
   "cell_type": "markdown",
   "id": "0c888e07",
   "metadata": {},
   "source": [
    "### ES11\n",
    "Sul territorio comunale sono installate tre centraline per la misurazione del livello di polveri sottili PM10 nell'aria. Talvolta le centraline vanno in uno stato di errore per cui la misurazione delle PM10 fallisce e il dato corrispondente riporta il valore 9999,9 all'interno dell'array delle misurazioni. Inoltre, per motivi sco-nosciuti, talvolta le centraline riportano il valore -1.\n",
    "Statisticamente si è visto che il primo errore ha una frequenza dello 0,2% e il secondo dello 0, 1%.\n",
    "› Crea una matrice avente 3 colonne (una per ogni centralina) e sulle righe i dati registrati dalle centraline nelle 24 ore (si registra il dato ogni minuto).\n",
    "› Elimina tutte le righe della matrice in cui vi sia almeno una misura errata o una misura di origine sconosciuta.\n"
   ]
  },
  {
   "cell_type": "code",
   "execution_count": 38,
   "id": "4d8aca17",
   "metadata": {},
   "outputs": [
    {
     "data": {
      "text/plain": [
       "array([[15.70742825, 11.83882607, 13.80854098],\n",
       "       [24.810475  , 24.53583895, 23.06287126],\n",
       "       [25.71808301, 13.8015779 , 17.48919978],\n",
       "       ...,\n",
       "       [20.6544291 , 16.2301309 , 14.56925734],\n",
       "       [19.66256671, 20.24709531, 15.46267996],\n",
       "       [16.31681011, 24.38360049, 17.22515388]])"
      ]
     },
     "execution_count": 38,
     "metadata": {},
     "output_type": "execute_result"
    }
   ],
   "source": [
    "num_ore=24\n",
    "num_minuti=num_ore*60\n",
    "errore_9=0.2\n",
    "errore_1=0.1\n",
    "dati=np.random.normal(19,5,(num_minuti,3))\n",
    "for i in range(3):\n",
    "    valori_da_sostituire= np.random.choice(num_minuti,int(errore_9*num_minuti/100),replace=False)\n",
    "    dati[valori_da_sostituire,i]=9999.9\n",
    "for i in range(3):\n",
    "    valori_da_sostituire= np.random.choice(num_minuti,int(errore_1*num_minuti/100),replace=False)\n",
    "    dati[valori_da_sostituire,i]=-1\n",
    "    '''\n",
    "for i in range(3):\n",
    "    indici=dati[:,np.logical_or((dati[:,i]!=9999.9),(dati[:,i]!=-1))]\n",
    "    dati[:, i]=dati[:,indici]\n",
    "'''\n",
    "\n",
    "dati = dati[~np.any((dati == 9999.9) | (dati == -1), axis=1)]\n",
    "dati\n",
    "#dati[dati==9999.9]\n",
    "#dati[dati==-1]"
   ]
  },
  {
   "cell_type": "code",
   "execution_count": 48,
   "id": "38ea0e41",
   "metadata": {},
   "outputs": [],
   "source": [
    "#SOLUZIONE\n",
    "num_ore=24\n",
    "num_minuti=num_ore*60\n",
    "errore_9=0.2\n",
    "errore_1=0.1\n",
    "dati2=np.random.normal(19,5,(num_minuti,3))\n",
    "errore_t1=np.random.choice([True, False], (num_minuti,3),p=[0.001,0.999])\n",
    "errore_t9=np.random.choice([True, False], (num_minuti,3),p=[0.002,0.998])"
   ]
  },
  {
   "cell_type": "code",
   "execution_count": 49,
   "id": "cc99b2e6",
   "metadata": {},
   "outputs": [],
   "source": [
    "dati2[errore_t1]=-1\n",
    "dati2[errore_t9]=9999.9"
   ]
  },
  {
   "cell_type": "code",
   "execution_count": 50,
   "id": "15e42cc3",
   "metadata": {},
   "outputs": [],
   "source": [
    "n_errori_riga=np.count_nonzero(((dati2 == 9999.9) | (dati2 == -1)),axis=1)#ho 1 array con 0 dove ho righe senza errori, \n",
    "#un numero se la riga ha errori"
   ]
  },
  {
   "cell_type": "code",
   "execution_count": 51,
   "id": "cf2f52fd",
   "metadata": {},
   "outputs": [
    {
     "data": {
      "text/plain": [
       "array([[22.85940438, 11.02890468,  7.65111144],\n",
       "       [23.51964261, 13.70327319, 22.7530643 ],\n",
       "       [14.01181988, 21.59125145, 21.17098482],\n",
       "       ...,\n",
       "       [26.16538065, 15.72509946, 17.1892083 ],\n",
       "       [20.32597636, 16.70160495, 18.29105701],\n",
       "       [20.72830479, 11.80970766, 21.78313339]])"
      ]
     },
     "execution_count": 51,
     "metadata": {},
     "output_type": "execute_result"
    }
   ],
   "source": [
    "misure_pulite=dati2[n_errori_riga==0]\n",
    "misure_pulite"
   ]
  },
  {
   "cell_type": "code",
   "execution_count": 57,
   "id": "c7b2df46",
   "metadata": {},
   "outputs": [
    {
     "data": {
      "text/plain": [
       "array([36.40884201, 34.85721806, 36.41559647])"
      ]
     },
     "execution_count": 57,
     "metadata": {},
     "output_type": "execute_result"
    }
   ],
   "source": [
    "#axis lo posso usare in tutte le funzioni che aggregano i dati\n",
    "np.max(misure_pulite,axis=0)"
   ]
  },
  {
   "cell_type": "code",
   "execution_count": 58,
   "id": "6f8048ac",
   "metadata": {},
   "outputs": [
    {
     "data": {
      "text/plain": [
       "array([3.71528093, 2.3613575 , 1.39971191])"
      ]
     },
     "execution_count": 58,
     "metadata": {},
     "output_type": "execute_result"
    }
   ],
   "source": [
    "np.min(misure_pulite,axis=0)"
   ]
  },
  {
   "cell_type": "code",
   "execution_count": 59,
   "id": "4966b7e1",
   "metadata": {},
   "outputs": [
    {
     "data": {
      "text/plain": [
       "array([19.15426073, 18.95488005, 19.04157052])"
      ]
     },
     "execution_count": 59,
     "metadata": {},
     "output_type": "execute_result"
    }
   ],
   "source": [
    "np.mean(misure_pulite,axis=0)"
   ]
  },
  {
   "cell_type": "code",
   "execution_count": null,
   "id": "6bc813d1",
   "metadata": {},
   "outputs": [],
   "source": []
  }
 ],
 "metadata": {
  "kernelspec": {
   "display_name": "Python 3 (ipykernel)",
   "language": "python",
   "name": "python3"
  },
  "language_info": {
   "codemirror_mode": {
    "name": "ipython",
    "version": 3
   },
   "file_extension": ".py",
   "mimetype": "text/x-python",
   "name": "python",
   "nbconvert_exporter": "python",
   "pygments_lexer": "ipython3",
   "version": "3.11.4"
  }
 },
 "nbformat": 4,
 "nbformat_minor": 5
}
