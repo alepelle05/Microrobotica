{
 "cells": [
  {
   "cell_type": "markdown",
   "id": "8e65bebf",
   "metadata": {},
   "source": [
    "## esercizio su parandello\n",
    "scriviamo un programma in python che veda il testo come un insieme di parole\n",
    "prendo il file, lo leggo, creo un dizionario dove chiave: parola, valore il numero di volte"
   ]
  },
  {
   "cell_type": "code",
   "execution_count": null,
   "id": "acb85392",
   "metadata": {},
   "outputs": [],
   "source": [
    "def file_2_parole(filePath,punteggiatura):\n",
    "    #dot string\n",
    "    \"\"\"\n",
    "    la funzione file_2_parole trasforma un file di testo nella lista di parole\n",
    "    >INPUT:\n",
    "    -filepath: str, path del file di testo\n",
    "    -punteggiatura: list of str, lista dei caratteri di punteggiatura da eliminare\n",
    "    \n",
    "    RETURN\n",
    "    -lista delle parole\n",
    "    \"\"\"\n",
    "    file=open(filePath,\"r\",encoding=\"utf-8\")\n",
    "    righe=file.readlines()\n",
    "    file.close()\n",
    "    righe_senza_return=[riga[:-1] for riga in righe if len(riga)>1]\n",
    "    #-> uniamo la lista in una stringa\n",
    "    libro=\" \".join(righe_senza_return).lower()\n",
    "    for carattere in punteggiatura:\n",
    "        libro=libro.replace(carattere,\" \")\n",
    "        \n",
    "    parole=libro.split(\" \")\n",
    "    parole =[parola for parola in parole if len(parola)>0]\n",
    "    return parole"
   ]
  },
  {
   "cell_type": "code",
   "execution_count": null,
   "id": "3d4baec6",
   "metadata": {},
   "outputs": [],
   "source": [
    "#\"./sei_personaggi_in_cerca_dautore_Luigi_Pirandello.txt\""
   ]
  },
  {
   "cell_type": "code",
   "execution_count": null,
   "id": "efb582fa",
   "metadata": {},
   "outputs": [],
   "source": [
    "#il metodo .join()\n",
    "lista=[\"a\",\"b\",\"c\"]\n",
    "\"stringa\".join(lista)\n",
    "\"-\".join(lista)"
   ]
  },
  {
   "cell_type": "code",
   "execution_count": 5,
   "id": "ceb5890a",
   "metadata": {},
   "outputs": [
    {
     "ename": "NameError",
     "evalue": "name 'file_2_parole' is not defined",
     "output_type": "error",
     "traceback": [
      "\u001b[1;31m---------------------------------------------------------------------------\u001b[0m",
      "\u001b[1;31mNameError\u001b[0m                                 Traceback (most recent call last)",
      "Cell \u001b[1;32mIn[5], line 2\u001b[0m\n\u001b[0;32m      1\u001b[0m punteggiatura\u001b[38;5;241m=\u001b[39m[\u001b[38;5;124m\"\u001b[39m\u001b[38;5;124m,\u001b[39m\u001b[38;5;124m\"\u001b[39m,\u001b[38;5;124m\"\u001b[39m\u001b[38;5;124m;\u001b[39m\u001b[38;5;124m\"\u001b[39m,\u001b[38;5;124m\"\u001b[39m\u001b[38;5;124m.\u001b[39m\u001b[38;5;124m\"\u001b[39m,\u001b[38;5;124m\"\u001b[39m\u001b[38;5;124m:\u001b[39m\u001b[38;5;124m\"\u001b[39m,\u001b[38;5;124m\"\u001b[39m\u001b[38;5;124m?\u001b[39m\u001b[38;5;124m\"\u001b[39m,\u001b[38;5;124m\"\u001b[39m\u001b[38;5;124m!\u001b[39m\u001b[38;5;124m\"\u001b[39m,\u001b[38;5;124m\"\u001b[39m\u001b[38;5;124m'\u001b[39m\u001b[38;5;124m\"\u001b[39m,\u001b[38;5;124m\"\u001b[39m\u001b[38;5;124m(\u001b[39m\u001b[38;5;124m\"\u001b[39m,\u001b[38;5;124m\"\u001b[39m\u001b[38;5;124m)\u001b[39m\u001b[38;5;124m\"\u001b[39m,\u001b[38;5;124m\"\u001b[39m\u001b[38;5;124m»\u001b[39m\u001b[38;5;124m\"\u001b[39m,\u001b[38;5;124m\"\u001b[39m\u001b[38;5;124m«\u001b[39m\u001b[38;5;124m\"\u001b[39m,\u001b[38;5;124m\"\u001b[39m\u001b[38;5;124m*\u001b[39m\u001b[38;5;124m\"\u001b[39m,\u001b[38;5;124m\"\u001b[39m\u001b[38;5;124m-\u001b[39m\u001b[38;5;124m\"\u001b[39m]\n\u001b[1;32m----> 2\u001b[0m parole\u001b[38;5;241m=\u001b[39mfile_2_parole(\u001b[38;5;124m\"\u001b[39m\u001b[38;5;124m./sei_personaggi_in_cerca_dautore_Luigi_Pirandello.txt\u001b[39m\u001b[38;5;124m\"\u001b[39m,punteggiatura)\n",
      "\u001b[1;31mNameError\u001b[0m: name 'file_2_parole' is not defined"
     ]
    }
   ],
   "source": [
    "punteggiatura=[\",\",\";\",\".\",\":\",\"?\",\"!\",\"'\",\"(\",\")\",\"»\",\"«\",\"*\",\"-\"]\n",
    "parole=file_2_parole(\"./sei_personaggi_in_cerca_dautore_Luigi_Pirandello.txt\",punteggiatura)"
   ]
  },
  {
   "cell_type": "code",
   "execution_count": null,
   "id": "79be5932",
   "metadata": {},
   "outputs": [],
   "source": [
    "#mettendo il ? dopo un metodo me da la documentazione\n",
    "libro.replace?"
   ]
  },
  {
   "cell_type": "code",
   "execution_count": null,
   "id": "c1660e4c",
   "metadata": {},
   "outputs": [],
   "source": [
    "conteggi={}"
   ]
  },
  {
   "cell_type": "code",
   "execution_count": null,
   "id": "37f06288",
   "metadata": {},
   "outputs": [],
   "source": [
    "#parentesi su in\n",
    "diz={\"a\":\"albero\",\"b\":\"bello\",\"c\":\"cellulare\"}\n",
    "print(\"a\" in diz)\n",
    "print(\"z\" in diz)"
   ]
  },
  {
   "cell_type": "code",
   "execution_count": null,
   "id": "03337ec6",
   "metadata": {},
   "outputs": [],
   "source": [
    "for parola in parole:\n",
    "    if parola in conteggi:\n",
    "        conteggi[parola]=conteggi[parola]+1\n",
    "        pass\n",
    "    else:\n",
    "        conteggi[parola]=1\n",
    "        pass"
   ]
  },
  {
   "cell_type": "code",
   "execution_count": null,
   "id": "34b84888",
   "metadata": {},
   "outputs": [],
   "source": [
    "conteggi"
   ]
  },
  {
   "cell_type": "code",
   "execution_count": null,
   "id": "5781209b",
   "metadata": {},
   "outputs": [],
   "source": [
    "file_2_parole?"
   ]
  },
  {
   "cell_type": "markdown",
   "id": "8941867c",
   "metadata": {},
   "source": [
    "creare un nuovo dizionario: dizionario delle parole adiacenti\n",
    "scansioniamo il testo\n",
    "dizionario nel quale per ogni parola abbiamo la lista delle sue possibili successive"
   ]
  },
  {
   "cell_type": "code",
   "execution_count": null,
   "id": "fc8b366c",
   "metadata": {},
   "outputs": [],
   "source": [
    "successivi={}"
   ]
  },
  {
   "cell_type": "code",
   "execution_count": null,
   "id": "d2fdf326",
   "metadata": {},
   "outputs": [],
   "source": [
    "for i in range(len(parole)):\n",
    "    #print(parole[i] in successivi)\n",
    "    if parole[i] in successivi:\n",
    "        if i<len(parole)-1:\n",
    "            if parole[i+1] not in successivi[parole[i]]:\n",
    "                #print(f\"parola {successivi[parole[i]]}, successiva: {parole[i+1]}\")\n",
    "                successivi[parole[i]].append(parole[i+1])\n",
    "                pass\n",
    "    else:\n",
    "        if i < len(parole) - 1:\n",
    "            successivi[parole[i]]=[parole[i+1]]\n",
    "        #print(parole[i])\n",
    "        pass"
   ]
  },
  {
   "cell_type": "code",
   "execution_count": null,
   "id": "ef3641bf",
   "metadata": {},
   "outputs": [],
   "source": [
    "for i in successivi:\n",
    "    print(f\"parola: {i} -> {successivi[i]}\\n\")"
   ]
  },
  {
   "cell_type": "markdown",
   "id": "53ad4b8c",
   "metadata": {},
   "source": [
    "non elimino i doppioni"
   ]
  },
  {
   "cell_type": "code",
   "execution_count": null,
   "id": "1a368183",
   "metadata": {},
   "outputs": [],
   "source": [
    "dizionarioSuccessivi={}"
   ]
  },
  {
   "cell_type": "code",
   "execution_count": null,
   "id": "a1c87f00",
   "metadata": {},
   "outputs": [],
   "source": [
    "for i in range(len(parole)):\n",
    "    #print(parole[i] in successivi)\n",
    "    if parole[i] in dizionarioSuccessivi:\n",
    "        if i<len(parole)-1:\n",
    "            #print(f\"parola {successivi[parole[i]]}, successiva: {parole[i+1]}\")\n",
    "            dizionarioSuccessivi[parole[i]].append(parole[i+1])\n",
    "            pass\n",
    "    else:\n",
    "        if i < len(parole) - 1:\n",
    "            dizionarioSuccessivi[parole[i]]=[parole[i+1]]\n",
    "        #print(parole[i])\n",
    "        pass"
   ]
  },
  {
   "cell_type": "code",
   "execution_count": null,
   "id": "9a90bdd6",
   "metadata": {},
   "outputs": [],
   "source": [
    "for i in dizionarioSuccessivi:\n",
    "    print(f\"parola: {i} -> {dizionarioSuccessivi[i]}\\n\")"
   ]
  },
  {
   "cell_type": "markdown",
   "id": "059d9cb2",
   "metadata": {},
   "source": [
    "## algoritmo generativo:\n",
    "\n",
    "genera del testo a partire dal nostro dizionario\n",
    "\n",
    "gli diciamo la parola iniziale, la lunghezza della frase e genera parole con la random.choise"
   ]
  },
  {
   "cell_type": "code",
   "execution_count": 1,
   "id": "bd5c0c76",
   "metadata": {},
   "outputs": [],
   "source": [
    "import random\n",
    "#random.choice?"
   ]
  },
  {
   "cell_type": "code",
   "execution_count": null,
   "id": "00214d95",
   "metadata": {},
   "outputs": [],
   "source": [
    "numParole=20#int(input(\"inserisci il numero di parole: \"))\n",
    "testo=\"\"\n",
    "while True:\n",
    "    parolaIniziale=\"il\"#str(input(\"inserisci la prima parola: \"))\n",
    "    if parolaIniziale in successivi:\n",
    "        for i in range(numParole):\n",
    "            testo=testo+\" \"+parolaIniziale\n",
    "            parolaIniziale=random.choice(successivi[parolaIniziale])\n",
    "            \n",
    "            \n",
    "        break\n",
    "        \n",
    "    else:\n",
    "        print(f\"la parola {parolaIniziale} non è nel dizionario\")\n",
    "print(testo)"
   ]
  },
  {
   "cell_type": "markdown",
   "id": "a364eccd",
   "metadata": {},
   "source": [
    "## trasformo tutto in una classe\n",
    "\n",
    "il pass serve perchè ogni volta che implementiamo un metodo possiamo testarne uno per volta"
   ]
  },
  {
   "cell_type": "code",
   "execution_count": 2,
   "id": "d0906f79",
   "metadata": {},
   "outputs": [],
   "source": [
    "class TextGenerator():#-> dentro non metto nulla perchè non uso l'erederitarietà\n",
    "    def __init__(self, filePath,punteggiatura):#costruttore\n",
    "        self.filePath=filePath\n",
    "        self.punteggiatura=punteggiatura\n",
    "        self.parole=[]\n",
    "        self.successivi={}\n",
    "        \n",
    "    def file_2_listaParole(self):\n",
    "        #non ritorna nulla\n",
    "        file=open(self.filePath,\"r\",encoding=\"utf-8\")\n",
    "        righe=file.readlines()\n",
    "        file.close()\n",
    "        righe_senza_return=[riga[:-1] for riga in righe if len(riga)>1]\n",
    "        #-> uniamo la lista in una stringa\n",
    "        libro=\" \".join(righe_senza_return).lower()\n",
    "        for carattere in self.punteggiatura:\n",
    "            libro=libro.replace(carattere,\" \")\n",
    "\n",
    "        self.parole=libro.split(\" \")\n",
    "        self.parole =[parola for parola in self.parole if len(parola)>0]\n",
    "    \n",
    "    def listaParole_2_dizionario(self):\n",
    "        #non ritorna nulla\n",
    "        for i in range(len(self.parole)):\n",
    "            #print(parole[i] in successivi)\n",
    "            if self.parole[i] in self.successivi:\n",
    "                if i<len(self.parole)-1:\n",
    "                    if self.parole[i+1] not in self.successivi[self.parole[i]]:\n",
    "                        #print(f\"parola {successivi[parole[i]]}, successiva: {parole[i+1]}\")\n",
    "                        self.successivi[self.parole[i]].append(self.parole[i+1])\n",
    "            else:\n",
    "                if i < len(self.parole) - 1:\n",
    "                    self.successivi[self.parole[i]]=[self.parole[i+1]]\n",
    "                #print(parole[i])\n",
    "    \n",
    "    def textGenerator(self, parolaIniziale, lunghezza):\n",
    "        #ritorna la stringa con il testo generato\n",
    "        testo=\"\"\n",
    "        while True:\n",
    "            if parolaIniziale in self.successivi:\n",
    "                for i in range(lunghezza):\n",
    "                    testo=testo+\" \"+parolaIniziale\n",
    "                    parolaIniziale=random.choice(self.successivi[parolaIniziale])\n",
    "\n",
    "\n",
    "                break\n",
    "\n",
    "            else:\n",
    "                print(f\"la parola {parolaIniziale} non è nel dizionario\")\n",
    "                \n",
    "        return testo\n",
    "        pass"
   ]
  },
  {
   "cell_type": "code",
   "execution_count": 6,
   "id": "a5b02489",
   "metadata": {},
   "outputs": [],
   "source": [
    "punteggiatura=[\",\",\";\",\".\",\":\",\"?\",\"!\",\"'\",\"(\",\")\",\"»\",\"«\",\"*\",\"-\"]\n",
    "textGenerator=TextGenerator(\"./sei_personaggi_in_cerca_dautore_Luigi_Pirandello.txt\",punteggiatura)"
   ]
  },
  {
   "cell_type": "code",
   "execution_count": 7,
   "id": "8915c489",
   "metadata": {},
   "outputs": [
    {
     "name": "stdout",
     "output_type": "stream",
     "text": [
      " il signore peggio la perfidia di maggio per virtù magica vieni rivolgendosi al suo bel dramma che dice di teatro prima la vivo può dar luogo in gran male nelle parole aprirà l appunto gli strapperà la situazione anche vestita così da quello stupido che crederà più e lui indicherà presso la farai per mio amorino qua una manina sgarbatamente farà così tutto ciò viejito ciò viejito ciò che andrà via lui forse come crescevo il cuore può saperne nulla altro c entra mentre se voglio mica di viver qui negli orecchi m hai lì che ella canterà e facendosi forza mi lascino liberi gli chiede le gote come storditi\n"
     ]
    }
   ],
   "source": [
    "textGenerator.file_2_listaParole()\n",
    "textGenerator.listaParole_2_dizionario()\n",
    "print(textGenerator.textGenerator(\"il\",110))"
   ]
  },
  {
   "cell_type": "code",
   "execution_count": null,
   "id": "04b7bc26",
   "metadata": {},
   "outputs": [],
   "source": []
  }
 ],
 "metadata": {
  "kernelspec": {
   "display_name": "Python 3 (ipykernel)",
   "language": "python",
   "name": "python3"
  },
  "language_info": {
   "codemirror_mode": {
    "name": "ipython",
    "version": 3
   },
   "file_extension": ".py",
   "mimetype": "text/x-python",
   "name": "python",
   "nbconvert_exporter": "python",
   "pygments_lexer": "ipython3",
   "version": "3.11.4"
  }
 },
 "nbformat": 4,
 "nbformat_minor": 5
}
