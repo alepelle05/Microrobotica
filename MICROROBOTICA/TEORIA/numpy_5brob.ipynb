{
 "cells": [
  {
   "cell_type": "markdown",
   "id": "a118e872",
   "metadata": {},
   "source": [
    "## tempo di esecuzione\n",
    "%%timeit-> comando magico, mi da il tempo di esecuzione\n",
    "\n",
    "la deviazione standard mi dice quanto i voti sono vicini alla media\n",
    "\n",
    "se ho tutti 7 avrò 0\n",
    "\n",
    "timeit lo esegue più volte, poi fa la media e la deviazione standard\n",
    "\n",
    "con i comandi magici tutte le variabili diventano locali\n"
   ]
  },
  {
   "cell_type": "code",
   "execution_count": 1,
   "id": "616e54b5",
   "metadata": {},
   "outputs": [],
   "source": [
    "#%%timeit\n",
    "#per sapere quanto ci mette a eseguire il codice\n",
    "quadrati=[]\n",
    "for i in range(1,10000):\n",
    "    quadrati.append(i**2)"
   ]
  },
  {
   "cell_type": "code",
   "execution_count": 2,
   "id": "1aad38af",
   "metadata": {},
   "outputs": [
    {
     "data": {
      "text/plain": [
       "[1,\n",
       " 4,\n",
       " 9,\n",
       " 16,\n",
       " 25,\n",
       " 36,\n",
       " 49,\n",
       " 64,\n",
       " 81,\n",
       " 100,\n",
       " 121,\n",
       " 144,\n",
       " 169,\n",
       " 196,\n",
       " 225,\n",
       " 256,\n",
       " 289,\n",
       " 324,\n",
       " 361,\n",
       " 400,\n",
       " 441,\n",
       " 484,\n",
       " 529,\n",
       " 576,\n",
       " 625,\n",
       " 676,\n",
       " 729,\n",
       " 784,\n",
       " 841,\n",
       " 900,\n",
       " 961,\n",
       " 1024,\n",
       " 1089,\n",
       " 1156,\n",
       " 1225,\n",
       " 1296,\n",
       " 1369,\n",
       " 1444,\n",
       " 1521,\n",
       " 1600,\n",
       " 1681,\n",
       " 1764,\n",
       " 1849,\n",
       " 1936,\n",
       " 2025,\n",
       " 2116,\n",
       " 2209,\n",
       " 2304,\n",
       " 2401,\n",
       " 2500,\n",
       " 2601,\n",
       " 2704,\n",
       " 2809,\n",
       " 2916,\n",
       " 3025,\n",
       " 3136,\n",
       " 3249,\n",
       " 3364,\n",
       " 3481,\n",
       " 3600,\n",
       " 3721,\n",
       " 3844,\n",
       " 3969,\n",
       " 4096,\n",
       " 4225,\n",
       " 4356,\n",
       " 4489,\n",
       " 4624,\n",
       " 4761,\n",
       " 4900,\n",
       " 5041,\n",
       " 5184,\n",
       " 5329,\n",
       " 5476,\n",
       " 5625,\n",
       " 5776,\n",
       " 5929,\n",
       " 6084,\n",
       " 6241,\n",
       " 6400,\n",
       " 6561,\n",
       " 6724,\n",
       " 6889,\n",
       " 7056,\n",
       " 7225,\n",
       " 7396,\n",
       " 7569,\n",
       " 7744,\n",
       " 7921,\n",
       " 8100,\n",
       " 8281,\n",
       " 8464,\n",
       " 8649,\n",
       " 8836,\n",
       " 9025,\n",
       " 9216,\n",
       " 9409,\n",
       " 9604,\n",
       " 9801,\n",
       " 10000,\n",
       " 10201,\n",
       " 10404,\n",
       " 10609,\n",
       " 10816,\n",
       " 11025,\n",
       " 11236,\n",
       " 11449,\n",
       " 11664,\n",
       " 11881,\n",
       " 12100,\n",
       " 12321,\n",
       " 12544,\n",
       " 12769,\n",
       " 12996,\n",
       " 13225,\n",
       " 13456,\n",
       " 13689,\n",
       " 13924,\n",
       " 14161,\n",
       " 14400,\n",
       " 14641,\n",
       " 14884,\n",
       " 15129,\n",
       " 15376,\n",
       " 15625,\n",
       " 15876,\n",
       " 16129,\n",
       " 16384,\n",
       " 16641,\n",
       " 16900,\n",
       " 17161,\n",
       " 17424,\n",
       " 17689,\n",
       " 17956,\n",
       " 18225,\n",
       " 18496,\n",
       " 18769,\n",
       " 19044,\n",
       " 19321,\n",
       " 19600,\n",
       " 19881,\n",
       " 20164,\n",
       " 20449,\n",
       " 20736,\n",
       " 21025,\n",
       " 21316,\n",
       " 21609,\n",
       " 21904,\n",
       " 22201,\n",
       " 22500,\n",
       " 22801,\n",
       " 23104,\n",
       " 23409,\n",
       " 23716,\n",
       " 24025,\n",
       " 24336,\n",
       " 24649,\n",
       " 24964,\n",
       " 25281,\n",
       " 25600,\n",
       " 25921,\n",
       " 26244,\n",
       " 26569,\n",
       " 26896,\n",
       " 27225,\n",
       " 27556,\n",
       " 27889,\n",
       " 28224,\n",
       " 28561,\n",
       " 28900,\n",
       " 29241,\n",
       " 29584,\n",
       " 29929,\n",
       " 30276,\n",
       " 30625,\n",
       " 30976,\n",
       " 31329,\n",
       " 31684,\n",
       " 32041,\n",
       " 32400,\n",
       " 32761,\n",
       " 33124,\n",
       " 33489,\n",
       " 33856,\n",
       " 34225,\n",
       " 34596,\n",
       " 34969,\n",
       " 35344,\n",
       " 35721,\n",
       " 36100,\n",
       " 36481,\n",
       " 36864,\n",
       " 37249,\n",
       " 37636,\n",
       " 38025,\n",
       " 38416,\n",
       " 38809,\n",
       " 39204,\n",
       " 39601,\n",
       " 40000,\n",
       " 40401,\n",
       " 40804,\n",
       " 41209,\n",
       " 41616,\n",
       " 42025,\n",
       " 42436,\n",
       " 42849,\n",
       " 43264,\n",
       " 43681,\n",
       " 44100,\n",
       " 44521,\n",
       " 44944,\n",
       " 45369,\n",
       " 45796,\n",
       " 46225,\n",
       " 46656,\n",
       " 47089,\n",
       " 47524,\n",
       " 47961,\n",
       " 48400,\n",
       " 48841,\n",
       " 49284,\n",
       " 49729,\n",
       " 50176,\n",
       " 50625,\n",
       " 51076,\n",
       " 51529,\n",
       " 51984,\n",
       " 52441,\n",
       " 52900,\n",
       " 53361,\n",
       " 53824,\n",
       " 54289,\n",
       " 54756,\n",
       " 55225,\n",
       " 55696,\n",
       " 56169,\n",
       " 56644,\n",
       " 57121,\n",
       " 57600,\n",
       " 58081,\n",
       " 58564,\n",
       " 59049,\n",
       " 59536,\n",
       " 60025,\n",
       " 60516,\n",
       " 61009,\n",
       " 61504,\n",
       " 62001,\n",
       " 62500,\n",
       " 63001,\n",
       " 63504,\n",
       " 64009,\n",
       " 64516,\n",
       " 65025,\n",
       " 65536,\n",
       " 66049,\n",
       " 66564,\n",
       " 67081,\n",
       " 67600,\n",
       " 68121,\n",
       " 68644,\n",
       " 69169,\n",
       " 69696,\n",
       " 70225,\n",
       " 70756,\n",
       " 71289,\n",
       " 71824,\n",
       " 72361,\n",
       " 72900,\n",
       " 73441,\n",
       " 73984,\n",
       " 74529,\n",
       " 75076,\n",
       " 75625,\n",
       " 76176,\n",
       " 76729,\n",
       " 77284,\n",
       " 77841,\n",
       " 78400,\n",
       " 78961,\n",
       " 79524,\n",
       " 80089,\n",
       " 80656,\n",
       " 81225,\n",
       " 81796,\n",
       " 82369,\n",
       " 82944,\n",
       " 83521,\n",
       " 84100,\n",
       " 84681,\n",
       " 85264,\n",
       " 85849,\n",
       " 86436,\n",
       " 87025,\n",
       " 87616,\n",
       " 88209,\n",
       " 88804,\n",
       " 89401,\n",
       " 90000,\n",
       " 90601,\n",
       " 91204,\n",
       " 91809,\n",
       " 92416,\n",
       " 93025,\n",
       " 93636,\n",
       " 94249,\n",
       " 94864,\n",
       " 95481,\n",
       " 96100,\n",
       " 96721,\n",
       " 97344,\n",
       " 97969,\n",
       " 98596,\n",
       " 99225,\n",
       " 99856,\n",
       " 100489,\n",
       " 101124,\n",
       " 101761,\n",
       " 102400,\n",
       " 103041,\n",
       " 103684,\n",
       " 104329,\n",
       " 104976,\n",
       " 105625,\n",
       " 106276,\n",
       " 106929,\n",
       " 107584,\n",
       " 108241,\n",
       " 108900,\n",
       " 109561,\n",
       " 110224,\n",
       " 110889,\n",
       " 111556,\n",
       " 112225,\n",
       " 112896,\n",
       " 113569,\n",
       " 114244,\n",
       " 114921,\n",
       " 115600,\n",
       " 116281,\n",
       " 116964,\n",
       " 117649,\n",
       " 118336,\n",
       " 119025,\n",
       " 119716,\n",
       " 120409,\n",
       " 121104,\n",
       " 121801,\n",
       " 122500,\n",
       " 123201,\n",
       " 123904,\n",
       " 124609,\n",
       " 125316,\n",
       " 126025,\n",
       " 126736,\n",
       " 127449,\n",
       " 128164,\n",
       " 128881,\n",
       " 129600,\n",
       " 130321,\n",
       " 131044,\n",
       " 131769,\n",
       " 132496,\n",
       " 133225,\n",
       " 133956,\n",
       " 134689,\n",
       " 135424,\n",
       " 136161,\n",
       " 136900,\n",
       " 137641,\n",
       " 138384,\n",
       " 139129,\n",
       " 139876,\n",
       " 140625,\n",
       " 141376,\n",
       " 142129,\n",
       " 142884,\n",
       " 143641,\n",
       " 144400,\n",
       " 145161,\n",
       " 145924,\n",
       " 146689,\n",
       " 147456,\n",
       " 148225,\n",
       " 148996,\n",
       " 149769,\n",
       " 150544,\n",
       " 151321,\n",
       " 152100,\n",
       " 152881,\n",
       " 153664,\n",
       " 154449,\n",
       " 155236,\n",
       " 156025,\n",
       " 156816,\n",
       " 157609,\n",
       " 158404,\n",
       " 159201,\n",
       " 160000,\n",
       " 160801,\n",
       " 161604,\n",
       " 162409,\n",
       " 163216,\n",
       " 164025,\n",
       " 164836,\n",
       " 165649,\n",
       " 166464,\n",
       " 167281,\n",
       " 168100,\n",
       " 168921,\n",
       " 169744,\n",
       " 170569,\n",
       " 171396,\n",
       " 172225,\n",
       " 173056,\n",
       " 173889,\n",
       " 174724,\n",
       " 175561,\n",
       " 176400,\n",
       " 177241,\n",
       " 178084,\n",
       " 178929,\n",
       " 179776,\n",
       " 180625,\n",
       " 181476,\n",
       " 182329,\n",
       " 183184,\n",
       " 184041,\n",
       " 184900,\n",
       " 185761,\n",
       " 186624,\n",
       " 187489,\n",
       " 188356,\n",
       " 189225,\n",
       " 190096,\n",
       " 190969,\n",
       " 191844,\n",
       " 192721,\n",
       " 193600,\n",
       " 194481,\n",
       " 195364,\n",
       " 196249,\n",
       " 197136,\n",
       " 198025,\n",
       " 198916,\n",
       " 199809,\n",
       " 200704,\n",
       " 201601,\n",
       " 202500,\n",
       " 203401,\n",
       " 204304,\n",
       " 205209,\n",
       " 206116,\n",
       " 207025,\n",
       " 207936,\n",
       " 208849,\n",
       " 209764,\n",
       " 210681,\n",
       " 211600,\n",
       " 212521,\n",
       " 213444,\n",
       " 214369,\n",
       " 215296,\n",
       " 216225,\n",
       " 217156,\n",
       " 218089,\n",
       " 219024,\n",
       " 219961,\n",
       " 220900,\n",
       " 221841,\n",
       " 222784,\n",
       " 223729,\n",
       " 224676,\n",
       " 225625,\n",
       " 226576,\n",
       " 227529,\n",
       " 228484,\n",
       " 229441,\n",
       " 230400,\n",
       " 231361,\n",
       " 232324,\n",
       " 233289,\n",
       " 234256,\n",
       " 235225,\n",
       " 236196,\n",
       " 237169,\n",
       " 238144,\n",
       " 239121,\n",
       " 240100,\n",
       " 241081,\n",
       " 242064,\n",
       " 243049,\n",
       " 244036,\n",
       " 245025,\n",
       " 246016,\n",
       " 247009,\n",
       " 248004,\n",
       " 249001,\n",
       " 250000,\n",
       " 251001,\n",
       " 252004,\n",
       " 253009,\n",
       " 254016,\n",
       " 255025,\n",
       " 256036,\n",
       " 257049,\n",
       " 258064,\n",
       " 259081,\n",
       " 260100,\n",
       " 261121,\n",
       " 262144,\n",
       " 263169,\n",
       " 264196,\n",
       " 265225,\n",
       " 266256,\n",
       " 267289,\n",
       " 268324,\n",
       " 269361,\n",
       " 270400,\n",
       " 271441,\n",
       " 272484,\n",
       " 273529,\n",
       " 274576,\n",
       " 275625,\n",
       " 276676,\n",
       " 277729,\n",
       " 278784,\n",
       " 279841,\n",
       " 280900,\n",
       " 281961,\n",
       " 283024,\n",
       " 284089,\n",
       " 285156,\n",
       " 286225,\n",
       " 287296,\n",
       " 288369,\n",
       " 289444,\n",
       " 290521,\n",
       " 291600,\n",
       " 292681,\n",
       " 293764,\n",
       " 294849,\n",
       " 295936,\n",
       " 297025,\n",
       " 298116,\n",
       " 299209,\n",
       " 300304,\n",
       " 301401,\n",
       " 302500,\n",
       " 303601,\n",
       " 304704,\n",
       " 305809,\n",
       " 306916,\n",
       " 308025,\n",
       " 309136,\n",
       " 310249,\n",
       " 311364,\n",
       " 312481,\n",
       " 313600,\n",
       " 314721,\n",
       " 315844,\n",
       " 316969,\n",
       " 318096,\n",
       " 319225,\n",
       " 320356,\n",
       " 321489,\n",
       " 322624,\n",
       " 323761,\n",
       " 324900,\n",
       " 326041,\n",
       " 327184,\n",
       " 328329,\n",
       " 329476,\n",
       " 330625,\n",
       " 331776,\n",
       " 332929,\n",
       " 334084,\n",
       " 335241,\n",
       " 336400,\n",
       " 337561,\n",
       " 338724,\n",
       " 339889,\n",
       " 341056,\n",
       " 342225,\n",
       " 343396,\n",
       " 344569,\n",
       " 345744,\n",
       " 346921,\n",
       " 348100,\n",
       " 349281,\n",
       " 350464,\n",
       " 351649,\n",
       " 352836,\n",
       " 354025,\n",
       " 355216,\n",
       " 356409,\n",
       " 357604,\n",
       " 358801,\n",
       " 360000,\n",
       " 361201,\n",
       " 362404,\n",
       " 363609,\n",
       " 364816,\n",
       " 366025,\n",
       " 367236,\n",
       " 368449,\n",
       " 369664,\n",
       " 370881,\n",
       " 372100,\n",
       " 373321,\n",
       " 374544,\n",
       " 375769,\n",
       " 376996,\n",
       " 378225,\n",
       " 379456,\n",
       " 380689,\n",
       " 381924,\n",
       " 383161,\n",
       " 384400,\n",
       " 385641,\n",
       " 386884,\n",
       " 388129,\n",
       " 389376,\n",
       " 390625,\n",
       " 391876,\n",
       " 393129,\n",
       " 394384,\n",
       " 395641,\n",
       " 396900,\n",
       " 398161,\n",
       " 399424,\n",
       " 400689,\n",
       " 401956,\n",
       " 403225,\n",
       " 404496,\n",
       " 405769,\n",
       " 407044,\n",
       " 408321,\n",
       " 409600,\n",
       " 410881,\n",
       " 412164,\n",
       " 413449,\n",
       " 414736,\n",
       " 416025,\n",
       " 417316,\n",
       " 418609,\n",
       " 419904,\n",
       " 421201,\n",
       " 422500,\n",
       " 423801,\n",
       " 425104,\n",
       " 426409,\n",
       " 427716,\n",
       " 429025,\n",
       " 430336,\n",
       " 431649,\n",
       " 432964,\n",
       " 434281,\n",
       " 435600,\n",
       " 436921,\n",
       " 438244,\n",
       " 439569,\n",
       " 440896,\n",
       " 442225,\n",
       " 443556,\n",
       " 444889,\n",
       " 446224,\n",
       " 447561,\n",
       " 448900,\n",
       " 450241,\n",
       " 451584,\n",
       " 452929,\n",
       " 454276,\n",
       " 455625,\n",
       " 456976,\n",
       " 458329,\n",
       " 459684,\n",
       " 461041,\n",
       " 462400,\n",
       " 463761,\n",
       " 465124,\n",
       " 466489,\n",
       " 467856,\n",
       " 469225,\n",
       " 470596,\n",
       " 471969,\n",
       " 473344,\n",
       " 474721,\n",
       " 476100,\n",
       " 477481,\n",
       " 478864,\n",
       " 480249,\n",
       " 481636,\n",
       " 483025,\n",
       " 484416,\n",
       " 485809,\n",
       " 487204,\n",
       " 488601,\n",
       " 490000,\n",
       " 491401,\n",
       " 492804,\n",
       " 494209,\n",
       " 495616,\n",
       " 497025,\n",
       " 498436,\n",
       " 499849,\n",
       " 501264,\n",
       " 502681,\n",
       " 504100,\n",
       " 505521,\n",
       " 506944,\n",
       " 508369,\n",
       " 509796,\n",
       " 511225,\n",
       " 512656,\n",
       " 514089,\n",
       " 515524,\n",
       " 516961,\n",
       " 518400,\n",
       " 519841,\n",
       " 521284,\n",
       " 522729,\n",
       " 524176,\n",
       " 525625,\n",
       " 527076,\n",
       " 528529,\n",
       " 529984,\n",
       " 531441,\n",
       " 532900,\n",
       " 534361,\n",
       " 535824,\n",
       " 537289,\n",
       " 538756,\n",
       " 540225,\n",
       " 541696,\n",
       " 543169,\n",
       " 544644,\n",
       " 546121,\n",
       " 547600,\n",
       " 549081,\n",
       " 550564,\n",
       " 552049,\n",
       " 553536,\n",
       " 555025,\n",
       " 556516,\n",
       " 558009,\n",
       " 559504,\n",
       " 561001,\n",
       " 562500,\n",
       " 564001,\n",
       " 565504,\n",
       " 567009,\n",
       " 568516,\n",
       " 570025,\n",
       " 571536,\n",
       " 573049,\n",
       " 574564,\n",
       " 576081,\n",
       " 577600,\n",
       " 579121,\n",
       " 580644,\n",
       " 582169,\n",
       " 583696,\n",
       " 585225,\n",
       " 586756,\n",
       " 588289,\n",
       " 589824,\n",
       " 591361,\n",
       " 592900,\n",
       " 594441,\n",
       " 595984,\n",
       " 597529,\n",
       " 599076,\n",
       " 600625,\n",
       " 602176,\n",
       " 603729,\n",
       " 605284,\n",
       " 606841,\n",
       " 608400,\n",
       " 609961,\n",
       " 611524,\n",
       " 613089,\n",
       " 614656,\n",
       " 616225,\n",
       " 617796,\n",
       " 619369,\n",
       " 620944,\n",
       " 622521,\n",
       " 624100,\n",
       " 625681,\n",
       " 627264,\n",
       " 628849,\n",
       " 630436,\n",
       " 632025,\n",
       " 633616,\n",
       " 635209,\n",
       " 636804,\n",
       " 638401,\n",
       " 640000,\n",
       " 641601,\n",
       " 643204,\n",
       " 644809,\n",
       " 646416,\n",
       " 648025,\n",
       " 649636,\n",
       " 651249,\n",
       " 652864,\n",
       " 654481,\n",
       " 656100,\n",
       " 657721,\n",
       " 659344,\n",
       " 660969,\n",
       " 662596,\n",
       " 664225,\n",
       " 665856,\n",
       " 667489,\n",
       " 669124,\n",
       " 670761,\n",
       " 672400,\n",
       " 674041,\n",
       " 675684,\n",
       " 677329,\n",
       " 678976,\n",
       " 680625,\n",
       " 682276,\n",
       " 683929,\n",
       " 685584,\n",
       " 687241,\n",
       " 688900,\n",
       " 690561,\n",
       " 692224,\n",
       " 693889,\n",
       " 695556,\n",
       " 697225,\n",
       " 698896,\n",
       " 700569,\n",
       " 702244,\n",
       " 703921,\n",
       " 705600,\n",
       " 707281,\n",
       " 708964,\n",
       " 710649,\n",
       " 712336,\n",
       " 714025,\n",
       " 715716,\n",
       " 717409,\n",
       " 719104,\n",
       " 720801,\n",
       " 722500,\n",
       " 724201,\n",
       " 725904,\n",
       " 727609,\n",
       " 729316,\n",
       " 731025,\n",
       " 732736,\n",
       " 734449,\n",
       " 736164,\n",
       " 737881,\n",
       " 739600,\n",
       " 741321,\n",
       " 743044,\n",
       " 744769,\n",
       " 746496,\n",
       " 748225,\n",
       " 749956,\n",
       " 751689,\n",
       " 753424,\n",
       " 755161,\n",
       " 756900,\n",
       " 758641,\n",
       " 760384,\n",
       " 762129,\n",
       " 763876,\n",
       " 765625,\n",
       " 767376,\n",
       " 769129,\n",
       " 770884,\n",
       " 772641,\n",
       " 774400,\n",
       " 776161,\n",
       " 777924,\n",
       " 779689,\n",
       " 781456,\n",
       " 783225,\n",
       " 784996,\n",
       " 786769,\n",
       " 788544,\n",
       " 790321,\n",
       " 792100,\n",
       " 793881,\n",
       " 795664,\n",
       " 797449,\n",
       " 799236,\n",
       " 801025,\n",
       " 802816,\n",
       " 804609,\n",
       " 806404,\n",
       " 808201,\n",
       " 810000,\n",
       " 811801,\n",
       " 813604,\n",
       " 815409,\n",
       " 817216,\n",
       " 819025,\n",
       " 820836,\n",
       " 822649,\n",
       " 824464,\n",
       " 826281,\n",
       " 828100,\n",
       " 829921,\n",
       " 831744,\n",
       " 833569,\n",
       " 835396,\n",
       " 837225,\n",
       " 839056,\n",
       " 840889,\n",
       " 842724,\n",
       " 844561,\n",
       " 846400,\n",
       " 848241,\n",
       " 850084,\n",
       " 851929,\n",
       " 853776,\n",
       " 855625,\n",
       " 857476,\n",
       " 859329,\n",
       " 861184,\n",
       " 863041,\n",
       " 864900,\n",
       " 866761,\n",
       " 868624,\n",
       " 870489,\n",
       " 872356,\n",
       " 874225,\n",
       " 876096,\n",
       " 877969,\n",
       " 879844,\n",
       " 881721,\n",
       " 883600,\n",
       " 885481,\n",
       " 887364,\n",
       " 889249,\n",
       " 891136,\n",
       " 893025,\n",
       " 894916,\n",
       " 896809,\n",
       " 898704,\n",
       " 900601,\n",
       " 902500,\n",
       " 904401,\n",
       " 906304,\n",
       " 908209,\n",
       " 910116,\n",
       " 912025,\n",
       " 913936,\n",
       " 915849,\n",
       " 917764,\n",
       " 919681,\n",
       " 921600,\n",
       " 923521,\n",
       " 925444,\n",
       " 927369,\n",
       " 929296,\n",
       " 931225,\n",
       " 933156,\n",
       " 935089,\n",
       " 937024,\n",
       " 938961,\n",
       " 940900,\n",
       " 942841,\n",
       " 944784,\n",
       " 946729,\n",
       " 948676,\n",
       " 950625,\n",
       " 952576,\n",
       " 954529,\n",
       " 956484,\n",
       " 958441,\n",
       " 960400,\n",
       " 962361,\n",
       " 964324,\n",
       " 966289,\n",
       " 968256,\n",
       " 970225,\n",
       " 972196,\n",
       " 974169,\n",
       " 976144,\n",
       " 978121,\n",
       " 980100,\n",
       " 982081,\n",
       " 984064,\n",
       " 986049,\n",
       " 988036,\n",
       " 990025,\n",
       " 992016,\n",
       " 994009,\n",
       " 996004,\n",
       " 998001,\n",
       " 1000000,\n",
       " ...]"
      ]
     },
     "execution_count": 2,
     "metadata": {},
     "output_type": "execute_result"
    }
   ],
   "source": [
    "quadrati"
   ]
  },
  {
   "cell_type": "markdown",
   "id": "538de8f7",
   "metadata": {},
   "source": [
    "## INTRODUZIONE A NUMPY\n",
    "numpy non è un modulo nativo, anaconda contiene numpy\n",
    "\n",
    "- si basa sugli array (ndarray)\n",
    "\n",
    "gli array in python non esistono, esistono le liste\n"
   ]
  },
  {
   "cell_type": "code",
   "execution_count": 2,
   "id": "d5e3a950",
   "metadata": {},
   "outputs": [],
   "source": [
    "import numpy as np\n",
    "#costrutto aias, io nel codice lo richiamo con np, aias standard"
   ]
  },
  {
   "cell_type": "markdown",
   "id": "f9fb4539",
   "metadata": {},
   "source": [
    "### creazione array a 1 dimensione"
   ]
  },
  {
   "cell_type": "code",
   "execution_count": 4,
   "id": "3ffd6745",
   "metadata": {},
   "outputs": [
    {
     "data": {
      "text/plain": [
       "array([0., 0., 0., 0., 0., 0., 0., 0., 0., 0.])"
      ]
     },
     "execution_count": 4,
     "metadata": {},
     "output_type": "execute_result"
    }
   ],
   "source": [
    "#array di zeri\n",
    "#è un oggetto di numpy\n",
    "#sono float\n",
    "array_di_zeri= np.zeros(10)\n",
    "array_di_zeri"
   ]
  },
  {
   "cell_type": "code",
   "execution_count": 5,
   "id": "30fcb54a",
   "metadata": {},
   "outputs": [
    {
     "data": {
      "text/plain": [
       "dtype('float64')"
      ]
     },
     "execution_count": 5,
     "metadata": {},
     "output_type": "execute_result"
    }
   ],
   "source": [
    "#questo attributo mi dice il tipo della variabile\n",
    "array_di_zeri.dtype"
   ]
  },
  {
   "cell_type": "code",
   "execution_count": 6,
   "id": "67eebc40",
   "metadata": {},
   "outputs": [
    {
     "data": {
      "text/plain": [
       "array([0, 0, 0, 0, 0, 0, 0, 0, 0, 0], dtype=int8)"
      ]
     },
     "execution_count": 6,
     "metadata": {},
     "output_type": "execute_result"
    }
   ],
   "source": [
    "#per creare un array di interi, int 8-> interi a 8 bit\n",
    "array_di_zeri_int=np.zeros(10,dtype=np.int8)\n",
    "array_di_zeri_int"
   ]
  },
  {
   "cell_type": "code",
   "execution_count": 7,
   "id": "e3e36f8a",
   "metadata": {},
   "outputs": [
    {
     "data": {
      "text/plain": [
       "dtype('int8')"
      ]
     },
     "execution_count": 7,
     "metadata": {},
     "output_type": "execute_result"
    }
   ],
   "source": [
    "array_di_zeri_int.dtype"
   ]
  },
  {
   "cell_type": "code",
   "execution_count": 8,
   "id": "6b2fe987",
   "metadata": {},
   "outputs": [
    {
     "data": {
      "text/plain": [
       "array([1., 1., 1., 1., 1.])"
      ]
     },
     "execution_count": 8,
     "metadata": {},
     "output_type": "execute_result"
    }
   ],
   "source": [
    "array_di_uni=np.ones(5)\n",
    "array_di_uni"
   ]
  },
  {
   "cell_type": "code",
   "execution_count": 9,
   "id": "2ab42c43",
   "metadata": {},
   "outputs": [
    {
     "data": {
      "text/plain": [
       "array([3., 3., 3., 3., 3.])"
      ]
     },
     "execution_count": 9,
     "metadata": {},
     "output_type": "execute_result"
    }
   ],
   "source": [
    "#esiste solo zero e one, si utilizza numpy-> moltiplico per 3\n",
    "array_di_tre=np.ones(5)*3#-> broadcast\n",
    "#se moltiplico un array numpy per un numero, la moltiplicazine viene fatta elemento per elemento, come fosse un ciclo for\n",
    "array_di_tre"
   ]
  },
  {
   "cell_type": "code",
   "execution_count": 10,
   "id": "301607a7",
   "metadata": {},
   "outputs": [
    {
     "data": {
      "text/plain": [
       "array([1, 2, 3, 4, 5, 6, 7, 8, 9])"
      ]
     },
     "execution_count": 10,
     "metadata": {},
     "output_type": "execute_result"
    }
   ],
   "source": [
    "array_num_crescenti=np.arange(1,10)#-> posso creare un array di interi crescenti\n",
    "array_num_crescenti"
   ]
  },
  {
   "cell_type": "code",
   "execution_count": 11,
   "id": "d638af7e",
   "metadata": {},
   "outputs": [
    {
     "data": {
      "text/plain": [
       "dtype('int32')"
      ]
     },
     "execution_count": 11,
     "metadata": {},
     "output_type": "execute_result"
    }
   ],
   "source": [
    "array_num_crescenti.dtype"
   ]
  },
  {
   "cell_type": "code",
   "execution_count": 12,
   "id": "7e791721",
   "metadata": {},
   "outputs": [
    {
     "name": "stdout",
     "output_type": "stream",
     "text": [
      "38.5 µs ± 3.26 µs per loop (mean ± std. dev. of 7 runs, 10,000 loops each)\n"
     ]
    }
   ],
   "source": [
    "%%timeit\n",
    "array_quadrati=np.arange(1,10000)**2 #->broadcast\n",
    "#questo è molto più veloce"
   ]
  },
  {
   "cell_type": "code",
   "execution_count": 47,
   "id": "0f8e8370",
   "metadata": {},
   "outputs": [],
   "source": [
    "array_quadrati=np.arange(1,10000)**2 #->broadcast\n",
    "#questo è molto più veloce"
   ]
  },
  {
   "cell_type": "code",
   "execution_count": 48,
   "id": "baf7a0bb",
   "metadata": {},
   "outputs": [
    {
     "data": {
      "text/plain": [
       "array([       1,        4,        9, ..., 99940009, 99960004, 99980001])"
      ]
     },
     "execution_count": 48,
     "metadata": {},
     "output_type": "execute_result"
    }
   ],
   "source": [
    "array_quadrati"
   ]
  },
  {
   "cell_type": "markdown",
   "id": "e33e2533",
   "metadata": {},
   "source": [
    "numpy è molto veloce, a livello del c"
   ]
  },
  {
   "cell_type": "markdown",
   "id": "143d1c0b",
   "metadata": {},
   "source": [
    "### casuale vs pseudo-casuale\n",
    "\n",
    "casuale: es la moneta\n",
    "\n",
    "pseudo-casuale: un algoritmo simula il casuale\n",
    "\n",
    "random.org-> la casualità dipende dal rumore atmosferico, è realmente casuale"
   ]
  },
  {
   "cell_type": "code",
   "execution_count": null,
   "id": "74cb4b9b",
   "metadata": {},
   "outputs": [],
   "source": [
    "#array pseudo-casuali di numeri interi\n",
    "np.random.randint(1,101,10)"
   ]
  },
  {
   "cell_type": "code",
   "execution_count": null,
   "id": "a4241ec9",
   "metadata": {},
   "outputs": [],
   "source": [
    "#array pseudo-casuali di numeri float\n",
    "np.random.uniform(0,5,10)#-> ogni numero ha la stessa probabilità di uscire"
   ]
  },
  {
   "cell_type": "markdown",
   "id": "65b96c3e",
   "metadata": {},
   "source": [
    "## curva gaussiana\n",
    "la curva gaussiana è definita da due numeri: \n",
    "\n",
    "    - il valor medio\n",
    "    - la relazioen standard\n",
    "    \n",
    "    \n",
    "## distribuzione gaussiana"
   ]
  },
  {
   "cell_type": "code",
   "execution_count": 3,
   "id": "fff4a06e",
   "metadata": {},
   "outputs": [
    {
     "data": {
      "text/plain": [
       "array([177.28275394, 175.07641748, 178.70651504, 179.37399133,\n",
       "       175.21694613, 183.25198573, 181.36371355, 175.24312066,\n",
       "       180.33904883, 179.35687337, 176.05299313, 175.93440573,\n",
       "       180.99843587, 184.12389689, 176.32937346, 180.12324979,\n",
       "       186.33598979, 184.3084477 , 184.23529786, 184.47924798])"
      ]
     },
     "execution_count": 3,
     "metadata": {},
     "output_type": "execute_result"
    }
   ],
   "source": [
    "#array pseudo-casuali di numeri float gaussiani\n",
    "np.random.normal(180,5,20)"
   ]
  },
  {
   "cell_type": "markdown",
   "id": "6476747d",
   "metadata": {},
   "source": [
    "i testi, le parole, la popolazione non è distribuita in maniera gaussiana"
   ]
  },
  {
   "cell_type": "markdown",
   "id": "e7d3bc80",
   "metadata": {},
   "source": [
    "#### esercizio:\n",
    "Alice e bob fanno una partita a dadi, ognuno lancia un dado 10 volte.\n",
    "- Calcolare quante volte alice fa un punteggio maggiore di bob.\n",
    "- Scrivere i punteggi ottenuti da alice quando ha vinto    "
   ]
  },
  {
   "cell_type": "code",
   "execution_count": null,
   "id": "b721ad60",
   "metadata": {},
   "outputs": [],
   "source": [
    "np.random.seed(123)#seme del generatore di numeri casuali, se abbiamo tutti lo stesso seme abbiamo gli stessi numeri\n",
    "alice=np.random.randint(1,7,10)\n",
    "bob=np.random.randint(1,7,10)\n",
    "print(f\"lanci di alice: {alice}, lanci di bob: {bob}\")\n",
    "      "
   ]
  },
  {
   "cell_type": "code",
   "execution_count": null,
   "id": "57fc5a54",
   "metadata": {},
   "outputs": [],
   "source": [
    "alice_vince=alice>bob#-> se maggiore da true"
   ]
  },
  {
   "cell_type": "code",
   "execution_count": null,
   "id": "33a600e5",
   "metadata": {},
   "outputs": [],
   "source": [
    "alice_vince.dtype"
   ]
  },
  {
   "cell_type": "code",
   "execution_count": null,
   "id": "f83cb731",
   "metadata": {},
   "outputs": [],
   "source": [
    "print(f\"alice vince : {np.count_nonzero(alice_vince)}\")#-> count non zero conta i true"
   ]
  },
  {
   "cell_type": "code",
   "execution_count": null,
   "id": "6a59b2f4",
   "metadata": {},
   "outputs": [],
   "source": [
    "#+ sintetico\n",
    "np.count_nonzero(alice>bob)"
   ]
  },
  {
   "cell_type": "code",
   "execution_count": null,
   "id": "a36d9de5",
   "metadata": {},
   "outputs": [],
   "source": [
    "alice[alice>bob] #-> di chiama INDICIZZAZIONE BOOLEANA"
   ]
  },
  {
   "cell_type": "markdown",
   "id": "55311c71",
   "metadata": {},
   "source": [
    "### Esercizio:\n",
    "Simula 20 voti tra 2 e 10 generandoli in maniera pseudo-casuale.\n",
    "\n",
    "- conta quante sono le suffiecienze\n",
    "- scrivi le insuffiecienze\n"
   ]
  },
  {
   "cell_type": "code",
   "execution_count": null,
   "id": "16ae26ee",
   "metadata": {},
   "outputs": [],
   "source": [
    "np.random.seed(123)\n",
    "voti=np.random.randint(2,11,20)"
   ]
  },
  {
   "cell_type": "code",
   "execution_count": null,
   "id": "09719506",
   "metadata": {},
   "outputs": [],
   "source": [
    "voti"
   ]
  },
  {
   "cell_type": "code",
   "execution_count": null,
   "id": "fe2c71c2",
   "metadata": {},
   "outputs": [],
   "source": [
    "print(f\"i voti sufficienti sono: {np.count_nonzero(voti[voti>=6])}, i voti isufficienti sono: {voti[voti<6]}\")"
   ]
  },
  {
   "cell_type": "code",
   "execution_count": null,
   "id": "101bc83a",
   "metadata": {},
   "outputs": [],
   "source": [
    "#np.random.choice([\"testa\",\"croce\"])\n",
    "np.random.choice([\"testa\",\"croce\"],15)\n",
    "#dtype-> <U5 -> stringhe unicode, permette di codificare emoticon, caratterri ecc\n",
    "#il numero indica il numero di caratteri"
   ]
  },
  {
   "cell_type": "markdown",
   "id": "ff8a3789",
   "metadata": {},
   "source": [
    "creare un array 1d a partire da una lista python"
   ]
  },
  {
   "cell_type": "code",
   "execution_count": 18,
   "id": "fd3a4b1f",
   "metadata": {},
   "outputs": [
    {
     "data": {
      "text/plain": [
       "array([1, 2, 3, 4, 5])"
      ]
     },
     "execution_count": 18,
     "metadata": {},
     "output_type": "execute_result"
    }
   ],
   "source": [
    "array=np.array([1,2,3,4,5])#-> gli do una lista e mi crea l'array, capisce da solo il tipo\n",
    "array"
   ]
  },
  {
   "cell_type": "code",
   "execution_count": 19,
   "id": "481d51ee",
   "metadata": {},
   "outputs": [
    {
     "data": {
      "text/plain": [
       "dtype('int32')"
      ]
     },
     "execution_count": 19,
     "metadata": {},
     "output_type": "execute_result"
    }
   ],
   "source": [
    "array.dtype"
   ]
  },
  {
   "cell_type": "code",
   "execution_count": 23,
   "id": "1216736f",
   "metadata": {},
   "outputs": [
    {
     "data": {
      "text/plain": [
       "array(['1', '2', 'A', 'ciao'], dtype='<U11')"
      ]
     },
     "execution_count": 23,
     "metadata": {},
     "output_type": "execute_result"
    }
   ],
   "source": [
    "array=np.array([1,2,\"A\",\"ciao\"])\n",
    "array"
   ]
  },
  {
   "cell_type": "code",
   "execution_count": 25,
   "id": "344cb2cd",
   "metadata": {},
   "outputs": [
    {
     "data": {
      "text/plain": [
       "dtype('<U11')"
      ]
     },
     "execution_count": 25,
     "metadata": {},
     "output_type": "execute_result"
    }
   ],
   "source": [
    "array.dtype#tutti gli elementi dello stesso tpo, obbligato a creare delle stringhe"
   ]
  },
  {
   "cell_type": "markdown",
   "id": "446025c0",
   "metadata": {},
   "source": [
    "un'immagine a scala di grigi è un array bidimensionale\n",
    "\n",
    "un'immagine a colori è un array a tre dimensioni\n",
    "\n",
    "un film è un array a 4 dimensioni\n",
    "\n",
    "### array a più di una dimensione\n"
   ]
  },
  {
   "cell_type": "code",
   "execution_count": 14,
   "id": "28e12a60",
   "metadata": {},
   "outputs": [
    {
     "data": {
      "text/plain": [
       "[[1, 2, 3], [4, 5, 6]]"
      ]
     },
     "execution_count": 14,
     "metadata": {},
     "output_type": "execute_result"
    }
   ],
   "source": [
    "matrice=[[1,2,3],[4,5,6]]\n",
    "matrice"
   ]
  },
  {
   "cell_type": "code",
   "execution_count": 26,
   "id": "b05c0d6e",
   "metadata": {},
   "outputs": [
    {
     "data": {
      "text/plain": [
       "array([[1, 2, 3],\n",
       "       [4, 5, 6]])"
      ]
     },
     "execution_count": 26,
     "metadata": {},
     "output_type": "execute_result"
    }
   ],
   "source": [
    "array2d=np.array(matrice)\n",
    "array2d\n",
    "#-> creo un array bidimensionale"
   ]
  },
  {
   "cell_type": "markdown",
   "id": "2d3ffd03",
   "metadata": {},
   "source": [
    "##### shape\n",
    "la shape dell'array1d è 5-> 5 elementi\n",
    "- i 5 elementi dell'array si sviluppano da sinistra a destra, il primo numero è quello con indice 0\n",
    "- 1 sola dimensione-> dimensione 0 e abbiamo 5 elementi lungo la dimensione 0\n",
    "- qui la dimensione 0 è quella orizzontale\n",
    "\n",
    "nell'array2d la shape mi da 2-> righe, 3-> colonne\n",
    "- in 1 array bidimensionale ho 2 direzioni\n",
    "- lungo la direzione 0 ho 2 righe\n",
    "- lungo la direzione 1 ho 3 colonne\n",
    "- la dimensione 0 sono le righe-> verticale\n",
    "- la dimensione 1 sono le colonne-> orizzontale\n",
    "\n",
    "le matrici hanno senso di esistere se sono di forma rettangolare"
   ]
  },
  {
   "cell_type": "code",
   "execution_count": 27,
   "id": "0d537608",
   "metadata": {},
   "outputs": [
    {
     "data": {
      "text/plain": [
       "(2, 3)"
      ]
     },
     "execution_count": 27,
     "metadata": {},
     "output_type": "execute_result"
    }
   ],
   "source": [
    "array2d.shape#attributo degli array"
   ]
  },
  {
   "cell_type": "code",
   "execution_count": 31,
   "id": "68aebc00",
   "metadata": {},
   "outputs": [
    {
     "data": {
      "text/plain": [
       "array([0, 1, 2, 3, 4])"
      ]
     },
     "execution_count": 31,
     "metadata": {},
     "output_type": "execute_result"
    }
   ],
   "source": [
    "array1d=np.arange(0,5)\n",
    "array1d"
   ]
  },
  {
   "cell_type": "code",
   "execution_count": 30,
   "id": "d9095bfe",
   "metadata": {},
   "outputs": [
    {
     "data": {
      "text/plain": [
       "(5,)"
      ]
     },
     "execution_count": 30,
     "metadata": {},
     "output_type": "execute_result"
    }
   ],
   "source": [
    "array1d.shape"
   ]
  },
  {
   "cell_type": "markdown",
   "id": "68cb529b",
   "metadata": {},
   "source": [
    "### creazione di array >2"
   ]
  },
  {
   "cell_type": "code",
   "execution_count": 33,
   "id": "50f0a561",
   "metadata": {},
   "outputs": [
    {
     "data": {
      "text/plain": [
       "array([[0., 0., 0., 0., 0.],\n",
       "       [0., 0., 0., 0., 0.],\n",
       "       [0., 0., 0., 0., 0.],\n",
       "       [0., 0., 0., 0., 0.],\n",
       "       [0., 0., 0., 0., 0.],\n",
       "       [0., 0., 0., 0., 0.],\n",
       "       [0., 0., 0., 0., 0.],\n",
       "       [0., 0., 0., 0., 0.],\n",
       "       [0., 0., 0., 0., 0.],\n",
       "       [0., 0., 0., 0., 0.]])"
      ]
     },
     "execution_count": 33,
     "metadata": {},
     "output_type": "execute_result"
    }
   ],
   "source": [
    "matrice0=np.zeros((10,5))\n",
    "matrice0"
   ]
  },
  {
   "cell_type": "code",
   "execution_count": 35,
   "id": "b1805c4d",
   "metadata": {},
   "outputs": [
    {
     "data": {
      "text/plain": [
       "(10, 5)"
      ]
     },
     "execution_count": 35,
     "metadata": {},
     "output_type": "execute_result"
    }
   ],
   "source": [
    "matrice0.shape#-> mi restituisce l'argomento della funzione np.zeros"
   ]
  },
  {
   "cell_type": "markdown",
   "id": "b6008b45",
   "metadata": {},
   "source": [
    "##### array tridimensionale\n",
    "pila di matrici, nella stampa risulta sballato, ogni matrice ha 2 righe, 3 colonne\n",
    "- la dimensione 0 corre su 4 possibilità\n",
    "- la dimensione 1 mi da le righe-> 2\n",
    "- la dimensione 2 mi da le colonne-> 3"
   ]
  },
  {
   "cell_type": "code",
   "execution_count": 36,
   "id": "bcdc943b",
   "metadata": {},
   "outputs": [
    {
     "data": {
      "text/plain": [
       "array([[[0., 0., 0.],\n",
       "        [0., 0., 0.]],\n",
       "\n",
       "       [[0., 0., 0.],\n",
       "        [0., 0., 0.]],\n",
       "\n",
       "       [[0., 0., 0.],\n",
       "        [0., 0., 0.]],\n",
       "\n",
       "       [[0., 0., 0.],\n",
       "        [0., 0., 0.]]])"
      ]
     },
     "execution_count": 36,
     "metadata": {},
     "output_type": "execute_result"
    }
   ],
   "source": [
    "matrice0_1=np.zeros((4,2,3))\n",
    "matrice0_1"
   ]
  },
  {
   "cell_type": "code",
   "execution_count": 37,
   "id": "f6d3d7cb",
   "metadata": {},
   "outputs": [
    {
     "data": {
      "text/plain": [
       "(4, 2, 3)"
      ]
     },
     "execution_count": 37,
     "metadata": {},
     "output_type": "execute_result"
    }
   ],
   "source": [
    "matrice0_1.shape"
   ]
  },
  {
   "cell_type": "code",
   "execution_count": 38,
   "id": "b8429961",
   "metadata": {},
   "outputs": [
    {
     "data": {
      "text/plain": [
       "array([[[0., 0., 0.],\n",
       "        [0., 0., 0.],\n",
       "        [0., 0., 0.],\n",
       "        [0., 0., 0.]],\n",
       "\n",
       "       [[0., 0., 0.],\n",
       "        [0., 0., 0.],\n",
       "        [0., 0., 0.],\n",
       "        [0., 0., 0.]]])"
      ]
     },
     "execution_count": 38,
     "metadata": {},
     "output_type": "execute_result"
    }
   ],
   "source": [
    "matrice0_1=np.zeros((2,4,3))\n",
    "matrice0_1"
   ]
  },
  {
   "cell_type": "code",
   "execution_count": 46,
   "id": "ae9816fc",
   "metadata": {},
   "outputs": [
    {
     "data": {
      "text/plain": [
       "array([[1, 1, 5, 2, 2],\n",
       "       [5, 1, 3, 1, 4],\n",
       "       [3, 3, 6, 2, 1],\n",
       "       [1, 6, 1, 5, 4],\n",
       "       [1, 3, 1, 4, 3]])"
      ]
     },
     "execution_count": 46,
     "metadata": {},
     "output_type": "execute_result"
    }
   ],
   "source": [
    "matrice=np.random.randint(1,7,(5,5))\n",
    "matrice\n",
    "#-> tutti questi metodi mi danno una matrice se gli do una tupla al posto che una dimensione"
   ]
  },
  {
   "cell_type": "markdown",
   "id": "cc003b8e",
   "metadata": {},
   "source": [
    "### flatten\n",
    "mi permette di passare da array nd ad array 1d\n",
    "- mette ogni riga in coda alla precedente"
   ]
  },
  {
   "cell_type": "code",
   "execution_count": 66,
   "id": "ea1d4b75",
   "metadata": {},
   "outputs": [],
   "source": [
    "vettore=matrice.flatten()#mi trasforma la matrice in un array 1d, mette ogni riga in cosa, in ordine dall'alto al basso"
   ]
  },
  {
   "cell_type": "code",
   "execution_count": 67,
   "id": "dfde4a3e",
   "metadata": {},
   "outputs": [
    {
     "data": {
      "text/plain": [
       "array([1, 1, 5, 2, 2, 5, 1, 3, 1, 4, 3, 3, 6, 2, 1, 1, 6, 1, 5, 4, 1, 3,\n",
       "       1, 4, 3])"
      ]
     },
     "execution_count": 67,
     "metadata": {},
     "output_type": "execute_result"
    }
   ],
   "source": [
    "vettore"
   ]
  },
  {
   "cell_type": "code",
   "execution_count": 68,
   "id": "11b5d058",
   "metadata": {},
   "outputs": [
    {
     "data": {
      "text/plain": [
       "array([[1, 1, 5, 2, 2],\n",
       "       [5, 1, 3, 1, 4],\n",
       "       [3, 3, 6, 2, 1],\n",
       "       [1, 6, 1, 5, 4],\n",
       "       [1, 3, 1, 4, 3]])"
      ]
     },
     "execution_count": 68,
     "metadata": {},
     "output_type": "execute_result"
    }
   ],
   "source": [
    "#gli passo le dimensioni della matrice, DEVONO ESSERE GIUSTE, se gli do -1: (5,-1), si calcola lui le colonne\n",
    "vettore.reshape((5,5))"
   ]
  },
  {
   "cell_type": "code",
   "execution_count": 69,
   "id": "6b44dfdd",
   "metadata": {},
   "outputs": [
    {
     "data": {
      "text/plain": [
       "array([[1, 1, 5, 2, 2],\n",
       "       [5, 1, 3, 1, 4],\n",
       "       [3, 3, 6, 2, 1],\n",
       "       [1, 6, 1, 5, 4],\n",
       "       [1, 3, 1, 4, 3]])"
      ]
     },
     "execution_count": 69,
     "metadata": {},
     "output_type": "execute_result"
    }
   ],
   "source": [
    "#gli passo le dimensioni della matrice, DEVONO ESSERE GIUSTE, se gli do -1: (5,-1), si calcola lui le colonne\n",
    "vettore.reshape((5,-1))"
   ]
  },
  {
   "cell_type": "code",
   "execution_count": 70,
   "id": "6d0a8fce",
   "metadata": {},
   "outputs": [
    {
     "data": {
      "text/plain": [
       "array([0.2527369 , 0.28100633, 0.47911097, 0.0052125 , 0.3033033 ,\n",
       "       0.89647985, 0.99502433, 0.99137503, 0.04731412, 0.49199747,\n",
       "       0.7118822 , 0.67380308, 0.34612921, 0.06655511, 0.4387617 ,\n",
       "       0.13602602, 0.92089131, 0.85494733, 0.8208931 , 0.12794777,\n",
       "       0.55909367, 0.31941947, 0.12980866, 0.27960779, 0.55551284,\n",
       "       0.90862359, 0.13724781, 0.343053  , 0.61765619, 0.4825378 ,\n",
       "       0.43608567, 0.34055395, 0.54129186, 0.04026331, 0.31526355,\n",
       "       0.34664159, 0.27502606, 0.6204971 , 0.30216349, 0.32024123,\n",
       "       0.92479992, 0.58533238, 0.37623798, 0.83729011, 0.72943945,\n",
       "       0.09537967, 0.65618684, 0.96584297, 0.06991185, 0.09105864,\n",
       "       0.88643038, 0.22113835, 0.39273887, 0.53188241, 0.14436904,\n",
       "       0.22825387, 0.18434704])"
      ]
     },
     "execution_count": 70,
     "metadata": {},
     "output_type": "execute_result"
    }
   ],
   "source": [
    "vettore1=np.random.uniform(0,1,57)\n",
    "vettore1"
   ]
  },
  {
   "cell_type": "code",
   "execution_count": 71,
   "id": "531b85e9",
   "metadata": {},
   "outputs": [],
   "source": [
    "matrice0_4=vettore1.reshape((3,-1))"
   ]
  },
  {
   "cell_type": "code",
   "execution_count": 72,
   "id": "a6f3b5eb",
   "metadata": {},
   "outputs": [
    {
     "data": {
      "text/plain": [
       "array([[0., 0., 0., 0., 0.],\n",
       "       [0., 0., 0., 0., 0.],\n",
       "       [0., 0., 0., 0., 0.],\n",
       "       [0., 0., 0., 0., 0.],\n",
       "       [0., 0., 0., 0., 0.],\n",
       "       [0., 0., 0., 0., 0.],\n",
       "       [0., 0., 0., 0., 0.],\n",
       "       [0., 0., 0., 0., 0.],\n",
       "       [0., 0., 0., 0., 0.],\n",
       "       [0., 0., 0., 0., 0.]])"
      ]
     },
     "execution_count": 72,
     "metadata": {},
     "output_type": "execute_result"
    }
   ],
   "source": [
    "matrice0"
   ]
  },
  {
   "cell_type": "code",
   "execution_count": 74,
   "id": "3a9b2b1c",
   "metadata": {},
   "outputs": [
    {
     "data": {
      "text/plain": [
       "array([1, 2, 3, 4, 5, 6, 7, 8, 9])"
      ]
     },
     "execution_count": 74,
     "metadata": {},
     "output_type": "execute_result"
    }
   ],
   "source": [
    "vettore5=np.arange(1,10)\n",
    "vettore5"
   ]
  },
  {
   "cell_type": "markdown",
   "id": "4c041769",
   "metadata": {},
   "source": [
    "#### roll\n",
    "shifta l'array avanti o indietro"
   ]
  },
  {
   "cell_type": "code",
   "execution_count": 75,
   "id": "a378f12d",
   "metadata": {},
   "outputs": [
    {
     "data": {
      "text/plain": [
       "array([2, 3, 4, 5, 6, 7, 8, 9, 1])"
      ]
     },
     "execution_count": 75,
     "metadata": {},
     "output_type": "execute_result"
    }
   ],
   "source": [
    "np.roll(vettore5,-1)"
   ]
  },
  {
   "cell_type": "code",
   "execution_count": 76,
   "id": "5815e8f9",
   "metadata": {},
   "outputs": [
    {
     "data": {
      "text/plain": [
       "array([9, 1, 2, 3, 4, 5, 6, 7, 8])"
      ]
     },
     "execution_count": 76,
     "metadata": {},
     "output_type": "execute_result"
    }
   ],
   "source": [
    "np.roll(vettore5,+1)"
   ]
  },
  {
   "cell_type": "code",
   "execution_count": 77,
   "id": "7078ecc0",
   "metadata": {},
   "outputs": [
    {
     "data": {
      "text/plain": [
       "array([7, 8, 9, 1, 2, 3, 4, 5, 6])"
      ]
     },
     "execution_count": 77,
     "metadata": {},
     "output_type": "execute_result"
    }
   ],
   "source": [
    "np.roll(vettore5,+3)"
   ]
  },
  {
   "cell_type": "markdown",
   "id": "475af8a6",
   "metadata": {},
   "source": [
    "#### esercizio\n",
    "dato n costruire un array 2d come il seguente [[1,2,3.....n-1][1,2,3.....n-1]....[1,2,3.....n-1]] con n righe"
   ]
  },
  {
   "cell_type": "code",
   "execution_count": 85,
   "id": "55c5f854",
   "metadata": {},
   "outputs": [
    {
     "data": {
      "text/plain": [
       "array([0, 1, 2, 3, 4])"
      ]
     },
     "execution_count": 85,
     "metadata": {},
     "output_type": "execute_result"
    }
   ],
   "source": [
    "n=5\n",
    "np.arange(0,n)"
   ]
  },
  {
   "cell_type": "code",
   "execution_count": 87,
   "id": "80bf600a",
   "metadata": {},
   "outputs": [
    {
     "data": {
      "text/plain": [
       "array([ 0,  1,  2,  3,  4,  5,  6,  7,  8,  9, 10, 11, 12, 13, 14, 15, 16,\n",
       "       17, 18, 19, 20, 21, 22, 23, 24])"
      ]
     },
     "execution_count": 87,
     "metadata": {},
     "output_type": "execute_result"
    }
   ],
   "source": [
    "np.arange(0,n*n)"
   ]
  },
  {
   "cell_type": "code",
   "execution_count": 90,
   "id": "0522ca1d",
   "metadata": {},
   "outputs": [
    {
     "data": {
      "text/plain": [
       "array([[0, 1, 2, 3, 4],\n",
       "       [0, 1, 2, 3, 4],\n",
       "       [0, 1, 2, 3, 4],\n",
       "       [0, 1, 2, 3, 4],\n",
       "       [0, 1, 2, 3, 4]], dtype=int32)"
      ]
     },
     "execution_count": 90,
     "metadata": {},
     "output_type": "execute_result"
    }
   ],
   "source": [
    "n=5\n",
    "matrice6=(np.arange(0,n*n)%n).reshape((n,-1))\n",
    "matrice6"
   ]
  },
  {
   "cell_type": "code",
   "execution_count": 92,
   "id": "cac4bed7",
   "metadata": {},
   "outputs": [
    {
     "data": {
      "text/plain": [
       "array([0, 1, 2, 3, 4, 5, 6, 7, 8, 9])"
      ]
     },
     "execution_count": 92,
     "metadata": {},
     "output_type": "execute_result"
    }
   ],
   "source": [
    "np.arange(0,10)"
   ]
  },
  {
   "cell_type": "code",
   "execution_count": 93,
   "id": "26ef7448",
   "metadata": {},
   "outputs": [
    {
     "data": {
      "text/plain": [
       "array([0, 1, 2, 0, 1, 2, 0, 1, 2, 0], dtype=int32)"
      ]
     },
     "execution_count": 93,
     "metadata": {},
     "output_type": "execute_result"
    }
   ],
   "source": [
    "np.arange(0,10)%3"
   ]
  },
  {
   "cell_type": "code",
   "execution_count": 94,
   "id": "45abbedc",
   "metadata": {},
   "outputs": [
    {
     "data": {
      "text/plain": [
       "array([[1, 2, 3, 4, 0],\n",
       "       [1, 2, 3, 4, 0],\n",
       "       [1, 2, 3, 4, 0],\n",
       "       [1, 2, 3, 4, 0],\n",
       "       [1, 2, 3, 4, 0]], dtype=int32)"
      ]
     },
     "execution_count": 94,
     "metadata": {},
     "output_type": "execute_result"
    }
   ],
   "source": [
    "np.roll(matrice6,-1)#roll sulle colonne"
   ]
  },
  {
   "cell_type": "code",
   "execution_count": 97,
   "id": "0cc3e5cb",
   "metadata": {},
   "outputs": [
    {
     "data": {
      "text/plain": [
       "array([[1, 2, 3, 4, 0],\n",
       "       [1, 2, 3, 4, 0],\n",
       "       [1, 2, 3, 4, 0],\n",
       "       [1, 2, 3, 4, 0],\n",
       "       [1, 2, 3, 4, 0]], dtype=int32)"
      ]
     },
     "execution_count": 97,
     "metadata": {},
     "output_type": "execute_result"
    }
   ],
   "source": [
    "#axis definisce la dimensione su cui operare\n",
    "np.roll(matrice6,-1,axis=1)#roll sulle righe"
   ]
  },
  {
   "cell_type": "markdown",
   "id": "f6a366e8",
   "metadata": {},
   "source": [
    "### esercizio: il prezzo di un'azione\n",
    "simuliamo il prezzo di un'azione di un azienda\n",
    "\n",
    "np.random.normal(1,5,200)\n",
    "- 1 - valor medio, ogni giorno aumenta di 1\n",
    "- 5 - deviazione standard\n",
    "\n",
    "genero le variazioni di prezzo di tutti i giorni e le sommo, calcolo solo la variazione"
   ]
  },
  {
   "cell_type": "code",
   "execution_count": 101,
   "id": "9b536ea9",
   "metadata": {},
   "outputs": [
    {
     "data": {
      "text/plain": [
       "array([111.43984361, 114.82215012, 112.97642921, 110.90894389,\n",
       "       106.46995331, 112.23478864, 119.6119074 , 117.60741519,\n",
       "       117.84827035, 122.72040853, 118.27492672, 120.13041036,\n",
       "       124.10688831, 120.84744441, 118.15840142, 117.95695133,\n",
       "       117.52849907, 119.13792067, 113.93583159, 111.77530534,\n",
       "       108.07015485, 110.66645122, 105.23851565, 102.36725254,\n",
       "       107.66981906, 108.08894674, 104.40329422, 106.49178072,\n",
       "       102.25986676,  94.78573419,  95.11923416,  88.75461514,\n",
       "        90.53863641,  86.77041988,  89.00512298,  89.09949142,\n",
       "        99.66266199, 107.25033199, 114.56435507, 111.13773593,\n",
       "       112.78121984, 111.27630107, 113.31418153, 114.36256945,\n",
       "       125.23229899, 121.88398484, 125.02657414, 128.22208849,\n",
       "       138.1997972 , 143.03289934, 137.34805034, 143.6682928 ,\n",
       "       146.77460541, 152.25194248, 150.4311432 , 155.51476438,\n",
       "       144.84215994, 146.84494042, 150.45859879, 154.27729627,\n",
       "       162.94216556, 163.70805419, 164.66065929, 161.28344147,\n",
       "       162.30482908, 172.53443566, 168.60963424, 169.68843077,\n",
       "       168.25654422, 165.74496617, 170.2423945 , 172.86540238,\n",
       "       176.88699476, 171.2712177 , 179.74518439, 173.16557321,\n",
       "       169.1652508 , 174.04145764, 171.83741071, 173.70575316,\n",
       "       180.92257125, 189.86537385, 186.35957173, 189.89974729,\n",
       "       197.72921439, 202.61283805, 195.06384931, 194.82560061,\n",
       "       199.96293692, 196.20969092, 201.82221623, 195.08563513,\n",
       "       200.76366167, 206.14076668, 207.56113565, 196.44926504,\n",
       "       198.14284484, 189.76490722, 194.76508491, 188.92072135,\n",
       "       186.61173744, 198.3539626 , 195.72075785, 199.89863059,\n",
       "       203.29835662, 201.08512581, 208.91627599, 207.60397129,\n",
       "       209.68928433, 206.77078075, 206.52930093, 206.28863783,\n",
       "       206.05527431, 209.25675582, 211.33589764, 205.37757231,\n",
       "       210.40937365, 211.31517738, 211.32450537, 206.79012833,\n",
       "       201.35950086, 199.82422162, 201.82373135, 212.4937274 ,\n",
       "       211.01821987, 214.92432037, 214.59979021, 217.18890334,\n",
       "       218.63446475, 222.49186756, 226.18297793, 224.27076696,\n",
       "       227.23548063, 228.2955616 , 226.57843559, 237.98938484,\n",
       "       237.38872554, 233.72815092, 232.04431709, 238.30047575,\n",
       "       240.42746659, 245.35852066, 255.38794281, 256.18260562,\n",
       "       260.79530646, 268.67101207, 273.5910168 , 268.83374942,\n",
       "       266.19341069, 265.52390821, 266.71231225, 270.02615403,\n",
       "       269.20456368, 270.99423935, 274.84211103, 268.2222302 ,\n",
       "       265.83075874, 270.81539692, 271.35219612, 269.85195137,\n",
       "       271.24525454, 277.70636997, 274.37977528, 275.18053543,\n",
       "       279.6562092 , 281.58805745, 283.68820121, 278.1888901 ,\n",
       "       279.44624944, 283.33757636, 281.55231967, 281.3466263 ,\n",
       "       286.69456804, 283.28966215, 288.34576108, 293.01216206,\n",
       "       291.88698864, 284.78697157, 296.2720333 , 300.54457524,\n",
       "       294.97088437, 299.14507612, 302.36326693, 301.60595483,\n",
       "       307.7404316 , 308.31997552, 304.84830311, 302.60768386,\n",
       "       302.00169247, 307.31252361, 308.9003058 , 305.45631947,\n",
       "       290.12418768, 285.45174623, 291.97016528, 292.54263396,\n",
       "       294.90695704, 285.27006119, 283.83285931, 283.96865579])"
      ]
     },
     "execution_count": 101,
     "metadata": {},
     "output_type": "execute_result"
    }
   ],
   "source": [
    "prezzo=100+np.cumsum(np.random.normal(1,5,200))\n",
    "prezzo"
   ]
  },
  {
   "cell_type": "code",
   "execution_count": null,
   "id": "51e30782",
   "metadata": {},
   "outputs": [],
   "source": []
  },
  {
   "cell_type": "markdown",
   "id": "daafaab3",
   "metadata": {},
   "source": [
    "## somma comulativa\n",
    "nel primo copia il primo,\n",
    "nel secondo la somma dei primi 2\n",
    "nel terzo la somma dei primi 3"
   ]
  },
  {
   "cell_type": "code",
   "execution_count": 103,
   "id": "aaac4471",
   "metadata": {},
   "outputs": [
    {
     "data": {
      "text/plain": [
       "array([1, 2, 3, 4, 5, 6])"
      ]
     },
     "execution_count": 103,
     "metadata": {},
     "output_type": "execute_result"
    }
   ],
   "source": [
    "np.cumsum([1,1,1,1,1,1])"
   ]
  }
 ],
 "metadata": {
  "kernelspec": {
   "display_name": "Python 3 (ipykernel)",
   "language": "python",
   "name": "python3"
  },
  "language_info": {
   "codemirror_mode": {
    "name": "ipython",
    "version": 3
   },
   "file_extension": ".py",
   "mimetype": "text/x-python",
   "name": "python",
   "nbconvert_exporter": "python",
   "pygments_lexer": "ipython3",
   "version": "3.11.4"
  }
 },
 "nbformat": 4,
 "nbformat_minor": 5
}
