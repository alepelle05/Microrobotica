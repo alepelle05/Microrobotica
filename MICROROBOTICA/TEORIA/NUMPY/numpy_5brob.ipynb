{
 "cells": [
  {
   "cell_type": "markdown",
   "id": "a118e872",
   "metadata": {},
   "source": [
    "## tempo di esecuzione\n",
    "%%timeit-> comando magico, mi da il tempo di esecuzione\n",
    "\n",
    "la deviazione standard mi dice quanto i voti sono vicini alla media\n",
    "\n",
    "se ho tutti 7 avrò 0\n",
    "\n",
    "timeit lo esegue più volte, poi fa la media e la deviazione standard\n",
    "\n",
    "con i comandi magici tutte le variabili diventano locali\n"
   ]
  },
  {
   "cell_type": "code",
   "execution_count": 1,
   "id": "616e54b5",
   "metadata": {},
   "outputs": [],
   "source": [
    "#%%timeit\n",
    "#per sapere quanto ci mette a eseguire il codice\n",
    "quadrati=[]\n",
    "for i in range(1,10000):\n",
    "    quadrati.append(i**2)"
   ]
  },
  {
   "cell_type": "code",
   "execution_count": 2,
   "id": "1aad38af",
   "metadata": {},
   "outputs": [
    {
     "data": {
      "text/plain": [
       "[1,\n",
       " 4,\n",
       " 9,\n",
       " 16,\n",
       " 25,\n",
       " 36,\n",
       " 49,\n",
       " 64,\n",
       " 81,\n",
       " 100,\n",
       " 121,\n",
       " 144,\n",
       " 169,\n",
       " 196,\n",
       " 225,\n",
       " 256,\n",
       " 289,\n",
       " 324,\n",
       " 361,\n",
       " 400,\n",
       " 441,\n",
       " 484,\n",
       " 529,\n",
       " 576,\n",
       " 625,\n",
       " 676,\n",
       " 729,\n",
       " 784,\n",
       " 841,\n",
       " 900,\n",
       " 961,\n",
       " 1024,\n",
       " 1089,\n",
       " 1156,\n",
       " 1225,\n",
       " 1296,\n",
       " 1369,\n",
       " 1444,\n",
       " 1521,\n",
       " 1600,\n",
       " 1681,\n",
       " 1764,\n",
       " 1849,\n",
       " 1936,\n",
       " 2025,\n",
       " 2116,\n",
       " 2209,\n",
       " 2304,\n",
       " 2401,\n",
       " 2500,\n",
       " 2601,\n",
       " 2704,\n",
       " 2809,\n",
       " 2916,\n",
       " 3025,\n",
       " 3136,\n",
       " 3249,\n",
       " 3364,\n",
       " 3481,\n",
       " 3600,\n",
       " 3721,\n",
       " 3844,\n",
       " 3969,\n",
       " 4096,\n",
       " 4225,\n",
       " 4356,\n",
       " 4489,\n",
       " 4624,\n",
       " 4761,\n",
       " 4900,\n",
       " 5041,\n",
       " 5184,\n",
       " 5329,\n",
       " 5476,\n",
       " 5625,\n",
       " 5776,\n",
       " 5929,\n",
       " 6084,\n",
       " 6241,\n",
       " 6400,\n",
       " 6561,\n",
       " 6724,\n",
       " 6889,\n",
       " 7056,\n",
       " 7225,\n",
       " 7396,\n",
       " 7569,\n",
       " 7744,\n",
       " 7921,\n",
       " 8100,\n",
       " 8281,\n",
       " 8464,\n",
       " 8649,\n",
       " 8836,\n",
       " 9025,\n",
       " 9216,\n",
       " 9409,\n",
       " 9604,\n",
       " 9801,\n",
       " 10000,\n",
       " 10201,\n",
       " 10404,\n",
       " 10609,\n",
       " 10816,\n",
       " 11025,\n",
       " 11236,\n",
       " 11449,\n",
       " 11664,\n",
       " 11881,\n",
       " 12100,\n",
       " 12321,\n",
       " 12544,\n",
       " 12769,\n",
       " 12996,\n",
       " 13225,\n",
       " 13456,\n",
       " 13689,\n",
       " 13924,\n",
       " 14161,\n",
       " 14400,\n",
       " 14641,\n",
       " 14884,\n",
       " 15129,\n",
       " 15376,\n",
       " 15625,\n",
       " 15876,\n",
       " 16129,\n",
       " 16384,\n",
       " 16641,\n",
       " 16900,\n",
       " 17161,\n",
       " 17424,\n",
       " 17689,\n",
       " 17956,\n",
       " 18225,\n",
       " 18496,\n",
       " 18769,\n",
       " 19044,\n",
       " 19321,\n",
       " 19600,\n",
       " 19881,\n",
       " 20164,\n",
       " 20449,\n",
       " 20736,\n",
       " 21025,\n",
       " 21316,\n",
       " 21609,\n",
       " 21904,\n",
       " 22201,\n",
       " 22500,\n",
       " 22801,\n",
       " 23104,\n",
       " 23409,\n",
       " 23716,\n",
       " 24025,\n",
       " 24336,\n",
       " 24649,\n",
       " 24964,\n",
       " 25281,\n",
       " 25600,\n",
       " 25921,\n",
       " 26244,\n",
       " 26569,\n",
       " 26896,\n",
       " 27225,\n",
       " 27556,\n",
       " 27889,\n",
       " 28224,\n",
       " 28561,\n",
       " 28900,\n",
       " 29241,\n",
       " 29584,\n",
       " 29929,\n",
       " 30276,\n",
       " 30625,\n",
       " 30976,\n",
       " 31329,\n",
       " 31684,\n",
       " 32041,\n",
       " 32400,\n",
       " 32761,\n",
       " 33124,\n",
       " 33489,\n",
       " 33856,\n",
       " 34225,\n",
       " 34596,\n",
       " 34969,\n",
       " 35344,\n",
       " 35721,\n",
       " 36100,\n",
       " 36481,\n",
       " 36864,\n",
       " 37249,\n",
       " 37636,\n",
       " 38025,\n",
       " 38416,\n",
       " 38809,\n",
       " 39204,\n",
       " 39601,\n",
       " 40000,\n",
       " 40401,\n",
       " 40804,\n",
       " 41209,\n",
       " 41616,\n",
       " 42025,\n",
       " 42436,\n",
       " 42849,\n",
       " 43264,\n",
       " 43681,\n",
       " 44100,\n",
       " 44521,\n",
       " 44944,\n",
       " 45369,\n",
       " 45796,\n",
       " 46225,\n",
       " 46656,\n",
       " 47089,\n",
       " 47524,\n",
       " 47961,\n",
       " 48400,\n",
       " 48841,\n",
       " 49284,\n",
       " 49729,\n",
       " 50176,\n",
       " 50625,\n",
       " 51076,\n",
       " 51529,\n",
       " 51984,\n",
       " 52441,\n",
       " 52900,\n",
       " 53361,\n",
       " 53824,\n",
       " 54289,\n",
       " 54756,\n",
       " 55225,\n",
       " 55696,\n",
       " 56169,\n",
       " 56644,\n",
       " 57121,\n",
       " 57600,\n",
       " 58081,\n",
       " 58564,\n",
       " 59049,\n",
       " 59536,\n",
       " 60025,\n",
       " 60516,\n",
       " 61009,\n",
       " 61504,\n",
       " 62001,\n",
       " 62500,\n",
       " 63001,\n",
       " 63504,\n",
       " 64009,\n",
       " 64516,\n",
       " 65025,\n",
       " 65536,\n",
       " 66049,\n",
       " 66564,\n",
       " 67081,\n",
       " 67600,\n",
       " 68121,\n",
       " 68644,\n",
       " 69169,\n",
       " 69696,\n",
       " 70225,\n",
       " 70756,\n",
       " 71289,\n",
       " 71824,\n",
       " 72361,\n",
       " 72900,\n",
       " 73441,\n",
       " 73984,\n",
       " 74529,\n",
       " 75076,\n",
       " 75625,\n",
       " 76176,\n",
       " 76729,\n",
       " 77284,\n",
       " 77841,\n",
       " 78400,\n",
       " 78961,\n",
       " 79524,\n",
       " 80089,\n",
       " 80656,\n",
       " 81225,\n",
       " 81796,\n",
       " 82369,\n",
       " 82944,\n",
       " 83521,\n",
       " 84100,\n",
       " 84681,\n",
       " 85264,\n",
       " 85849,\n",
       " 86436,\n",
       " 87025,\n",
       " 87616,\n",
       " 88209,\n",
       " 88804,\n",
       " 89401,\n",
       " 90000,\n",
       " 90601,\n",
       " 91204,\n",
       " 91809,\n",
       " 92416,\n",
       " 93025,\n",
       " 93636,\n",
       " 94249,\n",
       " 94864,\n",
       " 95481,\n",
       " 96100,\n",
       " 96721,\n",
       " 97344,\n",
       " 97969,\n",
       " 98596,\n",
       " 99225,\n",
       " 99856,\n",
       " 100489,\n",
       " 101124,\n",
       " 101761,\n",
       " 102400,\n",
       " 103041,\n",
       " 103684,\n",
       " 104329,\n",
       " 104976,\n",
       " 105625,\n",
       " 106276,\n",
       " 106929,\n",
       " 107584,\n",
       " 108241,\n",
       " 108900,\n",
       " 109561,\n",
       " 110224,\n",
       " 110889,\n",
       " 111556,\n",
       " 112225,\n",
       " 112896,\n",
       " 113569,\n",
       " 114244,\n",
       " 114921,\n",
       " 115600,\n",
       " 116281,\n",
       " 116964,\n",
       " 117649,\n",
       " 118336,\n",
       " 119025,\n",
       " 119716,\n",
       " 120409,\n",
       " 121104,\n",
       " 121801,\n",
       " 122500,\n",
       " 123201,\n",
       " 123904,\n",
       " 124609,\n",
       " 125316,\n",
       " 126025,\n",
       " 126736,\n",
       " 127449,\n",
       " 128164,\n",
       " 128881,\n",
       " 129600,\n",
       " 130321,\n",
       " 131044,\n",
       " 131769,\n",
       " 132496,\n",
       " 133225,\n",
       " 133956,\n",
       " 134689,\n",
       " 135424,\n",
       " 136161,\n",
       " 136900,\n",
       " 137641,\n",
       " 138384,\n",
       " 139129,\n",
       " 139876,\n",
       " 140625,\n",
       " 141376,\n",
       " 142129,\n",
       " 142884,\n",
       " 143641,\n",
       " 144400,\n",
       " 145161,\n",
       " 145924,\n",
       " 146689,\n",
       " 147456,\n",
       " 148225,\n",
       " 148996,\n",
       " 149769,\n",
       " 150544,\n",
       " 151321,\n",
       " 152100,\n",
       " 152881,\n",
       " 153664,\n",
       " 154449,\n",
       " 155236,\n",
       " 156025,\n",
       " 156816,\n",
       " 157609,\n",
       " 158404,\n",
       " 159201,\n",
       " 160000,\n",
       " 160801,\n",
       " 161604,\n",
       " 162409,\n",
       " 163216,\n",
       " 164025,\n",
       " 164836,\n",
       " 165649,\n",
       " 166464,\n",
       " 167281,\n",
       " 168100,\n",
       " 168921,\n",
       " 169744,\n",
       " 170569,\n",
       " 171396,\n",
       " 172225,\n",
       " 173056,\n",
       " 173889,\n",
       " 174724,\n",
       " 175561,\n",
       " 176400,\n",
       " 177241,\n",
       " 178084,\n",
       " 178929,\n",
       " 179776,\n",
       " 180625,\n",
       " 181476,\n",
       " 182329,\n",
       " 183184,\n",
       " 184041,\n",
       " 184900,\n",
       " 185761,\n",
       " 186624,\n",
       " 187489,\n",
       " 188356,\n",
       " 189225,\n",
       " 190096,\n",
       " 190969,\n",
       " 191844,\n",
       " 192721,\n",
       " 193600,\n",
       " 194481,\n",
       " 195364,\n",
       " 196249,\n",
       " 197136,\n",
       " 198025,\n",
       " 198916,\n",
       " 199809,\n",
       " 200704,\n",
       " 201601,\n",
       " 202500,\n",
       " 203401,\n",
       " 204304,\n",
       " 205209,\n",
       " 206116,\n",
       " 207025,\n",
       " 207936,\n",
       " 208849,\n",
       " 209764,\n",
       " 210681,\n",
       " 211600,\n",
       " 212521,\n",
       " 213444,\n",
       " 214369,\n",
       " 215296,\n",
       " 216225,\n",
       " 217156,\n",
       " 218089,\n",
       " 219024,\n",
       " 219961,\n",
       " 220900,\n",
       " 221841,\n",
       " 222784,\n",
       " 223729,\n",
       " 224676,\n",
       " 225625,\n",
       " 226576,\n",
       " 227529,\n",
       " 228484,\n",
       " 229441,\n",
       " 230400,\n",
       " 231361,\n",
       " 232324,\n",
       " 233289,\n",
       " 234256,\n",
       " 235225,\n",
       " 236196,\n",
       " 237169,\n",
       " 238144,\n",
       " 239121,\n",
       " 240100,\n",
       " 241081,\n",
       " 242064,\n",
       " 243049,\n",
       " 244036,\n",
       " 245025,\n",
       " 246016,\n",
       " 247009,\n",
       " 248004,\n",
       " 249001,\n",
       " 250000,\n",
       " 251001,\n",
       " 252004,\n",
       " 253009,\n",
       " 254016,\n",
       " 255025,\n",
       " 256036,\n",
       " 257049,\n",
       " 258064,\n",
       " 259081,\n",
       " 260100,\n",
       " 261121,\n",
       " 262144,\n",
       " 263169,\n",
       " 264196,\n",
       " 265225,\n",
       " 266256,\n",
       " 267289,\n",
       " 268324,\n",
       " 269361,\n",
       " 270400,\n",
       " 271441,\n",
       " 272484,\n",
       " 273529,\n",
       " 274576,\n",
       " 275625,\n",
       " 276676,\n",
       " 277729,\n",
       " 278784,\n",
       " 279841,\n",
       " 280900,\n",
       " 281961,\n",
       " 283024,\n",
       " 284089,\n",
       " 285156,\n",
       " 286225,\n",
       " 287296,\n",
       " 288369,\n",
       " 289444,\n",
       " 290521,\n",
       " 291600,\n",
       " 292681,\n",
       " 293764,\n",
       " 294849,\n",
       " 295936,\n",
       " 297025,\n",
       " 298116,\n",
       " 299209,\n",
       " 300304,\n",
       " 301401,\n",
       " 302500,\n",
       " 303601,\n",
       " 304704,\n",
       " 305809,\n",
       " 306916,\n",
       " 308025,\n",
       " 309136,\n",
       " 310249,\n",
       " 311364,\n",
       " 312481,\n",
       " 313600,\n",
       " 314721,\n",
       " 315844,\n",
       " 316969,\n",
       " 318096,\n",
       " 319225,\n",
       " 320356,\n",
       " 321489,\n",
       " 322624,\n",
       " 323761,\n",
       " 324900,\n",
       " 326041,\n",
       " 327184,\n",
       " 328329,\n",
       " 329476,\n",
       " 330625,\n",
       " 331776,\n",
       " 332929,\n",
       " 334084,\n",
       " 335241,\n",
       " 336400,\n",
       " 337561,\n",
       " 338724,\n",
       " 339889,\n",
       " 341056,\n",
       " 342225,\n",
       " 343396,\n",
       " 344569,\n",
       " 345744,\n",
       " 346921,\n",
       " 348100,\n",
       " 349281,\n",
       " 350464,\n",
       " 351649,\n",
       " 352836,\n",
       " 354025,\n",
       " 355216,\n",
       " 356409,\n",
       " 357604,\n",
       " 358801,\n",
       " 360000,\n",
       " 361201,\n",
       " 362404,\n",
       " 363609,\n",
       " 364816,\n",
       " 366025,\n",
       " 367236,\n",
       " 368449,\n",
       " 369664,\n",
       " 370881,\n",
       " 372100,\n",
       " 373321,\n",
       " 374544,\n",
       " 375769,\n",
       " 376996,\n",
       " 378225,\n",
       " 379456,\n",
       " 380689,\n",
       " 381924,\n",
       " 383161,\n",
       " 384400,\n",
       " 385641,\n",
       " 386884,\n",
       " 388129,\n",
       " 389376,\n",
       " 390625,\n",
       " 391876,\n",
       " 393129,\n",
       " 394384,\n",
       " 395641,\n",
       " 396900,\n",
       " 398161,\n",
       " 399424,\n",
       " 400689,\n",
       " 401956,\n",
       " 403225,\n",
       " 404496,\n",
       " 405769,\n",
       " 407044,\n",
       " 408321,\n",
       " 409600,\n",
       " 410881,\n",
       " 412164,\n",
       " 413449,\n",
       " 414736,\n",
       " 416025,\n",
       " 417316,\n",
       " 418609,\n",
       " 419904,\n",
       " 421201,\n",
       " 422500,\n",
       " 423801,\n",
       " 425104,\n",
       " 426409,\n",
       " 427716,\n",
       " 429025,\n",
       " 430336,\n",
       " 431649,\n",
       " 432964,\n",
       " 434281,\n",
       " 435600,\n",
       " 436921,\n",
       " 438244,\n",
       " 439569,\n",
       " 440896,\n",
       " 442225,\n",
       " 443556,\n",
       " 444889,\n",
       " 446224,\n",
       " 447561,\n",
       " 448900,\n",
       " 450241,\n",
       " 451584,\n",
       " 452929,\n",
       " 454276,\n",
       " 455625,\n",
       " 456976,\n",
       " 458329,\n",
       " 459684,\n",
       " 461041,\n",
       " 462400,\n",
       " 463761,\n",
       " 465124,\n",
       " 466489,\n",
       " 467856,\n",
       " 469225,\n",
       " 470596,\n",
       " 471969,\n",
       " 473344,\n",
       " 474721,\n",
       " 476100,\n",
       " 477481,\n",
       " 478864,\n",
       " 480249,\n",
       " 481636,\n",
       " 483025,\n",
       " 484416,\n",
       " 485809,\n",
       " 487204,\n",
       " 488601,\n",
       " 490000,\n",
       " 491401,\n",
       " 492804,\n",
       " 494209,\n",
       " 495616,\n",
       " 497025,\n",
       " 498436,\n",
       " 499849,\n",
       " 501264,\n",
       " 502681,\n",
       " 504100,\n",
       " 505521,\n",
       " 506944,\n",
       " 508369,\n",
       " 509796,\n",
       " 511225,\n",
       " 512656,\n",
       " 514089,\n",
       " 515524,\n",
       " 516961,\n",
       " 518400,\n",
       " 519841,\n",
       " 521284,\n",
       " 522729,\n",
       " 524176,\n",
       " 525625,\n",
       " 527076,\n",
       " 528529,\n",
       " 529984,\n",
       " 531441,\n",
       " 532900,\n",
       " 534361,\n",
       " 535824,\n",
       " 537289,\n",
       " 538756,\n",
       " 540225,\n",
       " 541696,\n",
       " 543169,\n",
       " 544644,\n",
       " 546121,\n",
       " 547600,\n",
       " 549081,\n",
       " 550564,\n",
       " 552049,\n",
       " 553536,\n",
       " 555025,\n",
       " 556516,\n",
       " 558009,\n",
       " 559504,\n",
       " 561001,\n",
       " 562500,\n",
       " 564001,\n",
       " 565504,\n",
       " 567009,\n",
       " 568516,\n",
       " 570025,\n",
       " 571536,\n",
       " 573049,\n",
       " 574564,\n",
       " 576081,\n",
       " 577600,\n",
       " 579121,\n",
       " 580644,\n",
       " 582169,\n",
       " 583696,\n",
       " 585225,\n",
       " 586756,\n",
       " 588289,\n",
       " 589824,\n",
       " 591361,\n",
       " 592900,\n",
       " 594441,\n",
       " 595984,\n",
       " 597529,\n",
       " 599076,\n",
       " 600625,\n",
       " 602176,\n",
       " 603729,\n",
       " 605284,\n",
       " 606841,\n",
       " 608400,\n",
       " 609961,\n",
       " 611524,\n",
       " 613089,\n",
       " 614656,\n",
       " 616225,\n",
       " 617796,\n",
       " 619369,\n",
       " 620944,\n",
       " 622521,\n",
       " 624100,\n",
       " 625681,\n",
       " 627264,\n",
       " 628849,\n",
       " 630436,\n",
       " 632025,\n",
       " 633616,\n",
       " 635209,\n",
       " 636804,\n",
       " 638401,\n",
       " 640000,\n",
       " 641601,\n",
       " 643204,\n",
       " 644809,\n",
       " 646416,\n",
       " 648025,\n",
       " 649636,\n",
       " 651249,\n",
       " 652864,\n",
       " 654481,\n",
       " 656100,\n",
       " 657721,\n",
       " 659344,\n",
       " 660969,\n",
       " 662596,\n",
       " 664225,\n",
       " 665856,\n",
       " 667489,\n",
       " 669124,\n",
       " 670761,\n",
       " 672400,\n",
       " 674041,\n",
       " 675684,\n",
       " 677329,\n",
       " 678976,\n",
       " 680625,\n",
       " 682276,\n",
       " 683929,\n",
       " 685584,\n",
       " 687241,\n",
       " 688900,\n",
       " 690561,\n",
       " 692224,\n",
       " 693889,\n",
       " 695556,\n",
       " 697225,\n",
       " 698896,\n",
       " 700569,\n",
       " 702244,\n",
       " 703921,\n",
       " 705600,\n",
       " 707281,\n",
       " 708964,\n",
       " 710649,\n",
       " 712336,\n",
       " 714025,\n",
       " 715716,\n",
       " 717409,\n",
       " 719104,\n",
       " 720801,\n",
       " 722500,\n",
       " 724201,\n",
       " 725904,\n",
       " 727609,\n",
       " 729316,\n",
       " 731025,\n",
       " 732736,\n",
       " 734449,\n",
       " 736164,\n",
       " 737881,\n",
       " 739600,\n",
       " 741321,\n",
       " 743044,\n",
       " 744769,\n",
       " 746496,\n",
       " 748225,\n",
       " 749956,\n",
       " 751689,\n",
       " 753424,\n",
       " 755161,\n",
       " 756900,\n",
       " 758641,\n",
       " 760384,\n",
       " 762129,\n",
       " 763876,\n",
       " 765625,\n",
       " 767376,\n",
       " 769129,\n",
       " 770884,\n",
       " 772641,\n",
       " 774400,\n",
       " 776161,\n",
       " 777924,\n",
       " 779689,\n",
       " 781456,\n",
       " 783225,\n",
       " 784996,\n",
       " 786769,\n",
       " 788544,\n",
       " 790321,\n",
       " 792100,\n",
       " 793881,\n",
       " 795664,\n",
       " 797449,\n",
       " 799236,\n",
       " 801025,\n",
       " 802816,\n",
       " 804609,\n",
       " 806404,\n",
       " 808201,\n",
       " 810000,\n",
       " 811801,\n",
       " 813604,\n",
       " 815409,\n",
       " 817216,\n",
       " 819025,\n",
       " 820836,\n",
       " 822649,\n",
       " 824464,\n",
       " 826281,\n",
       " 828100,\n",
       " 829921,\n",
       " 831744,\n",
       " 833569,\n",
       " 835396,\n",
       " 837225,\n",
       " 839056,\n",
       " 840889,\n",
       " 842724,\n",
       " 844561,\n",
       " 846400,\n",
       " 848241,\n",
       " 850084,\n",
       " 851929,\n",
       " 853776,\n",
       " 855625,\n",
       " 857476,\n",
       " 859329,\n",
       " 861184,\n",
       " 863041,\n",
       " 864900,\n",
       " 866761,\n",
       " 868624,\n",
       " 870489,\n",
       " 872356,\n",
       " 874225,\n",
       " 876096,\n",
       " 877969,\n",
       " 879844,\n",
       " 881721,\n",
       " 883600,\n",
       " 885481,\n",
       " 887364,\n",
       " 889249,\n",
       " 891136,\n",
       " 893025,\n",
       " 894916,\n",
       " 896809,\n",
       " 898704,\n",
       " 900601,\n",
       " 902500,\n",
       " 904401,\n",
       " 906304,\n",
       " 908209,\n",
       " 910116,\n",
       " 912025,\n",
       " 913936,\n",
       " 915849,\n",
       " 917764,\n",
       " 919681,\n",
       " 921600,\n",
       " 923521,\n",
       " 925444,\n",
       " 927369,\n",
       " 929296,\n",
       " 931225,\n",
       " 933156,\n",
       " 935089,\n",
       " 937024,\n",
       " 938961,\n",
       " 940900,\n",
       " 942841,\n",
       " 944784,\n",
       " 946729,\n",
       " 948676,\n",
       " 950625,\n",
       " 952576,\n",
       " 954529,\n",
       " 956484,\n",
       " 958441,\n",
       " 960400,\n",
       " 962361,\n",
       " 964324,\n",
       " 966289,\n",
       " 968256,\n",
       " 970225,\n",
       " 972196,\n",
       " 974169,\n",
       " 976144,\n",
       " 978121,\n",
       " 980100,\n",
       " 982081,\n",
       " 984064,\n",
       " 986049,\n",
       " 988036,\n",
       " 990025,\n",
       " 992016,\n",
       " 994009,\n",
       " 996004,\n",
       " 998001,\n",
       " 1000000,\n",
       " ...]"
      ]
     },
     "execution_count": 2,
     "metadata": {},
     "output_type": "execute_result"
    }
   ],
   "source": [
    "quadrati"
   ]
  },
  {
   "cell_type": "markdown",
   "id": "538de8f7",
   "metadata": {},
   "source": [
    "## INTRODUZIONE A NUMPY\n",
    "numpy non è un modulo nativo, anaconda contiene numpy\n",
    "\n",
    "- si basa sugli array (ndarray)\n",
    "\n",
    "gli array in python non esistono, esistono le liste\n"
   ]
  },
  {
   "cell_type": "code",
   "execution_count": 1,
   "id": "d5e3a950",
   "metadata": {},
   "outputs": [],
   "source": [
    "import numpy as np\n",
    "import matplotlib.pyplot as plt\n",
    "#costrutto aias, io nel codice lo richiamo con np, aias standard"
   ]
  },
  {
   "cell_type": "markdown",
   "id": "f9fb4539",
   "metadata": {},
   "source": [
    "### creazione array a 1 dimensione"
   ]
  },
  {
   "cell_type": "code",
   "execution_count": 4,
   "id": "3ffd6745",
   "metadata": {},
   "outputs": [
    {
     "data": {
      "text/plain": [
       "array([0., 0., 0., 0., 0., 0., 0., 0., 0., 0.])"
      ]
     },
     "execution_count": 4,
     "metadata": {},
     "output_type": "execute_result"
    }
   ],
   "source": [
    "#array di zeri\n",
    "#è un oggetto di numpy\n",
    "#sono float\n",
    "array_di_zeri= np.zeros(10)\n",
    "array_di_zeri"
   ]
  },
  {
   "cell_type": "code",
   "execution_count": 5,
   "id": "30fcb54a",
   "metadata": {},
   "outputs": [
    {
     "data": {
      "text/plain": [
       "dtype('float64')"
      ]
     },
     "execution_count": 5,
     "metadata": {},
     "output_type": "execute_result"
    }
   ],
   "source": [
    "#questo attributo mi dice il tipo della variabile\n",
    "array_di_zeri.dtype"
   ]
  },
  {
   "cell_type": "code",
   "execution_count": 6,
   "id": "67eebc40",
   "metadata": {},
   "outputs": [
    {
     "data": {
      "text/plain": [
       "array([0, 0, 0, 0, 0, 0, 0, 0, 0, 0], dtype=int8)"
      ]
     },
     "execution_count": 6,
     "metadata": {},
     "output_type": "execute_result"
    }
   ],
   "source": [
    "#per creare un array di interi, int 8-> interi a 8 bit\n",
    "array_di_zeri_int=np.zeros(10,dtype=np.int8)\n",
    "array_di_zeri_int"
   ]
  },
  {
   "cell_type": "code",
   "execution_count": 7,
   "id": "e3e36f8a",
   "metadata": {},
   "outputs": [
    {
     "data": {
      "text/plain": [
       "dtype('int8')"
      ]
     },
     "execution_count": 7,
     "metadata": {},
     "output_type": "execute_result"
    }
   ],
   "source": [
    "array_di_zeri_int.dtype"
   ]
  },
  {
   "cell_type": "code",
   "execution_count": 8,
   "id": "6b2fe987",
   "metadata": {},
   "outputs": [
    {
     "data": {
      "text/plain": [
       "array([1., 1., 1., 1., 1.])"
      ]
     },
     "execution_count": 8,
     "metadata": {},
     "output_type": "execute_result"
    }
   ],
   "source": [
    "array_di_uni=np.ones(5)\n",
    "array_di_uni"
   ]
  },
  {
   "cell_type": "code",
   "execution_count": 9,
   "id": "2ab42c43",
   "metadata": {},
   "outputs": [
    {
     "data": {
      "text/plain": [
       "array([3., 3., 3., 3., 3.])"
      ]
     },
     "execution_count": 9,
     "metadata": {},
     "output_type": "execute_result"
    }
   ],
   "source": [
    "#esiste solo zero e one, si utilizza numpy-> moltiplico per 3\n",
    "array_di_tre=np.ones(5)*3#-> broadcast\n",
    "#se moltiplico un array numpy per un numero, la moltiplicazine viene fatta elemento per elemento, come fosse un ciclo for\n",
    "array_di_tre"
   ]
  },
  {
   "cell_type": "code",
   "execution_count": 10,
   "id": "301607a7",
   "metadata": {},
   "outputs": [
    {
     "data": {
      "text/plain": [
       "array([1, 2, 3, 4, 5, 6, 7, 8, 9])"
      ]
     },
     "execution_count": 10,
     "metadata": {},
     "output_type": "execute_result"
    }
   ],
   "source": [
    "array_num_crescenti=np.arange(1,10)#-> posso creare un array di interi crescenti\n",
    "array_num_crescenti"
   ]
  },
  {
   "cell_type": "code",
   "execution_count": 11,
   "id": "d638af7e",
   "metadata": {},
   "outputs": [
    {
     "data": {
      "text/plain": [
       "dtype('int32')"
      ]
     },
     "execution_count": 11,
     "metadata": {},
     "output_type": "execute_result"
    }
   ],
   "source": [
    "array_num_crescenti.dtype"
   ]
  },
  {
   "cell_type": "code",
   "execution_count": 12,
   "id": "7e791721",
   "metadata": {},
   "outputs": [
    {
     "name": "stdout",
     "output_type": "stream",
     "text": [
      "38.5 µs ± 3.26 µs per loop (mean ± std. dev. of 7 runs, 10,000 loops each)\n"
     ]
    }
   ],
   "source": [
    "%%timeit\n",
    "array_quadrati=np.arange(1,10000)**2 #->broadcast\n",
    "#questo è molto più veloce"
   ]
  },
  {
   "cell_type": "code",
   "execution_count": 47,
   "id": "0f8e8370",
   "metadata": {},
   "outputs": [],
   "source": [
    "array_quadrati=np.arange(1,10000)**2 #->broadcast\n",
    "#questo è molto più veloce"
   ]
  },
  {
   "cell_type": "code",
   "execution_count": 48,
   "id": "baf7a0bb",
   "metadata": {},
   "outputs": [
    {
     "data": {
      "text/plain": [
       "array([       1,        4,        9, ..., 99940009, 99960004, 99980001])"
      ]
     },
     "execution_count": 48,
     "metadata": {},
     "output_type": "execute_result"
    }
   ],
   "source": [
    "array_quadrati"
   ]
  },
  {
   "cell_type": "markdown",
   "id": "e33e2533",
   "metadata": {},
   "source": [
    "numpy è molto veloce, a livello del c"
   ]
  },
  {
   "cell_type": "markdown",
   "id": "143d1c0b",
   "metadata": {},
   "source": [
    "### casuale vs pseudo-casuale\n",
    "\n",
    "casuale: es la moneta\n",
    "\n",
    "pseudo-casuale: un algoritmo simula il casuale\n",
    "\n",
    "random.org-> la casualità dipende dal rumore atmosferico, è realmente casuale"
   ]
  },
  {
   "cell_type": "code",
   "execution_count": 2,
   "id": "74cb4b9b",
   "metadata": {},
   "outputs": [
    {
     "data": {
      "text/plain": [
       "array([58, 70, 19, 58, 18, 58,  5, 37, 75, 50])"
      ]
     },
     "execution_count": 2,
     "metadata": {},
     "output_type": "execute_result"
    }
   ],
   "source": [
    "#array pseudo-casuali di numeri interi\n",
    "np.random.randint(1,101,10)"
   ]
  },
  {
   "cell_type": "code",
   "execution_count": 3,
   "id": "a4241ec9",
   "metadata": {},
   "outputs": [
    {
     "data": {
      "text/plain": [
       "array([3.55086456, 3.13578657, 2.50153192, 3.56744445, 3.76885294,\n",
       "       4.842571  , 2.58288079, 1.14490033, 2.70303802, 1.74812714])"
      ]
     },
     "execution_count": 3,
     "metadata": {},
     "output_type": "execute_result"
    }
   ],
   "source": [
    "#array pseudo-casuali di numeri float\n",
    "np.random.uniform(0,5,10)#-> ogni numero ha la stessa probabilità di uscire"
   ]
  },
  {
   "cell_type": "markdown",
   "id": "65b96c3e",
   "metadata": {},
   "source": [
    "## curva gaussiana\n",
    "la curva gaussiana è definita da due numeri: \n",
    "\n",
    "    - il valor medio\n",
    "    - la deviazione standard\n",
    "    \n",
    "    \n",
    "## distribuzione gaussiana"
   ]
  },
  {
   "cell_type": "code",
   "execution_count": 3,
   "id": "fff4a06e",
   "metadata": {},
   "outputs": [
    {
     "data": {
      "text/plain": [
       "array([177.28275394, 175.07641748, 178.70651504, 179.37399133,\n",
       "       175.21694613, 183.25198573, 181.36371355, 175.24312066,\n",
       "       180.33904883, 179.35687337, 176.05299313, 175.93440573,\n",
       "       180.99843587, 184.12389689, 176.32937346, 180.12324979,\n",
       "       186.33598979, 184.3084477 , 184.23529786, 184.47924798])"
      ]
     },
     "execution_count": 3,
     "metadata": {},
     "output_type": "execute_result"
    }
   ],
   "source": [
    "#array pseudo-casuali di numeri float gaussiani\n",
    "np.random.normal(180,5,20)"
   ]
  },
  {
   "cell_type": "markdown",
   "id": "6476747d",
   "metadata": {},
   "source": [
    "i testi, le parole, la popolazione non è distribuita in maniera gaussiana"
   ]
  },
  {
   "cell_type": "markdown",
   "id": "e7d3bc80",
   "metadata": {},
   "source": [
    "#### esercizio:\n",
    "Alice e bob fanno una partita a dadi, ognuno lancia un dado 10 volte.\n",
    "- Calcolare quante volte alice fa un punteggio maggiore di bob.\n",
    "- Scrivere i punteggi ottenuti da alice quando ha vinto    "
   ]
  },
  {
   "cell_type": "code",
   "execution_count": null,
   "id": "b721ad60",
   "metadata": {},
   "outputs": [],
   "source": [
    "np.random.seed(123)#seme del generatore di numeri casuali, se abbiamo tutti lo stesso seme abbiamo gli stessi numeri\n",
    "alice=np.random.randint(1,7,10)\n",
    "bob=np.random.randint(1,7,10)\n",
    "print(f\"lanci di alice: {alice}, lanci di bob: {bob}\")\n",
    "      "
   ]
  },
  {
   "cell_type": "code",
   "execution_count": null,
   "id": "57fc5a54",
   "metadata": {},
   "outputs": [],
   "source": [
    "alice_vince=alice>bob#-> se maggiore da true"
   ]
  },
  {
   "cell_type": "code",
   "execution_count": null,
   "id": "33a600e5",
   "metadata": {},
   "outputs": [],
   "source": [
    "alice_vince.dtype"
   ]
  },
  {
   "cell_type": "code",
   "execution_count": null,
   "id": "f83cb731",
   "metadata": {},
   "outputs": [],
   "source": [
    "print(f\"alice vince : {np.count_nonzero(alice_vince)}\")#-> count non zero conta i true"
   ]
  },
  {
   "cell_type": "code",
   "execution_count": null,
   "id": "6a59b2f4",
   "metadata": {},
   "outputs": [],
   "source": [
    "#+ sintetico\n",
    "np.count_nonzero(alice>bob)"
   ]
  },
  {
   "cell_type": "code",
   "execution_count": null,
   "id": "a36d9de5",
   "metadata": {},
   "outputs": [],
   "source": [
    "alice[alice>bob] #-> di chiama INDICIZZAZIONE BOOLEANA"
   ]
  },
  {
   "cell_type": "markdown",
   "id": "55311c71",
   "metadata": {},
   "source": [
    "### Esercizio:\n",
    "Simula 20 voti tra 2 e 10 generandoli in maniera pseudo-casuale.\n",
    "\n",
    "- conta quante sono le suffiecienze\n",
    "- scrivi le insuffiecienze\n"
   ]
  },
  {
   "cell_type": "code",
   "execution_count": null,
   "id": "16ae26ee",
   "metadata": {},
   "outputs": [],
   "source": [
    "np.random.seed(123)\n",
    "voti=np.random.randint(2,11,20)"
   ]
  },
  {
   "cell_type": "code",
   "execution_count": null,
   "id": "09719506",
   "metadata": {},
   "outputs": [],
   "source": [
    "voti"
   ]
  },
  {
   "cell_type": "code",
   "execution_count": null,
   "id": "fe2c71c2",
   "metadata": {},
   "outputs": [],
   "source": [
    "print(f\"i voti sufficienti sono: {np.count_nonzero(voti[voti>=6])}, i voti isufficienti sono: {voti[voti<6]}\")"
   ]
  },
  {
   "cell_type": "code",
   "execution_count": null,
   "id": "101bc83a",
   "metadata": {},
   "outputs": [],
   "source": [
    "#np.random.choice([\"testa\",\"croce\"])\n",
    "np.random.choice([\"testa\",\"croce\"],15)\n",
    "#dtype-> <U5 -> stringhe unicode, permette di codificare emoticon, caratterri ecc\n",
    "#il numero indica il numero di caratteri"
   ]
  },
  {
   "cell_type": "markdown",
   "id": "ff8a3789",
   "metadata": {},
   "source": [
    "creare un array 1d a partire da una lista python"
   ]
  },
  {
   "cell_type": "code",
   "execution_count": 18,
   "id": "fd3a4b1f",
   "metadata": {},
   "outputs": [
    {
     "data": {
      "text/plain": [
       "array([1, 2, 3, 4, 5])"
      ]
     },
     "execution_count": 18,
     "metadata": {},
     "output_type": "execute_result"
    }
   ],
   "source": [
    "array=np.array([1,2,3,4,5])#-> gli do una lista e mi crea l'array, capisce da solo il tipo\n",
    "array"
   ]
  },
  {
   "cell_type": "code",
   "execution_count": 19,
   "id": "481d51ee",
   "metadata": {},
   "outputs": [
    {
     "data": {
      "text/plain": [
       "dtype('int32')"
      ]
     },
     "execution_count": 19,
     "metadata": {},
     "output_type": "execute_result"
    }
   ],
   "source": [
    "array.dtype"
   ]
  },
  {
   "cell_type": "code",
   "execution_count": 23,
   "id": "1216736f",
   "metadata": {},
   "outputs": [
    {
     "data": {
      "text/plain": [
       "array(['1', '2', 'A', 'ciao'], dtype='<U11')"
      ]
     },
     "execution_count": 23,
     "metadata": {},
     "output_type": "execute_result"
    }
   ],
   "source": [
    "array=np.array([1,2,\"A\",\"ciao\"])\n",
    "array"
   ]
  },
  {
   "cell_type": "code",
   "execution_count": 25,
   "id": "344cb2cd",
   "metadata": {},
   "outputs": [
    {
     "data": {
      "text/plain": [
       "dtype('<U11')"
      ]
     },
     "execution_count": 25,
     "metadata": {},
     "output_type": "execute_result"
    }
   ],
   "source": [
    "array.dtype#tutti gli elementi dello stesso tpo, obbligato a creare delle stringhe"
   ]
  },
  {
   "cell_type": "markdown",
   "id": "446025c0",
   "metadata": {},
   "source": [
    "un'immagine a scala di grigi è un array bidimensionale\n",
    "\n",
    "un'immagine a colori è un array a tre dimensioni\n",
    "\n",
    "un film è un array a 4 dimensioni\n",
    "\n",
    "### array a più di una dimensione\n"
   ]
  },
  {
   "cell_type": "code",
   "execution_count": 14,
   "id": "28e12a60",
   "metadata": {},
   "outputs": [
    {
     "data": {
      "text/plain": [
       "[[1, 2, 3], [4, 5, 6]]"
      ]
     },
     "execution_count": 14,
     "metadata": {},
     "output_type": "execute_result"
    }
   ],
   "source": [
    "matrice=[[1,2,3],[4,5,6]]\n",
    "matrice"
   ]
  },
  {
   "cell_type": "code",
   "execution_count": 26,
   "id": "b05c0d6e",
   "metadata": {},
   "outputs": [
    {
     "data": {
      "text/plain": [
       "array([[1, 2, 3],\n",
       "       [4, 5, 6]])"
      ]
     },
     "execution_count": 26,
     "metadata": {},
     "output_type": "execute_result"
    }
   ],
   "source": [
    "array2d=np.array(matrice)\n",
    "array2d\n",
    "#-> creo un array bidimensionale"
   ]
  },
  {
   "cell_type": "markdown",
   "id": "2d3ffd03",
   "metadata": {},
   "source": [
    "##### shape\n",
    "la shape dell'array1d è 5-> 5 elementi\n",
    "- i 5 elementi dell'array si sviluppano da sinistra a destra, il primo numero è quello con indice 0\n",
    "- 1 sola dimensione-> dimensione 0 e abbiamo 5 elementi lungo la dimensione 0\n",
    "- qui la dimensione 0 è quella orizzontale\n",
    "\n",
    "nell'array2d la shape mi da 2-> righe, 3-> colonne\n",
    "- in 1 array bidimensionale ho 2 direzioni\n",
    "- lungo la direzione 0 ho 2 righe\n",
    "- lungo la direzione 1 ho 3 colonne\n",
    "- la dimensione 0 sono le righe-> verticale\n",
    "- la dimensione 1 sono le colonne-> orizzontale\n",
    "\n",
    "le matrici hanno senso di esistere se sono di forma rettangolare"
   ]
  },
  {
   "cell_type": "code",
   "execution_count": 27,
   "id": "0d537608",
   "metadata": {},
   "outputs": [
    {
     "data": {
      "text/plain": [
       "(2, 3)"
      ]
     },
     "execution_count": 27,
     "metadata": {},
     "output_type": "execute_result"
    }
   ],
   "source": [
    "array2d.shape#attributo degli array"
   ]
  },
  {
   "cell_type": "code",
   "execution_count": 31,
   "id": "68aebc00",
   "metadata": {},
   "outputs": [
    {
     "data": {
      "text/plain": [
       "array([0, 1, 2, 3, 4])"
      ]
     },
     "execution_count": 31,
     "metadata": {},
     "output_type": "execute_result"
    }
   ],
   "source": [
    "array1d=np.arange(0,5)\n",
    "array1d"
   ]
  },
  {
   "cell_type": "code",
   "execution_count": 30,
   "id": "d9095bfe",
   "metadata": {},
   "outputs": [
    {
     "data": {
      "text/plain": [
       "(5,)"
      ]
     },
     "execution_count": 30,
     "metadata": {},
     "output_type": "execute_result"
    }
   ],
   "source": [
    "array1d.shape"
   ]
  },
  {
   "cell_type": "markdown",
   "id": "68cb529b",
   "metadata": {},
   "source": [
    "### creazione di array >2"
   ]
  },
  {
   "cell_type": "code",
   "execution_count": 33,
   "id": "50f0a561",
   "metadata": {},
   "outputs": [
    {
     "data": {
      "text/plain": [
       "array([[0., 0., 0., 0., 0.],\n",
       "       [0., 0., 0., 0., 0.],\n",
       "       [0., 0., 0., 0., 0.],\n",
       "       [0., 0., 0., 0., 0.],\n",
       "       [0., 0., 0., 0., 0.],\n",
       "       [0., 0., 0., 0., 0.],\n",
       "       [0., 0., 0., 0., 0.],\n",
       "       [0., 0., 0., 0., 0.],\n",
       "       [0., 0., 0., 0., 0.],\n",
       "       [0., 0., 0., 0., 0.]])"
      ]
     },
     "execution_count": 33,
     "metadata": {},
     "output_type": "execute_result"
    }
   ],
   "source": [
    "matrice0=np.zeros((10,5))\n",
    "matrice0"
   ]
  },
  {
   "cell_type": "code",
   "execution_count": 35,
   "id": "b1805c4d",
   "metadata": {},
   "outputs": [
    {
     "data": {
      "text/plain": [
       "(10, 5)"
      ]
     },
     "execution_count": 35,
     "metadata": {},
     "output_type": "execute_result"
    }
   ],
   "source": [
    "matrice0.shape#-> mi restituisce l'argomento della funzione np.zeros"
   ]
  },
  {
   "cell_type": "markdown",
   "id": "b6008b45",
   "metadata": {},
   "source": [
    "##### array tridimensionale\n",
    "pila di matrici, nella stampa risulta sballato, ogni matrice ha 2 righe, 3 colonne\n",
    "- la dimensione 0 corre su 4 possibilità\n",
    "- la dimensione 1 mi da le righe-> 2\n",
    "- la dimensione 2 mi da le colonne-> 3"
   ]
  },
  {
   "cell_type": "code",
   "execution_count": 36,
   "id": "bcdc943b",
   "metadata": {},
   "outputs": [
    {
     "data": {
      "text/plain": [
       "array([[[0., 0., 0.],\n",
       "        [0., 0., 0.]],\n",
       "\n",
       "       [[0., 0., 0.],\n",
       "        [0., 0., 0.]],\n",
       "\n",
       "       [[0., 0., 0.],\n",
       "        [0., 0., 0.]],\n",
       "\n",
       "       [[0., 0., 0.],\n",
       "        [0., 0., 0.]]])"
      ]
     },
     "execution_count": 36,
     "metadata": {},
     "output_type": "execute_result"
    }
   ],
   "source": [
    "matrice0_1=np.zeros((4,2,3))\n",
    "matrice0_1"
   ]
  },
  {
   "cell_type": "code",
   "execution_count": 37,
   "id": "f6d3d7cb",
   "metadata": {},
   "outputs": [
    {
     "data": {
      "text/plain": [
       "(4, 2, 3)"
      ]
     },
     "execution_count": 37,
     "metadata": {},
     "output_type": "execute_result"
    }
   ],
   "source": [
    "matrice0_1.shape"
   ]
  },
  {
   "cell_type": "code",
   "execution_count": 38,
   "id": "b8429961",
   "metadata": {},
   "outputs": [
    {
     "data": {
      "text/plain": [
       "array([[[0., 0., 0.],\n",
       "        [0., 0., 0.],\n",
       "        [0., 0., 0.],\n",
       "        [0., 0., 0.]],\n",
       "\n",
       "       [[0., 0., 0.],\n",
       "        [0., 0., 0.],\n",
       "        [0., 0., 0.],\n",
       "        [0., 0., 0.]]])"
      ]
     },
     "execution_count": 38,
     "metadata": {},
     "output_type": "execute_result"
    }
   ],
   "source": [
    "matrice0_1=np.zeros((2,4,3))\n",
    "matrice0_1"
   ]
  },
  {
   "cell_type": "code",
   "execution_count": 46,
   "id": "ae9816fc",
   "metadata": {},
   "outputs": [
    {
     "data": {
      "text/plain": [
       "array([[1, 1, 5, 2, 2],\n",
       "       [5, 1, 3, 1, 4],\n",
       "       [3, 3, 6, 2, 1],\n",
       "       [1, 6, 1, 5, 4],\n",
       "       [1, 3, 1, 4, 3]])"
      ]
     },
     "execution_count": 46,
     "metadata": {},
     "output_type": "execute_result"
    }
   ],
   "source": [
    "matrice=np.random.randint(1,7,(5,5))\n",
    "matrice\n",
    "#-> tutti questi metodi mi danno una matrice se gli do una tupla al posto che una dimensione"
   ]
  },
  {
   "cell_type": "markdown",
   "id": "cc003b8e",
   "metadata": {},
   "source": [
    "### flatten\n",
    "mi permette di passare da array nd ad array 1d\n",
    "- mette ogni riga in coda alla precedente"
   ]
  },
  {
   "cell_type": "code",
   "execution_count": 66,
   "id": "ea1d4b75",
   "metadata": {},
   "outputs": [],
   "source": [
    "vettore=matrice.flatten()#mi trasforma la matrice in un array 1d, mette ogni riga in cosa, in ordine dall'alto al basso"
   ]
  },
  {
   "cell_type": "code",
   "execution_count": 67,
   "id": "dfde4a3e",
   "metadata": {},
   "outputs": [
    {
     "data": {
      "text/plain": [
       "array([1, 1, 5, 2, 2, 5, 1, 3, 1, 4, 3, 3, 6, 2, 1, 1, 6, 1, 5, 4, 1, 3,\n",
       "       1, 4, 3])"
      ]
     },
     "execution_count": 67,
     "metadata": {},
     "output_type": "execute_result"
    }
   ],
   "source": [
    "vettore"
   ]
  },
  {
   "cell_type": "code",
   "execution_count": 68,
   "id": "11b5d058",
   "metadata": {},
   "outputs": [
    {
     "data": {
      "text/plain": [
       "array([[1, 1, 5, 2, 2],\n",
       "       [5, 1, 3, 1, 4],\n",
       "       [3, 3, 6, 2, 1],\n",
       "       [1, 6, 1, 5, 4],\n",
       "       [1, 3, 1, 4, 3]])"
      ]
     },
     "execution_count": 68,
     "metadata": {},
     "output_type": "execute_result"
    }
   ],
   "source": [
    "#gli passo le dimensioni della matrice, DEVONO ESSERE GIUSTE, se gli do -1: (5,-1), si calcola lui le colonne\n",
    "vettore.reshape((5,5))"
   ]
  },
  {
   "cell_type": "code",
   "execution_count": 69,
   "id": "6b44dfdd",
   "metadata": {},
   "outputs": [
    {
     "data": {
      "text/plain": [
       "array([[1, 1, 5, 2, 2],\n",
       "       [5, 1, 3, 1, 4],\n",
       "       [3, 3, 6, 2, 1],\n",
       "       [1, 6, 1, 5, 4],\n",
       "       [1, 3, 1, 4, 3]])"
      ]
     },
     "execution_count": 69,
     "metadata": {},
     "output_type": "execute_result"
    }
   ],
   "source": [
    "#gli passo le dimensioni della matrice, DEVONO ESSERE GIUSTE, se gli do -1: (5,-1), si calcola lui le colonne\n",
    "vettore.reshape((5,-1))"
   ]
  },
  {
   "cell_type": "code",
   "execution_count": 70,
   "id": "6d0a8fce",
   "metadata": {},
   "outputs": [
    {
     "data": {
      "text/plain": [
       "array([0.2527369 , 0.28100633, 0.47911097, 0.0052125 , 0.3033033 ,\n",
       "       0.89647985, 0.99502433, 0.99137503, 0.04731412, 0.49199747,\n",
       "       0.7118822 , 0.67380308, 0.34612921, 0.06655511, 0.4387617 ,\n",
       "       0.13602602, 0.92089131, 0.85494733, 0.8208931 , 0.12794777,\n",
       "       0.55909367, 0.31941947, 0.12980866, 0.27960779, 0.55551284,\n",
       "       0.90862359, 0.13724781, 0.343053  , 0.61765619, 0.4825378 ,\n",
       "       0.43608567, 0.34055395, 0.54129186, 0.04026331, 0.31526355,\n",
       "       0.34664159, 0.27502606, 0.6204971 , 0.30216349, 0.32024123,\n",
       "       0.92479992, 0.58533238, 0.37623798, 0.83729011, 0.72943945,\n",
       "       0.09537967, 0.65618684, 0.96584297, 0.06991185, 0.09105864,\n",
       "       0.88643038, 0.22113835, 0.39273887, 0.53188241, 0.14436904,\n",
       "       0.22825387, 0.18434704])"
      ]
     },
     "execution_count": 70,
     "metadata": {},
     "output_type": "execute_result"
    }
   ],
   "source": [
    "vettore1=np.random.uniform(0,1,57)\n",
    "vettore1"
   ]
  },
  {
   "cell_type": "code",
   "execution_count": 71,
   "id": "531b85e9",
   "metadata": {},
   "outputs": [],
   "source": [
    "matrice0_4=vettore1.reshape((3,-1))"
   ]
  },
  {
   "cell_type": "code",
   "execution_count": 72,
   "id": "a6f3b5eb",
   "metadata": {},
   "outputs": [
    {
     "data": {
      "text/plain": [
       "array([[0., 0., 0., 0., 0.],\n",
       "       [0., 0., 0., 0., 0.],\n",
       "       [0., 0., 0., 0., 0.],\n",
       "       [0., 0., 0., 0., 0.],\n",
       "       [0., 0., 0., 0., 0.],\n",
       "       [0., 0., 0., 0., 0.],\n",
       "       [0., 0., 0., 0., 0.],\n",
       "       [0., 0., 0., 0., 0.],\n",
       "       [0., 0., 0., 0., 0.],\n",
       "       [0., 0., 0., 0., 0.]])"
      ]
     },
     "execution_count": 72,
     "metadata": {},
     "output_type": "execute_result"
    }
   ],
   "source": [
    "matrice0"
   ]
  },
  {
   "cell_type": "code",
   "execution_count": 74,
   "id": "3a9b2b1c",
   "metadata": {},
   "outputs": [
    {
     "data": {
      "text/plain": [
       "array([1, 2, 3, 4, 5, 6, 7, 8, 9])"
      ]
     },
     "execution_count": 74,
     "metadata": {},
     "output_type": "execute_result"
    }
   ],
   "source": [
    "vettore5=np.arange(1,10)\n",
    "vettore5"
   ]
  },
  {
   "cell_type": "markdown",
   "id": "4c041769",
   "metadata": {},
   "source": [
    "#### roll\n",
    "shifta l'array avanti o indietro"
   ]
  },
  {
   "cell_type": "code",
   "execution_count": 75,
   "id": "a378f12d",
   "metadata": {},
   "outputs": [
    {
     "data": {
      "text/plain": [
       "array([2, 3, 4, 5, 6, 7, 8, 9, 1])"
      ]
     },
     "execution_count": 75,
     "metadata": {},
     "output_type": "execute_result"
    }
   ],
   "source": [
    "np.roll(vettore5,-1)"
   ]
  },
  {
   "cell_type": "code",
   "execution_count": 76,
   "id": "5815e8f9",
   "metadata": {},
   "outputs": [
    {
     "data": {
      "text/plain": [
       "array([9, 1, 2, 3, 4, 5, 6, 7, 8])"
      ]
     },
     "execution_count": 76,
     "metadata": {},
     "output_type": "execute_result"
    }
   ],
   "source": [
    "np.roll(vettore5,+1)"
   ]
  },
  {
   "cell_type": "code",
   "execution_count": 77,
   "id": "7078ecc0",
   "metadata": {},
   "outputs": [
    {
     "data": {
      "text/plain": [
       "array([7, 8, 9, 1, 2, 3, 4, 5, 6])"
      ]
     },
     "execution_count": 77,
     "metadata": {},
     "output_type": "execute_result"
    }
   ],
   "source": [
    "np.roll(vettore5,+3)"
   ]
  },
  {
   "cell_type": "markdown",
   "id": "475af8a6",
   "metadata": {},
   "source": [
    "#### esercizio\n",
    "dato n costruire un array 2d come il seguente [[1,2,3.....n-1][1,2,3.....n-1]....[1,2,3.....n-1]] con n righe"
   ]
  },
  {
   "cell_type": "code",
   "execution_count": 85,
   "id": "55c5f854",
   "metadata": {},
   "outputs": [
    {
     "data": {
      "text/plain": [
       "array([0, 1, 2, 3, 4])"
      ]
     },
     "execution_count": 85,
     "metadata": {},
     "output_type": "execute_result"
    }
   ],
   "source": [
    "n=5\n",
    "np.arange(0,n)"
   ]
  },
  {
   "cell_type": "code",
   "execution_count": 87,
   "id": "80bf600a",
   "metadata": {},
   "outputs": [
    {
     "data": {
      "text/plain": [
       "array([ 0,  1,  2,  3,  4,  5,  6,  7,  8,  9, 10, 11, 12, 13, 14, 15, 16,\n",
       "       17, 18, 19, 20, 21, 22, 23, 24])"
      ]
     },
     "execution_count": 87,
     "metadata": {},
     "output_type": "execute_result"
    }
   ],
   "source": [
    "np.arange(0,n*n)"
   ]
  },
  {
   "cell_type": "code",
   "execution_count": 90,
   "id": "0522ca1d",
   "metadata": {},
   "outputs": [
    {
     "data": {
      "text/plain": [
       "array([[0, 1, 2, 3, 4],\n",
       "       [0, 1, 2, 3, 4],\n",
       "       [0, 1, 2, 3, 4],\n",
       "       [0, 1, 2, 3, 4],\n",
       "       [0, 1, 2, 3, 4]], dtype=int32)"
      ]
     },
     "execution_count": 90,
     "metadata": {},
     "output_type": "execute_result"
    }
   ],
   "source": [
    "n=5\n",
    "matrice6=(np.arange(0,n*n)%n).reshape((n,-1))\n",
    "matrice6"
   ]
  },
  {
   "cell_type": "code",
   "execution_count": 92,
   "id": "cac4bed7",
   "metadata": {},
   "outputs": [
    {
     "data": {
      "text/plain": [
       "array([0, 1, 2, 3, 4, 5, 6, 7, 8, 9])"
      ]
     },
     "execution_count": 92,
     "metadata": {},
     "output_type": "execute_result"
    }
   ],
   "source": [
    "np.arange(0,10)"
   ]
  },
  {
   "cell_type": "code",
   "execution_count": 93,
   "id": "26ef7448",
   "metadata": {},
   "outputs": [
    {
     "data": {
      "text/plain": [
       "array([0, 1, 2, 0, 1, 2, 0, 1, 2, 0], dtype=int32)"
      ]
     },
     "execution_count": 93,
     "metadata": {},
     "output_type": "execute_result"
    }
   ],
   "source": [
    "np.arange(0,10)%3"
   ]
  },
  {
   "cell_type": "code",
   "execution_count": 94,
   "id": "45abbedc",
   "metadata": {},
   "outputs": [
    {
     "data": {
      "text/plain": [
       "array([[1, 2, 3, 4, 0],\n",
       "       [1, 2, 3, 4, 0],\n",
       "       [1, 2, 3, 4, 0],\n",
       "       [1, 2, 3, 4, 0],\n",
       "       [1, 2, 3, 4, 0]], dtype=int32)"
      ]
     },
     "execution_count": 94,
     "metadata": {},
     "output_type": "execute_result"
    }
   ],
   "source": [
    "np.roll(matrice6,-1)#roll sulle colonne"
   ]
  },
  {
   "cell_type": "code",
   "execution_count": 97,
   "id": "0cc3e5cb",
   "metadata": {},
   "outputs": [
    {
     "data": {
      "text/plain": [
       "array([[1, 2, 3, 4, 0],\n",
       "       [1, 2, 3, 4, 0],\n",
       "       [1, 2, 3, 4, 0],\n",
       "       [1, 2, 3, 4, 0],\n",
       "       [1, 2, 3, 4, 0]], dtype=int32)"
      ]
     },
     "execution_count": 97,
     "metadata": {},
     "output_type": "execute_result"
    }
   ],
   "source": [
    "#axis definisce la dimensione su cui operare\n",
    "np.roll(matrice6,-1,axis=1)#roll sulle righe"
   ]
  },
  {
   "cell_type": "markdown",
   "id": "f6a366e8",
   "metadata": {},
   "source": [
    "### esercizio: il prezzo di un'azione\n",
    "simuliamo il prezzo di un'azione di un azienda\n",
    "\n",
    "np.random.normal(1,5,200)\n",
    "- 1 - valor medio, ogni giorno aumenta di 1\n",
    "- 5 - deviazione standard\n",
    "- 200 -sono i giorni\n",
    "\n",
    "genero le variazioni di prezzo di tutti i giorni e le sommo, calcolo solo la variazione\n",
    "\n",
    "è molto raro nelle casistiche gaussiane di lavorare nei casi limite"
   ]
  },
  {
   "cell_type": "code",
   "execution_count": 28,
   "id": "9b536ea9",
   "metadata": {},
   "outputs": [
    {
     "data": {
      "text/plain": [
       "array([116.24345364, 110.1258895 , 104.84417198,  94.11448576,\n",
       "       102.76856205,  79.75317508,  97.20129272,  89.58922371,\n",
       "        92.77961467,  90.28591092])"
      ]
     },
     "execution_count": 28,
     "metadata": {},
     "output_type": "execute_result"
    }
   ],
   "source": [
    "np.random.seed(1)\n",
    "prezzo=100+np.cumsum(np.random.normal(0,10,10))\n",
    "prezzo"
   ]
  },
  {
   "cell_type": "markdown",
   "id": "fa6587fd",
   "metadata": {},
   "source": [
    "### per installare le librerie -> %pip install \"nomeLibreria\""
   ]
  },
  {
   "cell_type": "markdown",
   "id": "daafaab3",
   "metadata": {},
   "source": [
    "## somma comulativa\n",
    "la somma comulativa, crea 1 array lungo come quello di partenza dove:\n",
    "- nel primo copia il primo,\n",
    "- nel secondo la somma dei primi 2\n",
    "- nel terzo la somma dei primi 3"
   ]
  },
  {
   "cell_type": "code",
   "execution_count": 103,
   "id": "aaac4471",
   "metadata": {},
   "outputs": [
    {
     "data": {
      "text/plain": [
       "array([1, 2, 3, 4, 5, 6])"
      ]
     },
     "execution_count": 103,
     "metadata": {},
     "output_type": "execute_result"
    }
   ],
   "source": [
    "np.cumsum([1,1,1,1,1,1])"
   ]
  },
  {
   "cell_type": "code",
   "execution_count": 7,
   "id": "8a28d664",
   "metadata": {},
   "outputs": [],
   "source": [
    "conto_corrente=100\n",
    "entrate_uscite=np.array([-10,-10,50,0,10])"
   ]
  },
  {
   "cell_type": "code",
   "execution_count": 8,
   "id": "545f286c",
   "metadata": {},
   "outputs": [
    {
     "data": {
      "text/plain": [
       "array([ 90,  90, 150, 100, 110])"
      ]
     },
     "execution_count": 8,
     "metadata": {},
     "output_type": "execute_result"
    }
   ],
   "source": [
    "conto_corrente + entrate_uscite\n",
    "#devo fare la somma comulativa"
   ]
  },
  {
   "cell_type": "code",
   "execution_count": 10,
   "id": "5d6984ef",
   "metadata": {},
   "outputs": [
    {
     "data": {
      "text/plain": [
       "array([ 90,  80, 130, 130, 140])"
      ]
     },
     "execution_count": 10,
     "metadata": {},
     "output_type": "execute_result"
    }
   ],
   "source": [
    "conto_corrente+np.cumsum(entrate_uscite)"
   ]
  },
  {
   "cell_type": "markdown",
   "id": "5afb3ad6",
   "metadata": {},
   "source": [
    "#### matplot\n",
    "nel grafico il prezzo massimo è il picco, il minimo il più basso-> sono il minimo e massimo globale\n",
    "\n",
    "nella curva ci sono dei massimi e minimi locali, relativi"
   ]
  },
  {
   "cell_type": "code",
   "execution_count": 29,
   "id": "1195038f",
   "metadata": {},
   "outputs": [
    {
     "data": {
      "text/plain": [
       "[<matplotlib.lines.Line2D at 0x2355e1dbd10>]"
      ]
     },
     "execution_count": 29,
     "metadata": {},
     "output_type": "execute_result"
    },
    {
     "data": {
      "image/png": "[encoded data removed]",
      "text/plain": [
       "<Figure size 640x480 with 1 Axes>"
      ]
     },
     "metadata": {},
     "output_type": "display_data"
    }
   ],
   "source": [
    "plt.plot(prezzo)"
   ]
  },
  {
   "cell_type": "markdown",
   "id": "b97c30fe",
   "metadata": {},
   "source": [
    "cerco i massimi e minimi globali"
   ]
  },
  {
   "cell_type": "code",
   "execution_count": 30,
   "id": "0862fc98",
   "metadata": {},
   "outputs": [
    {
     "name": "stdout",
     "output_type": "stream",
     "text": [
      "il prezzo massimo è: 116.24\n",
      "il prezzo minimo è: 79.75\n"
     ]
    }
   ],
   "source": [
    "print(f\"il prezzo massimo è: {np.max(prezzo):.2f}\")\n",
    "print(f\"il prezzo minimo è: {np.min(prezzo):.2f}\")"
   ]
  },
  {
   "cell_type": "markdown",
   "id": "7c1ca443",
   "metadata": {},
   "source": [
    "cerco i bassi e minimi locali, relativi, i massismi e minimi di ogni giorno\n",
    "\n",
    "shifto l'array a sinistra e destra di 1, così quando confronto 1 giorno del primo array, se lo rollo a destra ho il giorno prima, se verso sinisra il giorno dopo, tutti nella stessa posizione\n",
    "\n",
    "per far si che sia un massimo locale deve essere maggiore del dato nella stessa posizione dei 2 array rollati"
   ]
  },
  {
   "cell_type": "code",
   "execution_count": 31,
   "id": "d007730d",
   "metadata": {},
   "outputs": [
    {
     "data": {
      "text/plain": [
       "array([116.24345364, 110.1258895 , 104.84417198,  94.11448576,\n",
       "       102.76856205,  79.75317508,  97.20129272,  89.58922371,\n",
       "        92.77961467,  90.28591092])"
      ]
     },
     "execution_count": 31,
     "metadata": {},
     "output_type": "execute_result"
    }
   ],
   "source": [
    "prezzo"
   ]
  },
  {
   "cell_type": "code",
   "execution_count": 32,
   "id": "748818b5",
   "metadata": {},
   "outputs": [
    {
     "data": {
      "text/plain": [
       "array([110.1258895 , 104.84417198,  94.11448576, 102.76856205,\n",
       "        79.75317508,  97.20129272,  89.58922371,  92.77961467,\n",
       "        90.28591092, 116.24345364])"
      ]
     },
     "execution_count": 32,
     "metadata": {},
     "output_type": "execute_result"
    }
   ],
   "source": [
    "np.roll(prezzo,-1)#domani"
   ]
  },
  {
   "cell_type": "code",
   "execution_count": 33,
   "id": "ce4abae8",
   "metadata": {},
   "outputs": [
    {
     "data": {
      "text/plain": [
       "array([ 90.28591092, 116.24345364, 110.1258895 , 104.84417198,\n",
       "        94.11448576, 102.76856205,  79.75317508,  97.20129272,\n",
       "        89.58922371,  92.77961467])"
      ]
     },
     "execution_count": 33,
     "metadata": {},
     "output_type": "execute_result"
    }
   ],
   "source": [
    "np.roll(prezzo,1)#ieri"
   ]
  },
  {
   "cell_type": "code",
   "execution_count": 34,
   "id": "0cd54ff6",
   "metadata": {},
   "outputs": [
    {
     "data": {
      "text/plain": [
       "array([ True, False, False, False,  True, False,  True, False,  True,\n",
       "       False])"
      ]
     },
     "execution_count": 34,
     "metadata": {},
     "output_type": "execute_result"
    }
   ],
   "source": [
    "massimi_locali=(prezzo>np.roll(prezzo,1))&(prezzo>np.roll(prezzo,-1))\n",
    "massimi_locali"
   ]
  },
  {
   "cell_type": "code",
   "execution_count": 35,
   "id": "630b479f",
   "metadata": {},
   "outputs": [
    {
     "data": {
      "text/plain": [
       "array([116.24345364, 102.76856205,  97.20129272,  92.77961467])"
      ]
     },
     "execution_count": 35,
     "metadata": {},
     "output_type": "execute_result"
    }
   ],
   "source": [
    "prezzo[massimi_locali]"
   ]
  },
  {
   "cell_type": "code",
   "execution_count": 36,
   "id": "f42d3c07",
   "metadata": {},
   "outputs": [
    {
     "data": {
      "text/plain": [
       "[<matplotlib.lines.Line2D at 0x2355e2b43d0>]"
      ]
     },
     "execution_count": 36,
     "metadata": {},
     "output_type": "execute_result"
    },
    {
     "data": {
      "image/png": "[encoded data removed]",
      "text/plain": [
       "<Figure size 640x480 with 1 Axes>"
      ]
     },
     "metadata": {},
     "output_type": "display_data"
    }
   ],
   "source": [
    "plt.plot(prezzo)"
   ]
  },
  {
   "cell_type": "code",
   "execution_count": 37,
   "id": "a2447163",
   "metadata": {},
   "outputs": [
    {
     "data": {
      "text/plain": [
       "array([False, False, False,  True, False,  True, False,  True, False,\n",
       "        True])"
      ]
     },
     "execution_count": 37,
     "metadata": {},
     "output_type": "execute_result"
    }
   ],
   "source": [
    "minimi_locali=(prezzo<np.roll(prezzo,1))&(prezzo<np.roll(prezzo,-1))\n",
    "minimi_locali"
   ]
  },
  {
   "cell_type": "code",
   "execution_count": 41,
   "id": "0bba29bc",
   "metadata": {},
   "outputs": [
    {
     "data": {
      "text/plain": [
       "array([94.11448576, 79.75317508, 89.58922371, 90.28591092])"
      ]
     },
     "execution_count": 41,
     "metadata": {},
     "output_type": "execute_result"
    }
   ],
   "source": [
    "prezzo[minimi_locali]"
   ]
  },
  {
   "cell_type": "markdown",
   "id": "324b9668",
   "metadata": {},
   "source": [
    "### *********************************************\n",
    "sugli array numpy posso usare l'indicizzazione booleana\n",
    "\n",
    "posso usare lo slicing, come sulle liste"
   ]
  },
  {
   "cell_type": "code",
   "execution_count": 44,
   "id": "ffebfb4e",
   "metadata": {},
   "outputs": [
    {
     "data": {
      "text/plain": [
       "array([-5., -4., -3., -2., -1.,  0.,  1.,  2.,  3.,  4.,  5.])"
      ]
     },
     "execution_count": 44,
     "metadata": {},
     "output_type": "execute_result"
    }
   ],
   "source": [
    "array1d=np.linspace(-5,5,11)#usa numeri float equispaziati, così ne prendo 11 nell'intervallo -5,5\n",
    "array1d"
   ]
  },
  {
   "cell_type": "code",
   "execution_count": 46,
   "id": "d73ee70c",
   "metadata": {},
   "outputs": [
    {
     "data": {
      "text/plain": [
       "-2.0"
      ]
     },
     "execution_count": 46,
     "metadata": {},
     "output_type": "execute_result"
    }
   ],
   "source": [
    "array1d[3]"
   ]
  },
  {
   "cell_type": "code",
   "execution_count": 47,
   "id": "0ba69fc4",
   "metadata": {},
   "outputs": [
    {
     "data": {
      "text/plain": [
       "array([-2., -1.,  0.,  1.,  2.])"
      ]
     },
     "execution_count": 47,
     "metadata": {},
     "output_type": "execute_result"
    }
   ],
   "source": [
    "array1d[3:8]"
   ]
  },
  {
   "cell_type": "code",
   "execution_count": 48,
   "id": "1cb85325",
   "metadata": {},
   "outputs": [
    {
     "data": {
      "text/plain": [
       "array([-2.,  0.,  2.])"
      ]
     },
     "execution_count": 48,
     "metadata": {},
     "output_type": "execute_result"
    }
   ],
   "source": [
    "array1d[3:8:2]#salta di 2 in 2"
   ]
  },
  {
   "cell_type": "markdown",
   "id": "77d3c0fa",
   "metadata": {},
   "source": [
    "##### in numpy posso usare queste espressioni per assegnare valori agli array\n",
    "assegnamento in broadcast con slicing"
   ]
  },
  {
   "cell_type": "code",
   "execution_count": 49,
   "id": "e31b77c0",
   "metadata": {},
   "outputs": [
    {
     "data": {
      "text/plain": [
       "array([-5., -4., -3.,  9., -1.,  9.,  1.,  9.,  3.,  4.,  5.])"
      ]
     },
     "execution_count": 49,
     "metadata": {},
     "output_type": "execute_result"
    }
   ],
   "source": [
    "array1d[3:8:2]=9\n",
    "array1d"
   ]
  },
  {
   "cell_type": "code",
   "execution_count": 71,
   "id": "33778dbc",
   "metadata": {},
   "outputs": [
    {
     "data": {
      "text/plain": [
       "array([[1, 5, 2, 1],\n",
       "       [1, 6, 4, 3],\n",
       "       [2, 1, 4, 6]])"
      ]
     },
     "execution_count": 71,
     "metadata": {},
     "output_type": "execute_result"
    }
   ],
   "source": [
    "array2d=np.random.randint(1,7,(3,4))\n",
    "array2d"
   ]
  },
  {
   "cell_type": "code",
   "execution_count": 72,
   "id": "51d00a01",
   "metadata": {},
   "outputs": [
    {
     "data": {
      "text/plain": [
       "array([1, 6, 4, 3])"
      ]
     },
     "execution_count": 72,
     "metadata": {},
     "output_type": "execute_result"
    }
   ],
   "source": [
    "array2d[1] #se uso un solo indic becco una sola riga"
   ]
  },
  {
   "cell_type": "code",
   "execution_count": 73,
   "id": "ca2ecd13",
   "metadata": {},
   "outputs": [
    {
     "data": {
      "text/plain": [
       "array([[1, 6, 4, 3],\n",
       "       [2, 1, 4, 6]])"
      ]
     },
     "execution_count": 73,
     "metadata": {},
     "output_type": "execute_result"
    }
   ],
   "source": [
    "array2d[1:3]#con gli slicing becco le righe"
   ]
  },
  {
   "cell_type": "code",
   "execution_count": 74,
   "id": "69f84743",
   "metadata": {},
   "outputs": [
    {
     "data": {
      "text/plain": [
       "array([[5, 2],\n",
       "       [6, 4],\n",
       "       [1, 4]])"
      ]
     },
     "execution_count": 74,
     "metadata": {},
     "output_type": "execute_result"
    }
   ],
   "source": [
    "array2d[:,1:3]#il : iniziale -> tutte le righe, le colonne che voglio"
   ]
  },
  {
   "cell_type": "code",
   "execution_count": 75,
   "id": "b388f5fe",
   "metadata": {},
   "outputs": [
    {
     "data": {
      "text/plain": [
       "array([[1, 2],\n",
       "       [1, 4],\n",
       "       [2, 4]])"
      ]
     },
     "execution_count": 75,
     "metadata": {},
     "output_type": "execute_result"
    }
   ],
   "source": [
    "array2d[:,::2]#prende le colonne pari"
   ]
  },
  {
   "cell_type": "code",
   "execution_count": 76,
   "id": "b4ca7140",
   "metadata": {},
   "outputs": [
    {
     "data": {
      "text/plain": [
       "array([[1, 1],\n",
       "       [1, 3],\n",
       "       [2, 6]])"
      ]
     },
     "execution_count": 76,
     "metadata": {},
     "output_type": "execute_result"
    }
   ],
   "source": [
    "array2d[:,::3]"
   ]
  },
  {
   "cell_type": "code",
   "execution_count": 77,
   "id": "c7a4e837",
   "metadata": {},
   "outputs": [
    {
     "data": {
      "text/plain": [
       "array([[999,   5,   2, 999],\n",
       "       [999,   6,   4, 999],\n",
       "       [999,   1,   4, 999]])"
      ]
     },
     "execution_count": 77,
     "metadata": {},
     "output_type": "execute_result"
    }
   ],
   "source": [
    "array2d[:,::3]=999\n",
    "array2d"
   ]
  },
  {
   "cell_type": "markdown",
   "id": "7e45aa04",
   "metadata": {},
   "source": [
    "## esercizio\n",
    "dato un array lungo n, 0,1 alternati"
   ]
  },
  {
   "cell_type": "code",
   "execution_count": 91,
   "id": "8dfcc439",
   "metadata": {},
   "outputs": [
    {
     "data": {
      "text/plain": [
       "array([1, 0, 1, 0, 1, 0, 1, 0, 1, 0], dtype=int8)"
      ]
     },
     "execution_count": 91,
     "metadata": {},
     "output_type": "execute_result"
    }
   ],
   "source": [
    "n=10\n",
    "array=np.zeros(n,dtype=np.int8)\n",
    "array[::2]=1\n",
    "array"
   ]
  },
  {
   "cell_type": "markdown",
   "id": "752dd5e9",
   "metadata": {},
   "source": [
    "### es2\n",
    "fare 1 array fatto a scacchiera"
   ]
  },
  {
   "cell_type": "code",
   "execution_count": 92,
   "id": "ef5df84b",
   "metadata": {},
   "outputs": [
    {
     "data": {
      "text/plain": [
       "array([[1, 0, 1, 0, 1, 0, 1, 0, 1, 0],\n",
       "       [0, 1, 0, 1, 0, 1, 0, 1, 0, 1],\n",
       "       [1, 0, 1, 0, 1, 0, 1, 0, 1, 0],\n",
       "       [0, 1, 0, 1, 0, 1, 0, 1, 0, 1],\n",
       "       [1, 0, 1, 0, 1, 0, 1, 0, 1, 0],\n",
       "       [0, 1, 0, 1, 0, 1, 0, 1, 0, 1],\n",
       "       [1, 0, 1, 0, 1, 0, 1, 0, 1, 0],\n",
       "       [0, 1, 0, 1, 0, 1, 0, 1, 0, 1],\n",
       "       [1, 0, 1, 0, 1, 0, 1, 0, 1, 0],\n",
       "       [0, 1, 0, 1, 0, 1, 0, 1, 0, 1]], dtype=int8)"
      ]
     },
     "execution_count": 92,
     "metadata": {},
     "output_type": "execute_result"
    }
   ],
   "source": [
    "arrayscacchiera=np.zeros((n,n),dtype=np.int8)\n",
    "arrayscacchiera[::2,::2]=1\n",
    "arrayscacchiera[1::2,1::2]=1\n",
    "arrayscacchiera"
   ]
  },
  {
   "cell_type": "code",
   "execution_count": 94,
   "id": "9fe00528",
   "metadata": {},
   "outputs": [
    {
     "data": {
      "text/plain": [
       "<matplotlib.image.AxesImage at 0x2355ea206d0>"
      ]
     },
     "execution_count": 94,
     "metadata": {},
     "output_type": "execute_result"
    },
    {
     "data": {
      "image/png": "[encoded data removed]",
      "text/plain": [
       "<Figure size 640x480 with 1 Axes>"
      ]
     },
     "metadata": {},
     "output_type": "display_data"
    }
   ],
   "source": [
    "plt.imshow(arrayscacchiera)"
   ]
  },
  {
   "cell_type": "markdown",
   "id": "92137ea5",
   "metadata": {},
   "source": [
    "### disegna un bersaglio 10 per 10"
   ]
  },
  {
   "cell_type": "code",
   "execution_count": 115,
   "id": "92c4908a",
   "metadata": {},
   "outputs": [
    {
     "data": {
      "text/plain": [
       "array([[1, 1, 1, ..., 1, 1, 1],\n",
       "       [1, 2, 2, ..., 2, 2, 1],\n",
       "       [1, 2, 3, ..., 3, 2, 1],\n",
       "       ...,\n",
       "       [1, 2, 3, ..., 3, 2, 1],\n",
       "       [1, 2, 2, ..., 2, 2, 1],\n",
       "       [1, 1, 1, ..., 1, 1, 1]], dtype=int8)"
      ]
     },
     "execution_count": 115,
     "metadata": {},
     "output_type": "execute_result"
    }
   ],
   "source": [
    "n=100\n",
    "array_bersaglio=np.ones((n,n),dtype=np.int8)\n",
    "for i in range(n//2+1):\n",
    "    array_bersaglio[i:-i,i:-i]=i+1\n",
    "    \n",
    "array_bersaglio"
   ]
  },
  {
   "cell_type": "code",
   "execution_count": 116,
   "id": "6c9a1725",
   "metadata": {},
   "outputs": [
    {
     "data": {
      "text/plain": [
       "<matplotlib.image.AxesImage at 0x2355e9c1a50>"
      ]
     },
     "execution_count": 116,
     "metadata": {},
     "output_type": "execute_result"
    },
    {
     "data": {
      "image/png": "[encoded data removed]",
      "text/plain": [
       "<Figure size 640x480 with 1 Axes>"
      ]
     },
     "metadata": {},
     "output_type": "display_data"
    }
   ],
   "source": [
    "plt.imshow(array_bersaglio)"
   ]
  },
  {
   "cell_type": "markdown",
   "id": "e1057ad7",
   "metadata": {},
   "source": [
    "### es\n",
    "dato 1 array di numeri, scrivere una funzione che mi dica se la sequenza è monotona crescente"
   ]
  },
  {
   "cell_type": "code",
   "execution_count": 146,
   "id": "baed2290",
   "metadata": {},
   "outputs": [
    {
     "data": {
      "text/plain": [
       "True"
      ]
     },
     "execution_count": 146,
     "metadata": {},
     "output_type": "execute_result"
    }
   ],
   "source": [
    "def array_monotona(array):\n",
    "    array_t=np.roll(array,1)\n",
    "    array_b=array>array_t\n",
    "    return np.count_nonzero(array_b[1:])==len(array_b)-1"
   ]
  },
  {
   "cell_type": "code",
   "execution_count": 148,
   "id": "4d654dd0",
   "metadata": {},
   "outputs": [
    {
     "data": {
      "text/plain": [
       "False"
      ]
     },
     "execution_count": 148,
     "metadata": {},
     "output_type": "execute_result"
    }
   ],
   "source": [
    "n=20   \n",
    "array_m=np.random.randint(1,n,n)\n",
    "array_monotona(array_m)"
   ]
  },
  {
   "cell_type": "code",
   "execution_count": 147,
   "id": "e95a1611",
   "metadata": {},
   "outputs": [
    {
     "data": {
      "text/plain": [
       "True"
      ]
     },
     "execution_count": 147,
     "metadata": {},
     "output_type": "execute_result"
    }
   ],
   "source": [
    "array_m=np.arange(n)\n",
    "array_monotona(array_m)"
   ]
  },
  {
   "cell_type": "code",
   "execution_count": null,
   "id": "12ca87dc",
   "metadata": {},
   "outputs": [],
   "source": []
  }
 ],
 "metadata": {
  "kernelspec": {
   "display_name": "Python 3 (ipykernel)",
   "language": "python",
   "name": "python3"
  },
  "language_info": {
   "codemirror_mode": {
    "name": "ipython",
    "version": 3
   },
   "file_extension": ".py",
   "mimetype": "text/x-python",
   "name": "python",
   "nbconvert_exporter": "python",
   "pygments_lexer": "ipython3",
   "version": "3.11.4"
  }
 },
 "nbformat": 4,
 "nbformat_minor": 5
}
