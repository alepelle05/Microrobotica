{
 "cells": [
  {
   "cell_type": "markdown",
   "id": "712aa22d",
   "metadata": {},
   "source": [
    "## markDown\n",
    "jupiter viene usao in locale, lato server e softeare\n",
    "\n",
    "-utile per documentare il codice e prendere appunti\n",
    "\n",
    "-ci sono degli strumenti che permettono di convertire il markdown in html"
   ]
  },
  {
   "cell_type": "markdown",
   "id": "41c789f8",
   "metadata": {},
   "source": [
    "# TITOLO IMPORTANTE\n",
    "## tit meno importante\n",
    "### tit meno meno importante\n",
    "\n",
    "ciao a tutti\n",
    "=========\n",
    "\n",
    "questo è un testo, questa è una parola *importante*\n",
    "\n",
    "**questa** è una parola grassa"
   ]
  },
  {
   "cell_type": "markdown",
   "id": "e7603920",
   "metadata": {},
   "source": [
    "posso inserire immmagini\n",
    "\n",
    "![Image](link)"
   ]
  },
  {
   "cell_type": "markdown",
   "id": "6dd77244",
   "metadata": {},
   "source": [
    "> questa è una citazione\n",
    "altro testo\n",
    "\n",
    "con riga vuota esco\n",
    "\n",
    "### ELENCHI PUNTATI\n",
    "- a\n",
    "- b\n",
    "- c\n",
    "\n",
    "ci vuole lo spazio tra il - e il resto\n",
    "\n",
    "### linea di separazione\n",
    "\n",
    "---\n",
    "\n",
    "### posso inserire del codice\n",
    "    l=[1,2,3]\n",
    "    print(l)\n",
    "    for i in range(0,3):\n",
    "        print(i)\n",
    "    \n",
    "il codice è finito"
   ]
  },
  {
   "cell_type": "code",
   "execution_count": null,
   "id": "9e8b2765",
   "metadata": {},
   "outputs": [],
   "source": []
  }
 ],
 "metadata": {
  "kernelspec": {
   "display_name": "Python 3 (ipykernel)",
   "language": "python",
   "name": "python3"
  },
  "language_info": {
   "codemirror_mode": {
    "name": "ipython",
    "version": 3
   },
   "file_extension": ".py",
   "mimetype": "text/x-python",
   "name": "python",
   "nbconvert_exporter": "python",
   "pygments_lexer": "ipython3",
   "version": "3.11.4"
  }
 },
 "nbformat": 4,
 "nbformat_minor": 5
}
