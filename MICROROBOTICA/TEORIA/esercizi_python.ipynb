{
 "cells": [
  {
   "cell_type": "markdown",
   "metadata": {},
   "source": [
    "# un primo notebook\n",
    "questo è il mio primo notebook di jupyter"
   ]
  },
  {
   "cell_type": "code",
   "execution_count": 1,
   "metadata": {},
   "outputs": [],
   "source": [
    "#importazione delle librerie\n",
    "import matplotlib.pyplot as plt"
   ]
  },
  {
   "cell_type": "code",
   "execution_count": 3,
   "metadata": {},
   "outputs": [
    {
     "name": "stdout",
     "output_type": "stream",
     "text": [
      "[1, 4, 9, 16]\n"
     ]
    }
   ],
   "source": [
    "quadrati_perfetti=[]\n",
    "for i in range(1,5):\n",
    "    quadrati_perfetti.append(i**2)\n",
    "print(quadrati_perfetti)"
   ]
  },
  {
   "cell_type": "markdown",
   "metadata": {},
   "source": [
    "## list comprehension"
   ]
  },
  {
   "cell_type": "code",
   "execution_count": 4,
   "metadata": {},
   "outputs": [
    {
     "name": "stdout",
     "output_type": "stream",
     "text": [
      "[1, 4, 9, 16, 25, 36, 49, 64, 81]\n"
     ]
    },
    {
     "data": {
      "text/plain": [
       "[1, 4, 9, 16, 25, 36, 49, 64, 81]"
      ]
     },
     "execution_count": 4,
     "metadata": {},
     "output_type": "execute_result"
    }
   ],
   "source": [
    "quadrati_perfetti=[i**2 for i in range(1,10)]\n",
    "print(quadrati_perfetti)\n",
    "#posso levare la print, solo per una variabile\n",
    "quadrati_perfetti"
   ]
  },
  {
   "cell_type": "code",
   "execution_count": 10,
   "metadata": {},
   "outputs": [
    {
     "data": {
      "text/plain": [
       "[4, 16, 36, 64, 100, 144, 196, 256, 324]"
      ]
     },
     "execution_count": 10,
     "metadata": {},
     "output_type": "execute_result"
    }
   ],
   "source": [
    "quadrati_perfetti_pari=[(i*2)**2 for i in range(1,10)]\n",
    "quadrati_perfetti_pari"
   ]
  },
  {
   "cell_type": "code",
   "execution_count": 12,
   "metadata": {},
   "outputs": [
    {
     "data": {
      "text/plain": [
       "[4, 16, 36, 64]"
      ]
     },
     "execution_count": 12,
     "metadata": {},
     "output_type": "execute_result"
    }
   ],
   "source": [
    "##mi restituisce solamente i quadrati pari\n",
    "quadrati_perfetti_pari=[i**2 for i in range(1,10) if i**2%2==0]\n",
    "quadrati_perfetti_pari"
   ]
  },
  {
   "cell_type": "code",
   "execution_count": 14,
   "metadata": {},
   "outputs": [
    {
     "data": {
      "text/plain": [
       "['scuola', 'classe', 'computer', 'aula', 'celulare']"
      ]
     },
     "execution_count": 14,
     "metadata": {},
     "output_type": "execute_result"
    }
   ],
   "source": [
    "parole=[\"scuola\",\"classe\",\"computer\",\"aula\",\"celulare\"]\n",
    "parole\n"
   ]
  },
  {
   "cell_type": "code",
   "execution_count": 16,
   "metadata": {},
   "outputs": [
    {
     "data": {
      "text/plain": [
       "['classe', 'computer', 'celulare']"
      ]
     },
     "execution_count": 16,
     "metadata": {},
     "output_type": "execute_result"
    }
   ],
   "source": [
    "parole_c= [parola for parola in parole if parola[0]==\"c\"]\n",
    "parole_c"
   ]
  },
  {
   "cell_type": "code",
   "execution_count": 17,
   "metadata": {},
   "outputs": [
    {
     "data": {
      "text/plain": [
       "'celulare'"
      ]
     },
     "execution_count": 17,
     "metadata": {},
     "output_type": "execute_result"
    }
   ],
   "source": [
    "parole_c[-1]"
   ]
  },
  {
   "cell_type": "code",
   "execution_count": 21,
   "metadata": {},
   "outputs": [
    {
     "data": {
      "text/plain": [
       "'S delpozzo'"
      ]
     },
     "execution_count": 21,
     "metadata": {},
     "output_type": "execute_result"
    }
   ],
   "source": [
    "stringa=\"ITIS delpozzo\"\n",
    "stringa[3:]"
   ]
  },
  {
   "cell_type": "markdown",
   "metadata": {},
   "source": [
    "## collezioni\n",
    "- liste: [], indicizzate con gli interi 0...n, mutabili\n",
    "- tuple: (), indicizzate con gli interi 0...n, immutabili\n",
    "- dizionari: {}, indicizzati con le chiavi, mutabili"
   ]
  },
  {
   "cell_type": "code",
   "execution_count": 29,
   "metadata": {},
   "outputs": [
    {
     "data": {
      "text/plain": [
       "'123'"
      ]
     },
     "execution_count": 29,
     "metadata": {},
     "output_type": "execute_result"
    }
   ],
   "source": [
    "lista=[1,2,3]\n",
    "stringa=\"123\"\n",
    "stringa#le stringhe sono immutabili"
   ]
  },
  {
   "cell_type": "code",
   "execution_count": 24,
   "metadata": {},
   "outputs": [
    {
     "data": {
      "text/plain": [
       "[9, 2, 3]"
      ]
     },
     "execution_count": 24,
     "metadata": {},
     "output_type": "execute_result"
    }
   ],
   "source": [
    "lista[0]=9\n",
    "lista"
   ]
  },
  {
   "cell_type": "code",
   "execution_count": 30,
   "metadata": {},
   "outputs": [
    {
     "ename": "TypeError",
     "evalue": "'str' object does not support item assignment",
     "output_type": "error",
     "traceback": [
      "\u001b[0;31m---------------------------------------------------------------------------\u001b[0m",
      "\u001b[0;31mTypeError\u001b[0m                                 Traceback (most recent call last)",
      "\u001b[0;32m<ipython-input-30-43a3beb9bb6a>\u001b[0m in \u001b[0;36m<module>\u001b[0;34m\u001b[0m\n\u001b[0;32m----> 1\u001b[0;31m \u001b[0mstringa\u001b[0m\u001b[0;34m[\u001b[0m\u001b[0;36m0\u001b[0m\u001b[0;34m]\u001b[0m\u001b[0;34m=\u001b[0m\u001b[0;36m9\u001b[0m\u001b[0;34m\u001b[0m\u001b[0;34m\u001b[0m\u001b[0m\n\u001b[0m",
      "\u001b[0;31mTypeError\u001b[0m: 'str' object does not support item assignment"
     ]
    }
   ],
   "source": [
    "stringa[0]=9"
   ]
  },
  {
   "cell_type": "code",
   "execution_count": 31,
   "metadata": {},
   "outputs": [
    {
     "data": {
      "text/plain": [
       "'923'"
      ]
     },
     "execution_count": 31,
     "metadata": {},
     "output_type": "execute_result"
    }
   ],
   "source": [
    "stringa=\"9\"+stringa[1:]\n",
    "stringa"
   ]
  },
  {
   "cell_type": "code",
   "execution_count": 28,
   "metadata": {},
   "outputs": [
    {
     "data": {
      "text/plain": [
       "(9, 20)"
      ]
     },
     "execution_count": 28,
     "metadata": {},
     "output_type": "execute_result"
    }
   ],
   "source": [
    "def somma_prodotto(a,b):\n",
    "    return a+b, a*b\n",
    "\n",
    "risultato=somma_prodotto(4,5)\n",
    "risultato"
   ]
  },
  {
   "cell_type": "code",
   "execution_count": 32,
   "metadata": {},
   "outputs": [
    {
     "data": {
      "text/plain": [
       "9"
      ]
     },
     "execution_count": 32,
     "metadata": {},
     "output_type": "execute_result"
    }
   ],
   "source": [
    "risultato[0]"
   ]
  },
  {
   "cell_type": "code",
   "execution_count": 33,
   "metadata": {},
   "outputs": [
    {
     "data": {
      "text/plain": [
       "9"
      ]
     },
     "execution_count": 33,
     "metadata": {},
     "output_type": "execute_result"
    }
   ],
   "source": [
    "#spacchettare la tupla, la assegno a 2 variabili, ASSEGNAZIONE MULTIPLA\n",
    "somma, prodotto= risultato\n",
    "somma"
   ]
  },
  {
   "cell_type": "code",
   "execution_count": 35,
   "metadata": {},
   "outputs": [
    {
     "name": "stdout",
     "output_type": "stream",
     "text": [
      "2 1\n"
     ]
    }
   ],
   "source": [
    "#scambiare 2 variabili in python\n",
    "#algoritmo di scambio\n",
    "a,b=1,2\n",
    "a,b=b,a\n",
    "print(a,b)"
   ]
  },
  {
   "cell_type": "code",
   "execution_count": 37,
   "metadata": {},
   "outputs": [],
   "source": [
    "dizionario={\"a\":342,\"b\":543,\"c\":343}"
   ]
  },
  {
   "cell_type": "code",
   "execution_count": 39,
   "metadata": {},
   "outputs": [
    {
     "data": {
      "text/plain": [
       "342"
      ]
     },
     "execution_count": 39,
     "metadata": {},
     "output_type": "execute_result"
    }
   ],
   "source": [
    "dizionario[\"a\"]"
   ]
  },
  {
   "cell_type": "code",
   "execution_count": 40,
   "metadata": {},
   "outputs": [
    {
     "data": {
      "text/plain": [
       "{'a': 342, 'b': 543, 'c': 343}"
      ]
     },
     "execution_count": 40,
     "metadata": {},
     "output_type": "execute_result"
    }
   ],
   "source": [
    "dizionario\n"
   ]
  },
  {
   "cell_type": "markdown",
   "metadata": {},
   "source": [
    "## cicli for sulle liste"
   ]
  },
  {
   "cell_type": "code",
   "execution_count": 41,
   "metadata": {},
   "outputs": [],
   "source": [
    "lista=[12,34,\"ciao\",somma_prodotto]\n",
    "##questa lista funziona perchè in python tutto è un oggetto"
   ]
  },
  {
   "cell_type": "code",
   "execution_count": 42,
   "metadata": {},
   "outputs": [
    {
     "name": "stdout",
     "output_type": "stream",
     "text": [
      "12\n",
      "34\n",
      "ciao\n",
      "<function somma_prodotto at 0x7f2899d559d8>\n"
     ]
    }
   ],
   "source": [
    "#C-style\n",
    "for i in range(0, len(lista)):\n",
    "    print(lista[i])"
   ]
  },
  {
   "cell_type": "code",
   "execution_count": 43,
   "metadata": {},
   "outputs": [
    {
     "name": "stdout",
     "output_type": "stream",
     "text": [
      "12\n",
      "34\n",
      "ciao\n",
      "<function somma_prodotto at 0x7f2899d559d8>\n"
     ]
    }
   ],
   "source": [
    "#python-style\n",
    "for elemento in lista: \n",
    "    print(elemento)"
   ]
  },
  {
   "cell_type": "code",
   "execution_count": 44,
   "metadata": {},
   "outputs": [
    {
     "name": "stdout",
     "output_type": "stream",
     "text": [
      "in posizione 0 troviamo l'elemento 12\n",
      "in posizione 1 troviamo l'elemento 34\n",
      "in posizione 2 troviamo l'elemento ciao\n",
      "in posizione 3 troviamo l'elemento <function somma_prodotto at 0x7f2899d559d8>\n"
     ]
    }
   ],
   "source": [
    "#python-style con enumerate\n",
    "for indice, elemento in enumerate(lista):\n",
    "    print(f\"in posizione {indice} troviamo l'elemento {elemento}\")"
   ]
  },
  {
   "cell_type": "code",
   "execution_count": 45,
   "metadata": {},
   "outputs": [],
   "source": [
    "lista2=[100,101,102,103]"
   ]
  },
  {
   "cell_type": "code",
   "execution_count": 46,
   "metadata": {},
   "outputs": [
    {
     "name": "stdout",
     "output_type": "stream",
     "text": [
      "12  -  100\n",
      "34  -  101\n",
      "ciao  -  102\n",
      "<function somma_prodotto at 0x7f2899d559d8>  -  103\n"
     ]
    }
   ],
   "source": [
    "#c-style for su entrambe le liste\n",
    "for i in range(0,len(lista)):\n",
    "    print(f\"{lista[i]}  -  {lista2[i]}\")"
   ]
  },
  {
   "cell_type": "code",
   "execution_count": 48,
   "metadata": {},
   "outputs": [
    {
     "name": "stdout",
     "output_type": "stream",
     "text": [
      "12   -  100\n",
      "34   -  101\n",
      "ciao   -  102\n",
      "<function somma_prodotto at 0x7f2899d559d8>   -  103\n"
     ]
    }
   ],
   "source": [
    "#python-style ciclo for su entrambe le liste\n",
    "#zip prende le tue liste e le fa scorrere in parallelo, si ferma alla lung più breve se di lung diverse\n",
    "for elemento, elemento2 in zip(lista,lista2):\n",
    "    print(f\"{elemento}   -  {elemento2}\")"
   ]
  },
  {
   "cell_type": "markdown",
   "metadata": {},
   "source": [
    "## for sui dizionari"
   ]
  },
  {
   "cell_type": "code",
   "execution_count": 1,
   "metadata": {},
   "outputs": [],
   "source": [
    "d = {\"a\":[\"albero\",\"albergo\"],\"b\":[\"bello\"],\"c\":[\"ciao\",\"cellulare\"]}"
   ]
  },
  {
   "cell_type": "code",
   "execution_count": 3,
   "metadata": {},
   "outputs": [
    {
     "data": {
      "text/plain": [
       "{'a': ['albero', 'albergo'], 'b': ['bello'], 'c': ['ciao', 'cellulare']}"
      ]
     },
     "execution_count": 3,
     "metadata": {},
     "output_type": "execute_result"
    }
   ],
   "source": [
    "d"
   ]
  },
  {
   "cell_type": "markdown",
   "metadata": {},
   "source": [
    "#### ciclo for sulle chiavi"
   ]
  },
  {
   "cell_type": "code",
   "execution_count": 7,
   "metadata": {},
   "outputs": [
    {
     "name": "stdout",
     "output_type": "stream",
     "text": [
      "la chiave è a e il valore è ['albero', 'albergo']\n",
      "la chiave è b e il valore è ['bello']\n",
      "la chiave è c e il valore è ['ciao', 'cellulare']\n"
     ]
    }
   ],
   "source": [
    "for chiave in d:\n",
    "    print(f\"la chiave è {chiave} e il valore è {d[chiave]}\")"
   ]
  },
  {
   "cell_type": "markdown",
   "metadata": {},
   "source": [
    "#### ciclo for su chiavi e valori\n",
    "\n",
    "items restituisce gli oggetti come tupla"
   ]
  },
  {
   "cell_type": "code",
   "execution_count": 8,
   "metadata": {},
   "outputs": [
    {
     "name": "stdout",
     "output_type": "stream",
     "text": [
      "la chiave è a e il valore è ['albero', 'albergo']\n",
      "la chiave è b e il valore è ['bello']\n",
      "la chiave è c e il valore è ['ciao', 'cellulare']\n"
     ]
    }
   ],
   "source": [
    "for chiave, valore in d.items():\n",
    "    print(f\"la chiave è {chiave} e il valore è {valore}\")"
   ]
  },
  {
   "cell_type": "markdown",
   "metadata": {},
   "source": [
    "#### esercizio: la prima parola della lista per ciascuna iniziale"
   ]
  },
  {
   "cell_type": "code",
   "execution_count": 9,
   "metadata": {},
   "outputs": [
    {
     "name": "stdout",
     "output_type": "stream",
     "text": [
      "la prima parola della lista con iniziale a è: albero\n",
      "la prima parola della lista con iniziale b è: bello\n",
      "la prima parola della lista con iniziale c è: ciao\n"
     ]
    }
   ],
   "source": [
    "for chiave in d:\n",
    "    print(f\"la prima parola della lista con iniziale {chiave} è: {d[chiave][0]}\")"
   ]
  },
  {
   "cell_type": "markdown",
   "metadata": {},
   "source": [
    "gli indici multipli si usano molto per semplificare strutture di dati complessi"
   ]
  },
  {
   "cell_type": "markdown",
   "metadata": {},
   "source": [
    "## Lettura file\n",
    "richiamo il metodo readlines, questo mi ritorna una lista"
   ]
  },
  {
   "cell_type": "code",
   "execution_count": 9,
   "metadata": {},
   "outputs": [],
   "source": [
    "file=open(\"./file_di_testo.txt\",\"r\")\n",
    "righe=file.readlines()\n",
    "file.close()"
   ]
  },
  {
   "cell_type": "code",
   "execution_count": 10,
   "metadata": {},
   "outputs": [
    {
     "name": "stdout",
     "output_type": "stream",
     "text": [
      "riga 1\n",
      "questa Ã¨ la seconda riga\n",
      "ciau belo\n"
     ]
    }
   ],
   "source": [
    "for riga in righe:\n",
    "    print(riga[:-1])#.> in questo modo tolgo gli slash n, toglo l'ultimo carattere"
   ]
  },
  {
   "cell_type": "code",
   "execution_count": null,
   "metadata": {},
   "outputs": [],
   "source": []
  }
 ],
 "metadata": {
  "kernelspec": {
   "display_name": "Python 3 (ipykernel)",
   "language": "python",
   "name": "python3"
  },
  "language_info": {
   "codemirror_mode": {
    "name": "ipython",
    "version": 3
   },
   "file_extension": ".py",
   "mimetype": "text/x-python",
   "name": "python",
   "nbconvert_exporter": "python",
   "pygments_lexer": "ipython3",
   "version": "3.11.4"
  }
 },
 "nbformat": 4,
 "nbformat_minor": 2
}
