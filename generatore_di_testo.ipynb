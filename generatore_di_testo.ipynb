{
 "cells": [
  {
   "cell_type": "code",
   "execution_count": 4,
   "id": "335c8686",
   "metadata": {},
   "outputs": [],
   "source": [
    "import random"
   ]
  },
  {
   "cell_type": "code",
   "execution_count": 5,
   "id": "9028bbf5",
   "metadata": {},
   "outputs": [],
   "source": [
    "class TextGenerator():#-> dentro non metto nulla perchè non uso l'erederitarietà\n",
    "    \"\"\"\n",
    "    class TextGenerator:\n",
    "    \n",
    "    costruttore:\n",
    "        INPUT:\n",
    "            -filePath: percorso del file\n",
    "            -punteggiatura: lista dei caratteri indesiderati\n",
    "            \n",
    "    file_2_listaParole:\n",
    "        questo metodo converte il file di testo in una lista di parole eliminando i caratteri della lista punteggiatura\n",
    "        \n",
    "    listaParole_2_dizionario:\n",
    "        questo metodo converte la lista di parole in un dizionario in cui come chiave abbiamo tutte le parole che troviamo\n",
    "        nella lista e come valore tutte le sue successive\n",
    "        \n",
    "    textGenerato:\n",
    "        INPUT:\n",
    "            -parolaIniziale: inserire la parola da cui si vuole iniziare a generare\n",
    "            -lunghezza: inserire il numero di parole che deve contenere il testo\n",
    "            \n",
    "        OUTPUT:\n",
    "            -test: ritorna la stringa del testo generato\n",
    "            \n",
    "        questa funzione genera il testo in modo casuale in base al dizionario che crea il metodo precedente.\n",
    "        \n",
    "    \"\"\"\n",
    "    def __init__(self, filePath,punteggiatura):#costruttore\n",
    "        self.filePath=filePath\n",
    "        self.punteggiatura=punteggiatura\n",
    "        self.parole=[]\n",
    "        self.successivi={}\n",
    "        \n",
    "    def file_2_listaParole(self):\n",
    "        #non ritorna nulla\n",
    "        file=open(self.filePath,\"r\",encoding=\"utf-8\")\n",
    "        righe=file.readlines()\n",
    "        file.close()\n",
    "        righe_senza_return=[riga[:-1] for riga in righe if len(riga)>1]\n",
    "        #-> uniamo la lista in una stringa\n",
    "        libro=\" \".join(righe_senza_return).lower()\n",
    "        for carattere in self.punteggiatura:\n",
    "            libro=libro.replace(carattere,\" \")\n",
    "\n",
    "        self.parole=libro.split(\" \")\n",
    "        self.parole =[parola for parola in self.parole if len(parola)>0]\n",
    "    \n",
    "    def listaParole_2_dizionario(self):\n",
    "        #non ritorna nulla\n",
    "        for i in range(len(self.parole)):\n",
    "            #print(parole[i] in successivi)\n",
    "            if self.parole[i] in self.successivi:\n",
    "                if i<len(self.parole)-1:\n",
    "                    if self.parole[i+1] not in self.successivi[self.parole[i]]:\n",
    "                        #print(f\"parola {successivi[parole[i]]}, successiva: {parole[i+1]}\")\n",
    "                        self.successivi[self.parole[i]].append(self.parole[i+1])\n",
    "            else:\n",
    "                if i < len(self.parole) - 1:\n",
    "                    self.successivi[self.parole[i]]=[self.parole[i+1]]\n",
    "                #print(parole[i])\n",
    "    \n",
    "    def textGenerator(self, parolaIniziale, lunghezza):\n",
    "        #ritorna la stringa con il testo generato\n",
    "        testo=\"\"\n",
    "        while True:\n",
    "            if parolaIniziale in self.successivi:\n",
    "                for i in range(lunghezza):\n",
    "                    testo=testo+\" \"+parolaIniziale\n",
    "                    parolaIniziale=random.choice(self.successivi[parolaIniziale])\n",
    "\n",
    "\n",
    "                break\n",
    "\n",
    "            else:\n",
    "                print(f\"la parola {parolaIniziale} non è nel dizionario\")\n",
    "                \n",
    "        return testo\n",
    "        pass"
   ]
  },
  {
   "cell_type": "code",
   "execution_count": 6,
   "id": "91a6b667",
   "metadata": {},
   "outputs": [],
   "source": [
    "punteggiatura=[\",\",\";\",\".\",\":\",\"?\",\"!\",\"'\",\"(\",\")\",\"»\",\"«\",\"*\",\"-\"]\n",
    "textGenerator=TextGenerator(\"./sei_personaggi_in_cerca_dautore_Luigi_Pirandello.txt\",punteggiatura)"
   ]
  },
  {
   "cell_type": "code",
   "execution_count": 7,
   "id": "cface570",
   "metadata": {},
   "outputs": [
    {
     "name": "stdout",
     "output_type": "stream",
     "text": [
      " il valore ma d accordo con tono si possano dir forte ai personaggi son questi il tono di socrate al levarsi della prima il mantello soltanto per votarmi il timore e robusto a parlare col volto ora come crescevo il trovarobe e vediamo di vendere robes et manteaux attirano nei loro ufficio dar loro mestiere gli assi d uno sguardo d averli pronti a interessarsi vivamente stiamo facendo una sedia a vivere in tanti secondo tutte quelle bestie senza poter facilmente e reale di credere un pasticcetto romantico sentimentale con perfida grazia di nascosto e lancerà un bel padre le mutandine più come un quarto d intenderci signore vorrei farlo\n"
     ]
    }
   ],
   "source": [
    "textGenerator.file_2_listaParole()\n",
    "textGenerator.listaParole_2_dizionario()\n",
    "print(textGenerator.textGenerator(\"il\",110))"
   ]
  },
  {
   "cell_type": "code",
   "execution_count": 8,
   "id": "77e08e07",
   "metadata": {},
   "outputs": [],
   "source": [
    "textGenerator?"
   ]
  },
  {
   "cell_type": "code",
   "execution_count": null,
   "id": "8b4cbc88",
   "metadata": {},
   "outputs": [],
   "source": []
  }
 ],
 "metadata": {
  "kernelspec": {
   "display_name": "Python 3 (ipykernel)",
   "language": "python",
   "name": "python3"
  },
  "language_info": {
   "codemirror_mode": {
    "name": "ipython",
    "version": 3
   },
   "file_extension": ".py",
   "mimetype": "text/x-python",
   "name": "python",
   "nbconvert_exporter": "python",
   "pygments_lexer": "ipython3",
   "version": "3.11.4"
  }
 },
 "nbformat": 4,
 "nbformat_minor": 5
}
